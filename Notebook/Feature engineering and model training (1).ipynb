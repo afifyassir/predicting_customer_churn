{
 "cells": [
  {
   "cell_type": "markdown",
   "metadata": {},
   "source": [
    "# Structure of the notebook \n",
    "\n",
    "### I. Feature engineering.\n",
    "\n",
    "#### 1) Difference between off-peak prices in December and preceding January.\n",
    "#### 2). Getting time related features.\n",
    "#### 3). Getting consumption based features.\n",
    "\n",
    "### II. Choosing the evaluation metric and treatment of outliers..\n",
    "\n",
    "#### 1). The choice of the evaluation metric.\n",
    "#### 2). Handling outliers.\n",
    "\n",
    "###  III. Correlation based feature selection.\n",
    "\n",
    "###  IV. Tuning and training the Random Forest model.\n",
    "\n",
    "#### 1). The reasons why the Random Forest model is a good choice for our case.\n",
    "#### 2). Tuning and training the model.\n",
    "#### 3). Evaluating of the model.\n",
    "\n",
    "### V. Model interpretation using SHAP\n",
    "\n",
    "\n",
    "\n",
    "\n"
   ]
  },
  {
   "cell_type": "markdown",
   "metadata": {},
   "source": [
    " "
   ]
  },
  {
   "cell_type": "code",
   "execution_count": 3,
   "metadata": {
    "id": "qLHsMX9iKUj4"
   },
   "outputs": [],
   "source": [
    "import pandas as pd\n",
    "import numpy as np \n",
    "import seaborn as sns \n",
    "import matplotlib.pyplot as plt\n",
    "from sklearn.ensemble import RandomForestClassifier\n",
    "from sklearn.model_selection import cross_val_score, train_test_split\n",
    "from sklearn.pipeline import Pipeline\n",
    "from sklearn.compose import ColumnTransformer\n",
    "from sklearn.preprocessing import StandardScaler, MinMaxScaler, RobustScaler\n",
    "from sklearn.feature_selection import SelectKBest, mutual_info_classif\n",
    "from sklearn.metrics import confusion_matrix, ConfusionMatrixDisplay, classification_report\n",
    "from feature_engine.encoding import OneHotEncoder\n",
    "from feature_engine.encoding import OrdinalEncoder\n",
    "from feature_engine.encoding import CountFrequencyEncoder\n",
    "from feature_engine.encoding import MeanEncoder\n",
    "from feature_engine.encoding import PRatioEncoder\n",
    "from feature_engine.selection import DropConstantFeatures, DropDuplicateFeatures, SmartCorrelatedSelection\n",
    "from feature_engine.wrappers import SklearnTransformerWrapper\n",
    "import optuna\n",
    "import shap\n",
    "import pickle\n"
   ]
  },
  {
   "cell_type": "code",
   "execution_count": 4,
   "metadata": {
    "id": "iTGEPqJpKepD"
   },
   "outputs": [],
   "source": [
    "df = pd.read_csv('clean_data_after_eda.csv')\n",
    "df[\"date_activ\"] = pd.to_datetime(df[\"date_activ\"], format='%Y-%m-%d')\n",
    "df[\"date_end\"] = pd.to_datetime(df[\"date_end\"], format='%Y-%m-%d')\n",
    "df[\"date_modif_prod\"] = pd.to_datetime(df[\"date_modif_prod\"], format='%Y-%m-%d')\n",
    "df[\"date_renewal\"] = pd.to_datetime(df[\"date_renewal\"], format='%Y-%m-%d')"
   ]
  },
  {
   "cell_type": "code",
   "execution_count": 5,
   "metadata": {
    "colab": {
     "base_uri": "https://localhost:8080/",
     "height": 306
    },
    "id": "ddWC59g9NV-K",
    "outputId": "efa49dd7-e9cb-407e-cd28-9e38759bcc59"
   },
   "outputs": [
    {
     "data": {
      "text/html": [
       "<div>\n",
       "<style scoped>\n",
       "    .dataframe tbody tr th:only-of-type {\n",
       "        vertical-align: middle;\n",
       "    }\n",
       "\n",
       "    .dataframe tbody tr th {\n",
       "        vertical-align: top;\n",
       "    }\n",
       "\n",
       "    .dataframe thead th {\n",
       "        text-align: right;\n",
       "    }\n",
       "</style>\n",
       "<table border=\"1\" class=\"dataframe\">\n",
       "  <thead>\n",
       "    <tr style=\"text-align: right;\">\n",
       "      <th></th>\n",
       "      <th>Unnamed: 0</th>\n",
       "      <th>id</th>\n",
       "      <th>cons_12m</th>\n",
       "      <th>cons_gas_12m</th>\n",
       "      <th>cons_last_month</th>\n",
       "      <th>date_activ</th>\n",
       "      <th>date_end</th>\n",
       "      <th>date_modif_prod</th>\n",
       "      <th>date_renewal</th>\n",
       "      <th>forecast_cons_12m</th>\n",
       "      <th>...</th>\n",
       "      <th>churn</th>\n",
       "      <th>price_off_peak_var</th>\n",
       "      <th>price_peak_var</th>\n",
       "      <th>price_mid_peak_var</th>\n",
       "      <th>price_off_peak_fix</th>\n",
       "      <th>price_peak_fix</th>\n",
       "      <th>price_mid_peak_fix</th>\n",
       "      <th>forcasted_price</th>\n",
       "      <th>previous_price</th>\n",
       "      <th>price_sens</th>\n",
       "    </tr>\n",
       "  </thead>\n",
       "  <tbody>\n",
       "    <tr>\n",
       "      <th>0</th>\n",
       "      <td>0</td>\n",
       "      <td>24011ae4ebbe3035111d65fa7c15bc57</td>\n",
       "      <td>0</td>\n",
       "      <td>54946</td>\n",
       "      <td>0</td>\n",
       "      <td>2013-06-15</td>\n",
       "      <td>2016-06-15</td>\n",
       "      <td>2015-11-01</td>\n",
       "      <td>2015-06-23</td>\n",
       "      <td>0.00</td>\n",
       "      <td>...</td>\n",
       "      <td>1</td>\n",
       "      <td>0.124787</td>\n",
       "      <td>0.100749</td>\n",
       "      <td>0.06653</td>\n",
       "      <td>40.942265</td>\n",
       "      <td>22.35201</td>\n",
       "      <td>14.90134</td>\n",
       "      <td>0.106312</td>\n",
       "      <td>0.112768</td>\n",
       "      <td>NaN</td>\n",
       "    </tr>\n",
       "    <tr>\n",
       "      <th>1</th>\n",
       "      <td>1</td>\n",
       "      <td>d29c2c54acc38ff3c0614d0a653813dd</td>\n",
       "      <td>4660</td>\n",
       "      <td>0</td>\n",
       "      <td>0</td>\n",
       "      <td>2009-08-21</td>\n",
       "      <td>2016-08-30</td>\n",
       "      <td>2009-08-21</td>\n",
       "      <td>2015-08-31</td>\n",
       "      <td>189.95</td>\n",
       "      <td>...</td>\n",
       "      <td>0</td>\n",
       "      <td>0.149609</td>\n",
       "      <td>0.007124</td>\n",
       "      <td>0.00000</td>\n",
       "      <td>44.311375</td>\n",
       "      <td>0.00000</td>\n",
       "      <td>0.00000</td>\n",
       "      <td>0.072855</td>\n",
       "      <td>0.078366</td>\n",
       "      <td>13.640956</td>\n",
       "    </tr>\n",
       "    <tr>\n",
       "      <th>2</th>\n",
       "      <td>2</td>\n",
       "      <td>764c75f661154dac3a6c254cd082ea7d</td>\n",
       "      <td>544</td>\n",
       "      <td>0</td>\n",
       "      <td>0</td>\n",
       "      <td>2010-04-16</td>\n",
       "      <td>2016-04-16</td>\n",
       "      <td>2010-04-16</td>\n",
       "      <td>2015-04-17</td>\n",
       "      <td>47.96</td>\n",
       "      <td>...</td>\n",
       "      <td>0</td>\n",
       "      <td>0.170512</td>\n",
       "      <td>0.088421</td>\n",
       "      <td>0.00000</td>\n",
       "      <td>44.385450</td>\n",
       "      <td>0.00000</td>\n",
       "      <td>0.00000</td>\n",
       "      <td>0.126847</td>\n",
       "      <td>0.129466</td>\n",
       "      <td>45.058910</td>\n",
       "    </tr>\n",
       "  </tbody>\n",
       "</table>\n",
       "<p>3 rows × 35 columns</p>\n",
       "</div>"
      ],
      "text/plain": [
       "   Unnamed: 0                                id  cons_12m  cons_gas_12m  \\\n",
       "0           0  24011ae4ebbe3035111d65fa7c15bc57         0         54946   \n",
       "1           1  d29c2c54acc38ff3c0614d0a653813dd      4660             0   \n",
       "2           2  764c75f661154dac3a6c254cd082ea7d       544             0   \n",
       "\n",
       "   cons_last_month date_activ   date_end date_modif_prod date_renewal  \\\n",
       "0                0 2013-06-15 2016-06-15      2015-11-01   2015-06-23   \n",
       "1                0 2009-08-21 2016-08-30      2009-08-21   2015-08-31   \n",
       "2                0 2010-04-16 2016-04-16      2010-04-16   2015-04-17   \n",
       "\n",
       "   forecast_cons_12m  ...  churn  price_off_peak_var  price_peak_var  \\\n",
       "0               0.00  ...      1            0.124787        0.100749   \n",
       "1             189.95  ...      0            0.149609        0.007124   \n",
       "2              47.96  ...      0            0.170512        0.088421   \n",
       "\n",
       "   price_mid_peak_var  price_off_peak_fix  price_peak_fix price_mid_peak_fix  \\\n",
       "0             0.06653           40.942265        22.35201           14.90134   \n",
       "1             0.00000           44.311375         0.00000            0.00000   \n",
       "2             0.00000           44.385450         0.00000            0.00000   \n",
       "\n",
       "   forcasted_price  previous_price  price_sens  \n",
       "0         0.106312        0.112768         NaN  \n",
       "1         0.072855        0.078366   13.640956  \n",
       "2         0.126847        0.129466   45.058910  \n",
       "\n",
       "[3 rows x 35 columns]"
      ]
     },
     "execution_count": 5,
     "metadata": {},
     "output_type": "execute_result"
    }
   ],
   "source": [
    "df.head(3)"
   ]
  },
  {
   "cell_type": "code",
   "execution_count": 6,
   "metadata": {
    "colab": {
     "base_uri": "https://localhost:8080/",
     "height": 386
    },
    "id": "gclAypWsOGgW",
    "outputId": "4f2149d2-8973-4e7d-b9aa-64eb937bf0e8"
   },
   "outputs": [
    {
     "data": {
      "text/html": [
       "<div>\n",
       "<style scoped>\n",
       "    .dataframe tbody tr th:only-of-type {\n",
       "        vertical-align: middle;\n",
       "    }\n",
       "\n",
       "    .dataframe tbody tr th {\n",
       "        vertical-align: top;\n",
       "    }\n",
       "\n",
       "    .dataframe thead th {\n",
       "        text-align: right;\n",
       "    }\n",
       "</style>\n",
       "<table border=\"1\" class=\"dataframe\">\n",
       "  <thead>\n",
       "    <tr style=\"text-align: right;\">\n",
       "      <th></th>\n",
       "      <th>id</th>\n",
       "      <th>cons_12m</th>\n",
       "      <th>cons_gas_12m</th>\n",
       "      <th>cons_last_month</th>\n",
       "      <th>date_activ</th>\n",
       "      <th>date_end</th>\n",
       "      <th>date_modif_prod</th>\n",
       "      <th>date_renewal</th>\n",
       "      <th>forecast_cons_12m</th>\n",
       "      <th>forecast_cons_year</th>\n",
       "      <th>...</th>\n",
       "      <th>churn</th>\n",
       "      <th>price_off_peak_var</th>\n",
       "      <th>price_peak_var</th>\n",
       "      <th>price_mid_peak_var</th>\n",
       "      <th>price_off_peak_fix</th>\n",
       "      <th>price_peak_fix</th>\n",
       "      <th>price_mid_peak_fix</th>\n",
       "      <th>forcasted_price</th>\n",
       "      <th>previous_price</th>\n",
       "      <th>price_sens</th>\n",
       "    </tr>\n",
       "  </thead>\n",
       "  <tbody>\n",
       "    <tr>\n",
       "      <th>0</th>\n",
       "      <td>24011ae4ebbe3035111d65fa7c15bc57</td>\n",
       "      <td>0</td>\n",
       "      <td>54946</td>\n",
       "      <td>0</td>\n",
       "      <td>2013-06-15</td>\n",
       "      <td>2016-06-15</td>\n",
       "      <td>2015-11-01</td>\n",
       "      <td>2015-06-23</td>\n",
       "      <td>0.00</td>\n",
       "      <td>0</td>\n",
       "      <td>...</td>\n",
       "      <td>1</td>\n",
       "      <td>0.124787</td>\n",
       "      <td>0.100749</td>\n",
       "      <td>0.066530</td>\n",
       "      <td>40.942265</td>\n",
       "      <td>22.352010</td>\n",
       "      <td>14.901340</td>\n",
       "      <td>0.106312</td>\n",
       "      <td>0.112768</td>\n",
       "      <td>NaN</td>\n",
       "    </tr>\n",
       "    <tr>\n",
       "      <th>1</th>\n",
       "      <td>d29c2c54acc38ff3c0614d0a653813dd</td>\n",
       "      <td>4660</td>\n",
       "      <td>0</td>\n",
       "      <td>0</td>\n",
       "      <td>2009-08-21</td>\n",
       "      <td>2016-08-30</td>\n",
       "      <td>2009-08-21</td>\n",
       "      <td>2015-08-31</td>\n",
       "      <td>189.95</td>\n",
       "      <td>0</td>\n",
       "      <td>...</td>\n",
       "      <td>0</td>\n",
       "      <td>0.149609</td>\n",
       "      <td>0.007124</td>\n",
       "      <td>0.000000</td>\n",
       "      <td>44.311375</td>\n",
       "      <td>0.000000</td>\n",
       "      <td>0.000000</td>\n",
       "      <td>0.072855</td>\n",
       "      <td>0.078366</td>\n",
       "      <td>13.640956</td>\n",
       "    </tr>\n",
       "    <tr>\n",
       "      <th>2</th>\n",
       "      <td>764c75f661154dac3a6c254cd082ea7d</td>\n",
       "      <td>544</td>\n",
       "      <td>0</td>\n",
       "      <td>0</td>\n",
       "      <td>2010-04-16</td>\n",
       "      <td>2016-04-16</td>\n",
       "      <td>2010-04-16</td>\n",
       "      <td>2015-04-17</td>\n",
       "      <td>47.96</td>\n",
       "      <td>0</td>\n",
       "      <td>...</td>\n",
       "      <td>0</td>\n",
       "      <td>0.170512</td>\n",
       "      <td>0.088421</td>\n",
       "      <td>0.000000</td>\n",
       "      <td>44.385450</td>\n",
       "      <td>0.000000</td>\n",
       "      <td>0.000000</td>\n",
       "      <td>0.126847</td>\n",
       "      <td>0.129466</td>\n",
       "      <td>45.058910</td>\n",
       "    </tr>\n",
       "    <tr>\n",
       "      <th>3</th>\n",
       "      <td>bba03439a292a1e166f80264c16191cb</td>\n",
       "      <td>1584</td>\n",
       "      <td>0</td>\n",
       "      <td>0</td>\n",
       "      <td>2010-03-30</td>\n",
       "      <td>2016-03-30</td>\n",
       "      <td>2010-03-30</td>\n",
       "      <td>2015-03-31</td>\n",
       "      <td>240.04</td>\n",
       "      <td>0</td>\n",
       "      <td>...</td>\n",
       "      <td>0</td>\n",
       "      <td>0.151210</td>\n",
       "      <td>0.000000</td>\n",
       "      <td>0.000000</td>\n",
       "      <td>44.400265</td>\n",
       "      <td>0.000000</td>\n",
       "      <td>0.000000</td>\n",
       "      <td>0.073347</td>\n",
       "      <td>0.075605</td>\n",
       "      <td>28.408609</td>\n",
       "    </tr>\n",
       "    <tr>\n",
       "      <th>4</th>\n",
       "      <td>149d57cf92fc41cf94415803a877cb4b</td>\n",
       "      <td>4425</td>\n",
       "      <td>0</td>\n",
       "      <td>526</td>\n",
       "      <td>2010-01-13</td>\n",
       "      <td>2016-03-07</td>\n",
       "      <td>2010-01-13</td>\n",
       "      <td>2015-03-09</td>\n",
       "      <td>445.75</td>\n",
       "      <td>526</td>\n",
       "      <td>...</td>\n",
       "      <td>0</td>\n",
       "      <td>0.124174</td>\n",
       "      <td>0.103638</td>\n",
       "      <td>0.072865</td>\n",
       "      <td>40.688156</td>\n",
       "      <td>24.412893</td>\n",
       "      <td>16.275263</td>\n",
       "      <td>0.108457</td>\n",
       "      <td>0.113906</td>\n",
       "      <td>18.799168</td>\n",
       "    </tr>\n",
       "  </tbody>\n",
       "</table>\n",
       "<p>5 rows × 34 columns</p>\n",
       "</div>"
      ],
      "text/plain": [
       "                                 id  cons_12m  cons_gas_12m  cons_last_month  \\\n",
       "0  24011ae4ebbe3035111d65fa7c15bc57         0         54946                0   \n",
       "1  d29c2c54acc38ff3c0614d0a653813dd      4660             0                0   \n",
       "2  764c75f661154dac3a6c254cd082ea7d       544             0                0   \n",
       "3  bba03439a292a1e166f80264c16191cb      1584             0                0   \n",
       "4  149d57cf92fc41cf94415803a877cb4b      4425             0              526   \n",
       "\n",
       "  date_activ   date_end date_modif_prod date_renewal  forecast_cons_12m  \\\n",
       "0 2013-06-15 2016-06-15      2015-11-01   2015-06-23               0.00   \n",
       "1 2009-08-21 2016-08-30      2009-08-21   2015-08-31             189.95   \n",
       "2 2010-04-16 2016-04-16      2010-04-16   2015-04-17              47.96   \n",
       "3 2010-03-30 2016-03-30      2010-03-30   2015-03-31             240.04   \n",
       "4 2010-01-13 2016-03-07      2010-01-13   2015-03-09             445.75   \n",
       "\n",
       "   forecast_cons_year  ...  churn  price_off_peak_var  price_peak_var  \\\n",
       "0                   0  ...      1            0.124787        0.100749   \n",
       "1                   0  ...      0            0.149609        0.007124   \n",
       "2                   0  ...      0            0.170512        0.088421   \n",
       "3                   0  ...      0            0.151210        0.000000   \n",
       "4                 526  ...      0            0.124174        0.103638   \n",
       "\n",
       "   price_mid_peak_var  price_off_peak_fix price_peak_fix  price_mid_peak_fix  \\\n",
       "0            0.066530           40.942265      22.352010           14.901340   \n",
       "1            0.000000           44.311375       0.000000            0.000000   \n",
       "2            0.000000           44.385450       0.000000            0.000000   \n",
       "3            0.000000           44.400265       0.000000            0.000000   \n",
       "4            0.072865           40.688156      24.412893           16.275263   \n",
       "\n",
       "   forcasted_price  previous_price  price_sens  \n",
       "0         0.106312        0.112768         NaN  \n",
       "1         0.072855        0.078366   13.640956  \n",
       "2         0.126847        0.129466   45.058910  \n",
       "3         0.073347        0.075605   28.408609  \n",
       "4         0.108457        0.113906   18.799168  \n",
       "\n",
       "[5 rows x 34 columns]"
      ]
     },
     "execution_count": 6,
     "metadata": {},
     "output_type": "execute_result"
    }
   ],
   "source": [
    "df = df.drop('Unnamed: 0', axis=1)\n",
    "df.head()"
   ]
  },
  {
   "cell_type": "markdown",
   "metadata": {
    "id": "ZdHM5Q1MOPj6"
   },
   "source": [
    "### I. Feature engineering\n",
    "\n",
    "#### 1). Difference between off-peak prices in December and preceding January\n"
   ]
  },
  {
   "cell_type": "code",
   "execution_count": 7,
   "metadata": {
    "colab": {
     "base_uri": "https://localhost:8080/",
     "height": 270
    },
    "id": "Q03l5QsROoi-",
    "outputId": "9f4df3a8-d3eb-4dfe-b298-25fd1f2417dd"
   },
   "outputs": [
    {
     "data": {
      "text/html": [
       "<div>\n",
       "<style scoped>\n",
       "    .dataframe tbody tr th:only-of-type {\n",
       "        vertical-align: middle;\n",
       "    }\n",
       "\n",
       "    .dataframe tbody tr th {\n",
       "        vertical-align: top;\n",
       "    }\n",
       "\n",
       "    .dataframe thead th {\n",
       "        text-align: right;\n",
       "    }\n",
       "</style>\n",
       "<table border=\"1\" class=\"dataframe\">\n",
       "  <thead>\n",
       "    <tr style=\"text-align: right;\">\n",
       "      <th></th>\n",
       "      <th>id</th>\n",
       "      <th>price_date</th>\n",
       "      <th>price_off_peak_var</th>\n",
       "      <th>price_peak_var</th>\n",
       "      <th>price_mid_peak_var</th>\n",
       "      <th>price_off_peak_fix</th>\n",
       "      <th>price_peak_fix</th>\n",
       "      <th>price_mid_peak_fix</th>\n",
       "    </tr>\n",
       "  </thead>\n",
       "  <tbody>\n",
       "    <tr>\n",
       "      <th>0</th>\n",
       "      <td>038af19179925da21a25619c5a24b745</td>\n",
       "      <td>2015-01-01</td>\n",
       "      <td>0.151367</td>\n",
       "      <td>0.0</td>\n",
       "      <td>0.0</td>\n",
       "      <td>44.266931</td>\n",
       "      <td>0.0</td>\n",
       "      <td>0.0</td>\n",
       "    </tr>\n",
       "    <tr>\n",
       "      <th>1</th>\n",
       "      <td>038af19179925da21a25619c5a24b745</td>\n",
       "      <td>2015-02-01</td>\n",
       "      <td>0.151367</td>\n",
       "      <td>0.0</td>\n",
       "      <td>0.0</td>\n",
       "      <td>44.266931</td>\n",
       "      <td>0.0</td>\n",
       "      <td>0.0</td>\n",
       "    </tr>\n",
       "    <tr>\n",
       "      <th>2</th>\n",
       "      <td>038af19179925da21a25619c5a24b745</td>\n",
       "      <td>2015-03-01</td>\n",
       "      <td>0.151367</td>\n",
       "      <td>0.0</td>\n",
       "      <td>0.0</td>\n",
       "      <td>44.266931</td>\n",
       "      <td>0.0</td>\n",
       "      <td>0.0</td>\n",
       "    </tr>\n",
       "    <tr>\n",
       "      <th>3</th>\n",
       "      <td>038af19179925da21a25619c5a24b745</td>\n",
       "      <td>2015-04-01</td>\n",
       "      <td>0.149626</td>\n",
       "      <td>0.0</td>\n",
       "      <td>0.0</td>\n",
       "      <td>44.266931</td>\n",
       "      <td>0.0</td>\n",
       "      <td>0.0</td>\n",
       "    </tr>\n",
       "    <tr>\n",
       "      <th>4</th>\n",
       "      <td>038af19179925da21a25619c5a24b745</td>\n",
       "      <td>2015-05-01</td>\n",
       "      <td>0.149626</td>\n",
       "      <td>0.0</td>\n",
       "      <td>0.0</td>\n",
       "      <td>44.266931</td>\n",
       "      <td>0.0</td>\n",
       "      <td>0.0</td>\n",
       "    </tr>\n",
       "  </tbody>\n",
       "</table>\n",
       "</div>"
      ],
      "text/plain": [
       "                                 id price_date  price_off_peak_var  \\\n",
       "0  038af19179925da21a25619c5a24b745 2015-01-01            0.151367   \n",
       "1  038af19179925da21a25619c5a24b745 2015-02-01            0.151367   \n",
       "2  038af19179925da21a25619c5a24b745 2015-03-01            0.151367   \n",
       "3  038af19179925da21a25619c5a24b745 2015-04-01            0.149626   \n",
       "4  038af19179925da21a25619c5a24b745 2015-05-01            0.149626   \n",
       "\n",
       "   price_peak_var  price_mid_peak_var  price_off_peak_fix  price_peak_fix  \\\n",
       "0             0.0                 0.0           44.266931             0.0   \n",
       "1             0.0                 0.0           44.266931             0.0   \n",
       "2             0.0                 0.0           44.266931             0.0   \n",
       "3             0.0                 0.0           44.266931             0.0   \n",
       "4             0.0                 0.0           44.266931             0.0   \n",
       "\n",
       "   price_mid_peak_fix  \n",
       "0                 0.0  \n",
       "1                 0.0  \n",
       "2                 0.0  \n",
       "3                 0.0  \n",
       "4                 0.0  "
      ]
     },
     "execution_count": 7,
     "metadata": {},
     "output_type": "execute_result"
    }
   ],
   "source": [
    "price_df = pd.read_csv('price_data.csv')\n",
    "price_df[\"price_date\"] = pd.to_datetime(price_df[\"price_date\"], format='%Y-%m-%d')\n",
    "price_df.head()"
   ]
  },
  {
   "cell_type": "code",
   "execution_count": 8,
   "metadata": {
    "colab": {
     "base_uri": "https://localhost:8080/"
    },
    "id": "z1XVCviFOvg1",
    "outputId": "64477797-8a7f-48b8-a40f-41e8c1a3527a"
   },
   "outputs": [
    {
     "name": "stdout",
     "output_type": "stream",
     "text": [
      "<class 'pandas.core.frame.DataFrame'>\n",
      "RangeIndex: 14542 entries, 0 to 14541\n",
      "Data columns (total 34 columns):\n",
      " #   Column                          Non-Null Count  Dtype         \n",
      "---  ------                          --------------  -----         \n",
      " 0   id                              14542 non-null  object        \n",
      " 1   cons_12m                        14542 non-null  int64         \n",
      " 2   cons_gas_12m                    14542 non-null  int64         \n",
      " 3   cons_last_month                 14542 non-null  int64         \n",
      " 4   date_activ                      14542 non-null  datetime64[ns]\n",
      " 5   date_end                        14542 non-null  datetime64[ns]\n",
      " 6   date_modif_prod                 14542 non-null  datetime64[ns]\n",
      " 7   date_renewal                    14542 non-null  datetime64[ns]\n",
      " 8   forecast_cons_12m               14542 non-null  float64       \n",
      " 9   forecast_cons_year              14542 non-null  int64         \n",
      " 10  forecast_discount_energy        14542 non-null  float64       \n",
      " 11  forecast_meter_rent_12m         14542 non-null  float64       \n",
      " 12  forecast_price_energy_off_peak  14542 non-null  float64       \n",
      " 13  forecast_price_energy_peak      14542 non-null  float64       \n",
      " 14  forecast_price_pow_off_peak     14542 non-null  float64       \n",
      " 15  has_gas                         14542 non-null  object        \n",
      " 16  imp_cons                        14542 non-null  float64       \n",
      " 17  margin_gross_pow_ele            14542 non-null  float64       \n",
      " 18  margin_net_pow_ele              14542 non-null  float64       \n",
      " 19  nb_prod_act                     14542 non-null  int64         \n",
      " 20  net_margin                      14542 non-null  float64       \n",
      " 21  num_years_antig                 14542 non-null  int64         \n",
      " 22  origin_up                       14542 non-null  object        \n",
      " 23  pow_max                         14542 non-null  float64       \n",
      " 24  churn                           14542 non-null  int64         \n",
      " 25  price_off_peak_var              14542 non-null  float64       \n",
      " 26  price_peak_var                  14542 non-null  float64       \n",
      " 27  price_mid_peak_var              14542 non-null  float64       \n",
      " 28  price_off_peak_fix              14542 non-null  float64       \n",
      " 29  price_peak_fix                  14542 non-null  float64       \n",
      " 30  price_mid_peak_fix              14542 non-null  float64       \n",
      " 31  forcasted_price                 14542 non-null  float64       \n",
      " 32  previous_price                  14542 non-null  float64       \n",
      " 33  price_sens                      14425 non-null  float64       \n",
      "dtypes: datetime64[ns](4), float64(20), int64(7), object(3)\n",
      "memory usage: 3.8+ MB\n"
     ]
    }
   ],
   "source": [
    "df.info()"
   ]
  },
  {
   "cell_type": "code",
   "execution_count": 9,
   "metadata": {
    "colab": {
     "base_uri": "https://localhost:8080/",
     "height": 250
    },
    "id": "spYE4CkiO1p2",
    "outputId": "3a08bb19-4913-4fd1-bba8-2615081068b9",
    "scrolled": true
   },
   "outputs": [
    {
     "data": {
      "text/html": [
       "<div>\n",
       "<style scoped>\n",
       "    .dataframe tbody tr th:only-of-type {\n",
       "        vertical-align: middle;\n",
       "    }\n",
       "\n",
       "    .dataframe tbody tr th {\n",
       "        vertical-align: top;\n",
       "    }\n",
       "\n",
       "    .dataframe thead th {\n",
       "        text-align: right;\n",
       "    }\n",
       "</style>\n",
       "<table border=\"1\" class=\"dataframe\">\n",
       "  <thead>\n",
       "    <tr style=\"text-align: right;\">\n",
       "      <th></th>\n",
       "      <th>id</th>\n",
       "      <th>offpeak_diff_dec_january_energy</th>\n",
       "      <th>offpeak_diff_dec_january_power</th>\n",
       "    </tr>\n",
       "  </thead>\n",
       "  <tbody>\n",
       "    <tr>\n",
       "      <th>0</th>\n",
       "      <td>0002203ffbb812588b632b9e628cc38d</td>\n",
       "      <td>-0.006192</td>\n",
       "      <td>0.162916</td>\n",
       "    </tr>\n",
       "    <tr>\n",
       "      <th>1</th>\n",
       "      <td>0004351ebdd665e6ee664792efc4fd13</td>\n",
       "      <td>-0.004104</td>\n",
       "      <td>0.177779</td>\n",
       "    </tr>\n",
       "    <tr>\n",
       "      <th>2</th>\n",
       "      <td>0010bcc39e42b3c2131ed2ce55246e3c</td>\n",
       "      <td>0.050443</td>\n",
       "      <td>1.500000</td>\n",
       "    </tr>\n",
       "    <tr>\n",
       "      <th>3</th>\n",
       "      <td>0010ee3855fdea87602a5b7aba8e42de</td>\n",
       "      <td>-0.010018</td>\n",
       "      <td>0.162916</td>\n",
       "    </tr>\n",
       "    <tr>\n",
       "      <th>4</th>\n",
       "      <td>00114d74e963e47177db89bc70108537</td>\n",
       "      <td>-0.003994</td>\n",
       "      <td>-0.000001</td>\n",
       "    </tr>\n",
       "  </tbody>\n",
       "</table>\n",
       "</div>"
      ],
      "text/plain": [
       "                                 id  offpeak_diff_dec_january_energy  \\\n",
       "0  0002203ffbb812588b632b9e628cc38d                        -0.006192   \n",
       "1  0004351ebdd665e6ee664792efc4fd13                        -0.004104   \n",
       "2  0010bcc39e42b3c2131ed2ce55246e3c                         0.050443   \n",
       "3  0010ee3855fdea87602a5b7aba8e42de                        -0.010018   \n",
       "4  00114d74e963e47177db89bc70108537                        -0.003994   \n",
       "\n",
       "   offpeak_diff_dec_january_power  \n",
       "0                        0.162916  \n",
       "1                        0.177779  \n",
       "2                        1.500000  \n",
       "3                        0.162916  \n",
       "4                       -0.000001  "
      ]
     },
     "execution_count": 9,
     "metadata": {},
     "output_type": "execute_result"
    }
   ],
   "source": [
    "# Group off-peak prices by companies and month\n",
    "monthly_price_by_id = price_df.groupby(['id', 'price_date']).agg({'price_off_peak_var': 'mean', 'price_off_peak_fix': 'mean'}).reset_index()\n",
    "\n",
    "# Get january and december prices\n",
    "jan_prices = monthly_price_by_id.groupby('id').first().reset_index()\n",
    "dec_prices = monthly_price_by_id.groupby('id').last().reset_index()\n",
    "\n",
    "# Calculate the difference\n",
    "diff = pd.merge(dec_prices.rename(columns={'price_off_peak_var': 'dec_1', 'price_off_peak_fix': 'dec_2'}), jan_prices.drop(columns='price_date'), on='id')\n",
    "diff['offpeak_diff_dec_january_energy'] = diff['dec_1'] - diff['price_off_peak_var']\n",
    "diff['offpeak_diff_dec_january_power'] = diff['dec_2'] - diff['price_off_peak_fix']\n",
    "diff = diff[['id', 'offpeak_diff_dec_january_energy','offpeak_diff_dec_january_power']]\n",
    "diff.head()"
   ]
  },
  {
   "cell_type": "markdown",
   "metadata": {},
   "source": [
    "#### Exploiting the difference between prices to improve the model’s predictive power."
   ]
  },
  {
   "cell_type": "markdown",
   "metadata": {
    "id": "qCFY-89WO-c1"
   },
   "source": [
    "We can exploit this feature by generating a new categorical feature that indicates if the price increased, decreased or did not change during the last year. there is two reasons why this is a useful thing to do:\n",
    "\n",
    "- Categorical variables are generally more easy to interpret.\n",
    "- We can encode this feature using powerful techniques that can add more predictive power to our model such as mean encoding which creates a monotonic relationship between the variable and the target. This monotonic relationship implies that if the value of one variable increases/decreases so does the value of the other variable. ."
   ]
  },
  {
   "cell_type": "code",
   "execution_count": 10,
   "metadata": {
    "id": "T24OhwifPF9U"
   },
   "outputs": [],
   "source": [
    "# A function to create the new feature \"price_change\"\n",
    "\n",
    "def price_change(x):\n",
    "    if x > 0:\n",
    "        return 'increase'\n",
    "    elif x < 0:\n",
    "        return 'decrease'\n",
    "    else:\n",
    "        return 'stable'\n",
    "    "
   ]
  },
  {
   "cell_type": "code",
   "execution_count": 11,
   "metadata": {
    "colab": {
     "base_uri": "https://localhost:8080/",
     "height": 386
    },
    "id": "XllQRe5OPODe",
    "outputId": "bc64aa00-661a-425b-8a48-06d534a03bce"
   },
   "outputs": [
    {
     "data": {
      "text/html": [
       "<div>\n",
       "<style scoped>\n",
       "    .dataframe tbody tr th:only-of-type {\n",
       "        vertical-align: middle;\n",
       "    }\n",
       "\n",
       "    .dataframe tbody tr th {\n",
       "        vertical-align: top;\n",
       "    }\n",
       "\n",
       "    .dataframe thead th {\n",
       "        text-align: right;\n",
       "    }\n",
       "</style>\n",
       "<table border=\"1\" class=\"dataframe\">\n",
       "  <thead>\n",
       "    <tr style=\"text-align: right;\">\n",
       "      <th></th>\n",
       "      <th>id</th>\n",
       "      <th>cons_12m</th>\n",
       "      <th>cons_gas_12m</th>\n",
       "      <th>cons_last_month</th>\n",
       "      <th>date_activ</th>\n",
       "      <th>date_end</th>\n",
       "      <th>date_modif_prod</th>\n",
       "      <th>date_renewal</th>\n",
       "      <th>forecast_cons_12m</th>\n",
       "      <th>forecast_cons_year</th>\n",
       "      <th>...</th>\n",
       "      <th>price_peak_var</th>\n",
       "      <th>price_mid_peak_var</th>\n",
       "      <th>price_off_peak_fix</th>\n",
       "      <th>price_peak_fix</th>\n",
       "      <th>price_mid_peak_fix</th>\n",
       "      <th>forcasted_price</th>\n",
       "      <th>previous_price</th>\n",
       "      <th>price_sens</th>\n",
       "      <th>offpeak_diff_dec_january_energy</th>\n",
       "      <th>offpeak_diff_dec_january_power</th>\n",
       "    </tr>\n",
       "  </thead>\n",
       "  <tbody>\n",
       "    <tr>\n",
       "      <th>0</th>\n",
       "      <td>24011ae4ebbe3035111d65fa7c15bc57</td>\n",
       "      <td>0</td>\n",
       "      <td>54946</td>\n",
       "      <td>0</td>\n",
       "      <td>2013-06-15</td>\n",
       "      <td>2016-06-15</td>\n",
       "      <td>2015-11-01</td>\n",
       "      <td>2015-06-23</td>\n",
       "      <td>0.00</td>\n",
       "      <td>0</td>\n",
       "      <td>...</td>\n",
       "      <td>0.100749</td>\n",
       "      <td>0.066530</td>\n",
       "      <td>40.942265</td>\n",
       "      <td>22.352010</td>\n",
       "      <td>14.901340</td>\n",
       "      <td>0.106312</td>\n",
       "      <td>0.112768</td>\n",
       "      <td>NaN</td>\n",
       "      <td>0.020057</td>\n",
       "      <td>3.700961</td>\n",
       "    </tr>\n",
       "    <tr>\n",
       "      <th>1</th>\n",
       "      <td>d29c2c54acc38ff3c0614d0a653813dd</td>\n",
       "      <td>4660</td>\n",
       "      <td>0</td>\n",
       "      <td>0</td>\n",
       "      <td>2009-08-21</td>\n",
       "      <td>2016-08-30</td>\n",
       "      <td>2009-08-21</td>\n",
       "      <td>2015-08-31</td>\n",
       "      <td>189.95</td>\n",
       "      <td>0</td>\n",
       "      <td>...</td>\n",
       "      <td>0.007124</td>\n",
       "      <td>0.000000</td>\n",
       "      <td>44.311375</td>\n",
       "      <td>0.000000</td>\n",
       "      <td>0.000000</td>\n",
       "      <td>0.072855</td>\n",
       "      <td>0.078366</td>\n",
       "      <td>13.640956</td>\n",
       "      <td>-0.003767</td>\n",
       "      <td>0.177779</td>\n",
       "    </tr>\n",
       "    <tr>\n",
       "      <th>2</th>\n",
       "      <td>764c75f661154dac3a6c254cd082ea7d</td>\n",
       "      <td>544</td>\n",
       "      <td>0</td>\n",
       "      <td>0</td>\n",
       "      <td>2010-04-16</td>\n",
       "      <td>2016-04-16</td>\n",
       "      <td>2010-04-16</td>\n",
       "      <td>2015-04-17</td>\n",
       "      <td>47.96</td>\n",
       "      <td>0</td>\n",
       "      <td>...</td>\n",
       "      <td>0.088421</td>\n",
       "      <td>0.000000</td>\n",
       "      <td>44.385450</td>\n",
       "      <td>0.000000</td>\n",
       "      <td>0.000000</td>\n",
       "      <td>0.126847</td>\n",
       "      <td>0.129466</td>\n",
       "      <td>45.058910</td>\n",
       "      <td>-0.004670</td>\n",
       "      <td>0.177779</td>\n",
       "    </tr>\n",
       "    <tr>\n",
       "      <th>3</th>\n",
       "      <td>bba03439a292a1e166f80264c16191cb</td>\n",
       "      <td>1584</td>\n",
       "      <td>0</td>\n",
       "      <td>0</td>\n",
       "      <td>2010-03-30</td>\n",
       "      <td>2016-03-30</td>\n",
       "      <td>2010-03-30</td>\n",
       "      <td>2015-03-31</td>\n",
       "      <td>240.04</td>\n",
       "      <td>0</td>\n",
       "      <td>...</td>\n",
       "      <td>0.000000</td>\n",
       "      <td>0.000000</td>\n",
       "      <td>44.400265</td>\n",
       "      <td>0.000000</td>\n",
       "      <td>0.000000</td>\n",
       "      <td>0.073347</td>\n",
       "      <td>0.075605</td>\n",
       "      <td>28.408609</td>\n",
       "      <td>-0.004547</td>\n",
       "      <td>0.177779</td>\n",
       "    </tr>\n",
       "    <tr>\n",
       "      <th>4</th>\n",
       "      <td>149d57cf92fc41cf94415803a877cb4b</td>\n",
       "      <td>4425</td>\n",
       "      <td>0</td>\n",
       "      <td>526</td>\n",
       "      <td>2010-01-13</td>\n",
       "      <td>2016-03-07</td>\n",
       "      <td>2010-01-13</td>\n",
       "      <td>2015-03-09</td>\n",
       "      <td>445.75</td>\n",
       "      <td>526</td>\n",
       "      <td>...</td>\n",
       "      <td>0.103638</td>\n",
       "      <td>0.072865</td>\n",
       "      <td>40.688156</td>\n",
       "      <td>24.412893</td>\n",
       "      <td>16.275263</td>\n",
       "      <td>0.108457</td>\n",
       "      <td>0.113906</td>\n",
       "      <td>18.799168</td>\n",
       "      <td>-0.006192</td>\n",
       "      <td>0.162916</td>\n",
       "    </tr>\n",
       "  </tbody>\n",
       "</table>\n",
       "<p>5 rows × 36 columns</p>\n",
       "</div>"
      ],
      "text/plain": [
       "                                 id  cons_12m  cons_gas_12m  cons_last_month  \\\n",
       "0  24011ae4ebbe3035111d65fa7c15bc57         0         54946                0   \n",
       "1  d29c2c54acc38ff3c0614d0a653813dd      4660             0                0   \n",
       "2  764c75f661154dac3a6c254cd082ea7d       544             0                0   \n",
       "3  bba03439a292a1e166f80264c16191cb      1584             0                0   \n",
       "4  149d57cf92fc41cf94415803a877cb4b      4425             0              526   \n",
       "\n",
       "  date_activ   date_end date_modif_prod date_renewal  forecast_cons_12m  \\\n",
       "0 2013-06-15 2016-06-15      2015-11-01   2015-06-23               0.00   \n",
       "1 2009-08-21 2016-08-30      2009-08-21   2015-08-31             189.95   \n",
       "2 2010-04-16 2016-04-16      2010-04-16   2015-04-17              47.96   \n",
       "3 2010-03-30 2016-03-30      2010-03-30   2015-03-31             240.04   \n",
       "4 2010-01-13 2016-03-07      2010-01-13   2015-03-09             445.75   \n",
       "\n",
       "   forecast_cons_year  ...  price_peak_var  price_mid_peak_var  \\\n",
       "0                   0  ...        0.100749            0.066530   \n",
       "1                   0  ...        0.007124            0.000000   \n",
       "2                   0  ...        0.088421            0.000000   \n",
       "3                   0  ...        0.000000            0.000000   \n",
       "4                 526  ...        0.103638            0.072865   \n",
       "\n",
       "   price_off_peak_fix  price_peak_fix  price_mid_peak_fix forcasted_price  \\\n",
       "0           40.942265       22.352010           14.901340        0.106312   \n",
       "1           44.311375        0.000000            0.000000        0.072855   \n",
       "2           44.385450        0.000000            0.000000        0.126847   \n",
       "3           44.400265        0.000000            0.000000        0.073347   \n",
       "4           40.688156       24.412893           16.275263        0.108457   \n",
       "\n",
       "   previous_price  price_sens  offpeak_diff_dec_january_energy  \\\n",
       "0        0.112768         NaN                         0.020057   \n",
       "1        0.078366   13.640956                        -0.003767   \n",
       "2        0.129466   45.058910                        -0.004670   \n",
       "3        0.075605   28.408609                        -0.004547   \n",
       "4        0.113906   18.799168                        -0.006192   \n",
       "\n",
       "   offpeak_diff_dec_january_power  \n",
       "0                        3.700961  \n",
       "1                        0.177779  \n",
       "2                        0.177779  \n",
       "3                        0.177779  \n",
       "4                        0.162916  \n",
       "\n",
       "[5 rows x 36 columns]"
      ]
     },
     "execution_count": 11,
     "metadata": {},
     "output_type": "execute_result"
    }
   ],
   "source": [
    "# Merging with the main dataset\n",
    "new_df_ft = df.merge(diff, how='left', left_on='id', right_on='id')\n",
    "new_df_ft.head()"
   ]
  },
  {
   "cell_type": "code",
   "execution_count": 12,
   "metadata": {
    "id": "-YuT6KJEPXw3"
   },
   "outputs": [],
   "source": [
    "# Creating the new categorical features\n",
    "new_df_ft['price_change_energy'] = new_df_ft['offpeak_diff_dec_january_energy'].apply(price_change)\n",
    "new_df_ft['price_change_power'] = new_df_ft['offpeak_diff_dec_january_power'].apply(price_change)"
   ]
  },
  {
   "cell_type": "code",
   "execution_count": 13,
   "metadata": {
    "id": "zRJxViDdPYuJ"
   },
   "outputs": [],
   "source": [
    "# Dropping the first feature \n",
    "new_df_ft = new_df_ft.drop(['offpeak_diff_dec_january_energy','offpeak_diff_dec_january_power'], axis=1)\n"
   ]
  },
  {
   "cell_type": "markdown",
   "metadata": {
    "id": "kxR2CYQoP5RE"
   },
   "source": [
    "#### 2). Getting time related features"
   ]
  },
  {
   "cell_type": "code",
   "execution_count": 14,
   "metadata": {
    "id": "_AC_vcDfPzOz"
   },
   "outputs": [],
   "source": [
    "# Getting the activation year \n",
    "new_df_ft['activ_year'] = new_df_ft['date_activ'].dt.year\n",
    "\n",
    "# Getting the activation month \n",
    "new_df_ft['activ_month'] = new_df_ft['date_activ'].dt.month\n",
    "\n",
    "# Getting the ending year\n",
    "new_df_ft['end_year'] = new_df_ft['date_end'].dt.year\n",
    "\n",
    "# Getting the ending month \n",
    "new_df_ft['end_month'] = new_df_ft['date_end'].dt.month\n",
    "\n",
    "# Getting the year of the last modification of the product \n",
    "new_df_ft['modif_prod_year'] = new_df_ft['date_modif_prod'].dt.year\n",
    "\n",
    "# Getting the month of the last modification of the product \n",
    "new_df_ft['modif_prod_month'] = new_df_ft['date_modif_prod'].dt.month\n",
    "\n",
    "# Getting the renewal year\n",
    "new_df_ft['renewal_year'] = new_df_ft['date_renewal'].dt.year\n",
    "\n",
    "# Getting the renewal month \n",
    "new_df_ft['renewal_month'] = new_df_ft['date_renewal'].dt.month\n",
    "\n",
    "# Difference between activation and renewal in days \n",
    "new_df_ft['diff_act_renew'] = (new_df_ft['date_renewal'] - new_df_ft['date_activ']).dt.days\n",
    "\n",
    "# Difference between activation and end in days\n",
    "new_df_ft['diff_act_end'] = (new_df_ft['date_end'] - new_df_ft['date_activ']).dt.days\n",
    "\n",
    "# Difference between activation and production modification.\n",
    "new_df_ft['diff_act_modif'] = (new_df_ft['date_modif_prod'] - new_df_ft['date_activ']).dt.days\n",
    "\n",
    "# Difference between end and production modification.\n",
    "new_df_ft['diff_end_modif'] = (new_df_ft['date_end'] - new_df_ft['date_modif_prod']).dt.days\n",
    "\n"
   ]
  },
  {
   "cell_type": "markdown",
   "metadata": {
    "id": "2_MGI8QUQJCz"
   },
   "source": [
    "#### 3). Getting consumption based features"
   ]
  },
  {
   "cell_type": "code",
   "execution_count": 15,
   "metadata": {
    "id": "KUF3q_jxQKRW"
   },
   "outputs": [],
   "source": [
    "# Getting the average consumption per month for the past 12 months.\n",
    "new_df_ft['avrg_month_cons'] = new_df_ft['cons_12m']/12\n",
    "\n",
    "# Getting the average consumption per month of gaz for the past 12 months.\n",
    "new_df_ft['avrg_month_cons_gaz'] = new_df_ft['cons_gas_12m']/12\n",
    "\n",
    "# Getting the average forcasted consumption per month for the next 12 months.\n",
    "new_df_ft['forcast_avrg_month_cons'] = new_df_ft['forecast_cons_12m']/12\n",
    "\n",
    "# Getting the ratio of the last month consumption to the last 12m consumption\n",
    "new_df_ft['ratio_last_month_last12m_cons'] = new_df_ft['cons_last_month']/new_df_ft['cons_12m']\n",
    "\n",
    "# Getting the ratio of the last month consumption to the the average consumption per month for the past 12 months.\n",
    "new_df_ft['ratio_last_month_avg_cons'] = new_df_ft['cons_last_month']/new_df_ft['avrg_month_cons']\n"
   ]
  },
  {
   "cell_type": "markdown",
   "metadata": {},
   "source": [
    "### II. Choosing the evaluation metric and treatment of outliers.\n"
   ]
  },
  {
   "cell_type": "markdown",
   "metadata": {
    "id": "35BMK3XfYVQp"
   },
   "source": [
    "#### 1). The choice of the evaluation metric.\n"
   ]
  },
  {
   "cell_type": "markdown",
   "metadata": {
    "id": "sdORblLiYddX"
   },
   "source": [
    "Exploring the distribution of the target variable"
   ]
  },
  {
   "cell_type": "code",
   "execution_count": 22,
   "metadata": {
    "colab": {
     "base_uri": "https://localhost:8080/",
     "height": 279
    },
    "id": "5v5sCHUCYi9e",
    "outputId": "5c44902a-f560-4758-c9bd-cf1ebe15146c"
   },
   "outputs": [
    {
     "data": {
      "image/png": "[encoded data removed]",
      "text/plain": [
       "<Figure size 432x288 with 1 Axes>"
      ]
     },
     "metadata": {
      "needs_background": "light"
     },
     "output_type": "display_data"
    }
   ],
   "source": [
    "# Checking if the target variable is balanced or not.\n",
    "sns.countplot(x='churn', data=new_df_ft)\n",
    "plt.show()"
   ]
  },
  {
   "cell_type": "markdown",
   "metadata": {
    "id": "y-yuK9MaYv7U"
   },
   "source": [
    "We can see that our target variable is imbalanced, which means that we need to use the \"f-1\" score as an evaluation metric. This will help us get an accurate idea about the performance of our model.\n",
    "Using \"accuracy\" as a metric will result in choosing the wrong model. The \"why\" behind this statement can be explained by the example of a dummy model that always predicts the most common class. This model will be considered as a good model in an evaluation process where we use \"accuracy\" as a metric. \n"
   ]
  },
  {
   "cell_type": "markdown",
   "metadata": {},
   "source": [
    "#### 2). Handling outliers :\n",
    "\n",
    "The way we handle outliers depends on the context. For example, in the case of  datasets where we have an important number of numerical features with a lot of outliers (like in our case), removing the outliers will result in losing a lot of information and capping them will increase the risk of distorting the distribution of the variable or the relationship between variables. \n",
    "So the right thing to do in this case is to use models that are robust to outliers such as the Random Forest model.  \n",
    "\n",
    "\n"
   ]
  },
  {
   "cell_type": "code",
   "execution_count": 556,
   "metadata": {},
   "outputs": [],
   "source": [
    "# Getting numerical features\n",
    "cols_num = [col for col in new_df_ft.columns if new_df_ft[col].dtype in ['int64', 'float64']]"
   ]
  },
  {
   "cell_type": "code",
   "execution_count": 557,
   "metadata": {},
   "outputs": [
    {
     "name": "stdout",
     "output_type": "stream",
     "text": [
      "boxplot of feature cons_12m\n",
      "--------------------------------------\n"
     ]
    },
    {
     "data": {
      "image/png": "[encoded data removed]",
      "text/plain": [
       "<Figure size 432x288 with 1 Axes>"
      ]
     },
     "metadata": {
      "needs_background": "light"
     },
     "output_type": "display_data"
    },
    {
     "name": "stdout",
     "output_type": "stream",
     "text": [
      "--------------------------------------\n",
      "boxplot of feature cons_gas_12m\n",
      "--------------------------------------\n"
     ]
    },
    {
     "data": {
      "image/png": "[encoded data removed]",
      "text/plain": [
       "<Figure size 432x288 with 1 Axes>"
      ]
     },
     "metadata": {
      "needs_background": "light"
     },
     "output_type": "display_data"
    },
    {
     "name": "stdout",
     "output_type": "stream",
     "text": [
      "--------------------------------------\n",
      "boxplot of feature cons_last_month\n",
      "--------------------------------------\n"
     ]
    },
    {
     "data": {
      "image/png": "[encoded data removed]",
      "text/plain": [
       "<Figure size 432x288 with 1 Axes>"
      ]
     },
     "metadata": {
      "needs_background": "light"
     },
     "output_type": "display_data"
    },
    {
     "name": "stdout",
     "output_type": "stream",
     "text": [
      "--------------------------------------\n",
      "boxplot of feature forecast_cons_12m\n",
      "--------------------------------------\n"
     ]
    },
    {
     "data": {
      "image/png": "[encoded data removed]",
      "text/plain": [
       "<Figure size 432x288 with 1 Axes>"
      ]
     },
     "metadata": {
      "needs_background": "light"
     },
     "output_type": "display_data"
    },
    {
     "name": "stdout",
     "output_type": "stream",
     "text": [
      "--------------------------------------\n",
      "boxplot of feature forecast_cons_year\n",
      "--------------------------------------\n"
     ]
    },
    {
     "data": {
      "image/png": "[encoded data removed]",
      "text/plain": [
       "<Figure size 432x288 with 1 Axes>"
      ]
     },
     "metadata": {
      "needs_background": "light"
     },
     "output_type": "display_data"
    },
    {
     "name": "stdout",
     "output_type": "stream",
     "text": [
      "--------------------------------------\n",
      "boxplot of feature forecast_discount_energy\n",
      "--------------------------------------\n"
     ]
    },
    {
     "data": {
      "image/png": "[encoded data removed]",
      "text/plain": [
       "<Figure size 432x288 with 1 Axes>"
      ]
     },
     "metadata": {
      "needs_background": "light"
     },
     "output_type": "display_data"
    },
    {
     "name": "stdout",
     "output_type": "stream",
     "text": [
      "--------------------------------------\n",
      "boxplot of feature forecast_meter_rent_12m\n",
      "--------------------------------------\n"
     ]
    },
    {
     "data": {
      "image/png": "[encoded data removed]",
      "text/plain": [
       "<Figure size 432x288 with 1 Axes>"
      ]
     },
     "metadata": {
      "needs_background": "light"
     },
     "output_type": "display_data"
    },
    {
     "name": "stdout",
     "output_type": "stream",
     "text": [
      "--------------------------------------\n",
      "boxplot of feature forecast_price_energy_off_peak\n",
      "--------------------------------------\n"
     ]
    },
    {
     "data": {
      "image/png": "[encoded data removed]",
      "text/plain": [
       "<Figure size 432x288 with 1 Axes>"
      ]
     },
     "metadata": {
      "needs_background": "light"
     },
     "output_type": "display_data"
    },
    {
     "name": "stdout",
     "output_type": "stream",
     "text": [
      "--------------------------------------\n",
      "boxplot of feature forecast_price_energy_peak\n",
      "--------------------------------------\n"
     ]
    },
    {
     "data": {
      "image/png": "[encoded data removed]",
      "text/plain": [
       "<Figure size 432x288 with 1 Axes>"
      ]
     },
     "metadata": {
      "needs_background": "light"
     },
     "output_type": "display_data"
    },
    {
     "name": "stdout",
     "output_type": "stream",
     "text": [
      "--------------------------------------\n",
      "boxplot of feature forecast_price_pow_off_peak\n",
      "--------------------------------------\n"
     ]
    },
    {
     "data": {
      "image/png": "[encoded data removed]",
      "text/plain": [
       "<Figure size 432x288 with 1 Axes>"
      ]
     },
     "metadata": {
      "needs_background": "light"
     },
     "output_type": "display_data"
    },
    {
     "name": "stdout",
     "output_type": "stream",
     "text": [
      "--------------------------------------\n",
      "boxplot of feature imp_cons\n",
      "--------------------------------------\n"
     ]
    },
    {
     "data": {
      "image/png": "[encoded data removed]",
      "text/plain": [
       "<Figure size 432x288 with 1 Axes>"
      ]
     },
     "metadata": {
      "needs_background": "light"
     },
     "output_type": "display_data"
    },
    {
     "name": "stdout",
     "output_type": "stream",
     "text": [
      "--------------------------------------\n",
      "boxplot of feature margin_gross_pow_ele\n",
      "--------------------------------------\n"
     ]
    },
    {
     "data": {
      "image/png": "[encoded data removed]",
      "text/plain": [
       "<Figure size 432x288 with 1 Axes>"
      ]
     },
     "metadata": {
      "needs_background": "light"
     },
     "output_type": "display_data"
    },
    {
     "name": "stdout",
     "output_type": "stream",
     "text": [
      "--------------------------------------\n",
      "boxplot of feature margin_net_pow_ele\n",
      "--------------------------------------\n"
     ]
    },
    {
     "data": {
      "image/png": "[encoded data removed]",
      "text/plain": [
       "<Figure size 432x288 with 1 Axes>"
      ]
     },
     "metadata": {
      "needs_background": "light"
     },
     "output_type": "display_data"
    },
    {
     "name": "stdout",
     "output_type": "stream",
     "text": [
      "--------------------------------------\n",
      "boxplot of feature nb_prod_act\n",
      "--------------------------------------\n"
     ]
    },
    {
     "data": {
      "image/png": "[encoded data removed]",
      "text/plain": [
       "<Figure size 432x288 with 1 Axes>"
      ]
     },
     "metadata": {
      "needs_background": "light"
     },
     "output_type": "display_data"
    },
    {
     "name": "stdout",
     "output_type": "stream",
     "text": [
      "--------------------------------------\n",
      "boxplot of feature net_margin\n",
      "--------------------------------------\n"
     ]
    },
    {
     "data": {
      "image/png": "[encoded data removed]",
      "text/plain": [
       "<Figure size 432x288 with 1 Axes>"
      ]
     },
     "metadata": {
      "needs_background": "light"
     },
     "output_type": "display_data"
    },
    {
     "name": "stdout",
     "output_type": "stream",
     "text": [
      "--------------------------------------\n",
      "boxplot of feature num_years_antig\n",
      "--------------------------------------\n"
     ]
    },
    {
     "data": {
      "image/png": "[encoded data removed]",
      "text/plain": [
       "<Figure size 432x288 with 1 Axes>"
      ]
     },
     "metadata": {
      "needs_background": "light"
     },
     "output_type": "display_data"
    },
    {
     "name": "stdout",
     "output_type": "stream",
     "text": [
      "--------------------------------------\n",
      "boxplot of feature pow_max\n",
      "--------------------------------------\n"
     ]
    },
    {
     "data": {
      "image/png": "[encoded data removed]",
      "text/plain": [
       "<Figure size 432x288 with 1 Axes>"
      ]
     },
     "metadata": {
      "needs_background": "light"
     },
     "output_type": "display_data"
    },
    {
     "name": "stdout",
     "output_type": "stream",
     "text": [
      "--------------------------------------\n",
      "boxplot of feature churn\n",
      "--------------------------------------\n"
     ]
    },
    {
     "data": {
      "image/png": "[encoded data removed]",
      "text/plain": [
       "<Figure size 432x288 with 1 Axes>"
      ]
     },
     "metadata": {
      "needs_background": "light"
     },
     "output_type": "display_data"
    },
    {
     "name": "stdout",
     "output_type": "stream",
     "text": [
      "--------------------------------------\n",
      "boxplot of feature price_off_peak_var\n",
      "--------------------------------------\n"
     ]
    },
    {
     "data": {
      "image/png": "[encoded data removed]",
      "text/plain": [
       "<Figure size 432x288 with 1 Axes>"
      ]
     },
     "metadata": {
      "needs_background": "light"
     },
     "output_type": "display_data"
    },
    {
     "name": "stdout",
     "output_type": "stream",
     "text": [
      "--------------------------------------\n",
      "boxplot of feature price_peak_var\n",
      "--------------------------------------\n"
     ]
    },
    {
     "data": {
      "image/png": "[encoded data removed]",
      "text/plain": [
       "<Figure size 432x288 with 1 Axes>"
      ]
     },
     "metadata": {
      "needs_background": "light"
     },
     "output_type": "display_data"
    },
    {
     "name": "stdout",
     "output_type": "stream",
     "text": [
      "--------------------------------------\n",
      "boxplot of feature price_mid_peak_var\n",
      "--------------------------------------\n"
     ]
    },
    {
     "data": {
      "image/png": "[encoded data removed]",
      "text/plain": [
       "<Figure size 432x288 with 1 Axes>"
      ]
     },
     "metadata": {
      "needs_background": "light"
     },
     "output_type": "display_data"
    },
    {
     "name": "stdout",
     "output_type": "stream",
     "text": [
      "--------------------------------------\n",
      "boxplot of feature price_off_peak_fix\n",
      "--------------------------------------\n"
     ]
    },
    {
     "data": {
      "image/png": "[encoded data removed]",
      "text/plain": [
       "<Figure size 432x288 with 1 Axes>"
      ]
     },
     "metadata": {
      "needs_background": "light"
     },
     "output_type": "display_data"
    },
    {
     "name": "stdout",
     "output_type": "stream",
     "text": [
      "--------------------------------------\n",
      "boxplot of feature price_peak_fix\n",
      "--------------------------------------\n"
     ]
    },
    {
     "data": {
      "image/png": "[encoded data removed]",
      "text/plain": [
       "<Figure size 432x288 with 1 Axes>"
      ]
     },
     "metadata": {
      "needs_background": "light"
     },
     "output_type": "display_data"
    },
    {
     "name": "stdout",
     "output_type": "stream",
     "text": [
      "--------------------------------------\n",
      "boxplot of feature price_mid_peak_fix\n",
      "--------------------------------------\n"
     ]
    },
    {
     "data": {
      "image/png": "[encoded data removed]",
      "text/plain": [
       "<Figure size 432x288 with 1 Axes>"
      ]
     },
     "metadata": {
      "needs_background": "light"
     },
     "output_type": "display_data"
    },
    {
     "name": "stdout",
     "output_type": "stream",
     "text": [
      "--------------------------------------\n",
      "boxplot of feature forcasted_price\n",
      "--------------------------------------\n"
     ]
    },
    {
     "data": {
      "image/png": "[encoded data removed]",
      "text/plain": [
       "<Figure size 432x288 with 1 Axes>"
      ]
     },
     "metadata": {
      "needs_background": "light"
     },
     "output_type": "display_data"
    },
    {
     "name": "stdout",
     "output_type": "stream",
     "text": [
      "--------------------------------------\n",
      "boxplot of feature previous_price\n",
      "--------------------------------------\n"
     ]
    },
    {
     "data": {
      "image/png": "[encoded data removed]",
      "text/plain": [
       "<Figure size 432x288 with 1 Axes>"
      ]
     },
     "metadata": {
      "needs_background": "light"
     },
     "output_type": "display_data"
    },
    {
     "name": "stdout",
     "output_type": "stream",
     "text": [
      "--------------------------------------\n",
      "boxplot of feature price_sens\n",
      "--------------------------------------\n"
     ]
    },
    {
     "data": {
      "image/png": "[encoded data removed]",
      "text/plain": [
       "<Figure size 432x288 with 1 Axes>"
      ]
     },
     "metadata": {
      "needs_background": "light"
     },
     "output_type": "display_data"
    },
    {
     "name": "stdout",
     "output_type": "stream",
     "text": [
      "--------------------------------------\n",
      "boxplot of feature activ_year\n",
      "--------------------------------------\n"
     ]
    },
    {
     "data": {
      "image/png": "[encoded data removed]",
      "text/plain": [
       "<Figure size 432x288 with 1 Axes>"
      ]
     },
     "metadata": {
      "needs_background": "light"
     },
     "output_type": "display_data"
    },
    {
     "name": "stdout",
     "output_type": "stream",
     "text": [
      "--------------------------------------\n",
      "boxplot of feature activ_month\n",
      "--------------------------------------\n"
     ]
    },
    {
     "data": {
      "image/png": "[encoded data removed]",
      "text/plain": [
       "<Figure size 432x288 with 1 Axes>"
      ]
     },
     "metadata": {
      "needs_background": "light"
     },
     "output_type": "display_data"
    },
    {
     "name": "stdout",
     "output_type": "stream",
     "text": [
      "--------------------------------------\n",
      "boxplot of feature end_year\n",
      "--------------------------------------\n"
     ]
    },
    {
     "data": {
      "image/png": "[encoded data removed]",
      "text/plain": [
       "<Figure size 432x288 with 1 Axes>"
      ]
     },
     "metadata": {
      "needs_background": "light"
     },
     "output_type": "display_data"
    },
    {
     "name": "stdout",
     "output_type": "stream",
     "text": [
      "--------------------------------------\n",
      "boxplot of feature end_month\n",
      "--------------------------------------\n"
     ]
    },
    {
     "data": {
      "image/png": "[encoded data removed]",
      "text/plain": [
       "<Figure size 432x288 with 1 Axes>"
      ]
     },
     "metadata": {
      "needs_background": "light"
     },
     "output_type": "display_data"
    },
    {
     "name": "stdout",
     "output_type": "stream",
     "text": [
      "--------------------------------------\n",
      "boxplot of feature modif_prod_year\n",
      "--------------------------------------\n"
     ]
    },
    {
     "data": {
      "image/png": "[encoded data removed]",
      "text/plain": [
       "<Figure size 432x288 with 1 Axes>"
      ]
     },
     "metadata": {
      "needs_background": "light"
     },
     "output_type": "display_data"
    },
    {
     "name": "stdout",
     "output_type": "stream",
     "text": [
      "--------------------------------------\n",
      "boxplot of feature modif_prod_month\n",
      "--------------------------------------\n"
     ]
    },
    {
     "data": {
      "image/png": "[encoded data removed]",
      "text/plain": [
       "<Figure size 432x288 with 1 Axes>"
      ]
     },
     "metadata": {
      "needs_background": "light"
     },
     "output_type": "display_data"
    },
    {
     "name": "stdout",
     "output_type": "stream",
     "text": [
      "--------------------------------------\n",
      "boxplot of feature renewal_year\n",
      "--------------------------------------\n"
     ]
    },
    {
     "data": {
      "image/png": "[encoded data removed]",
      "text/plain": [
       "<Figure size 432x288 with 1 Axes>"
      ]
     },
     "metadata": {
      "needs_background": "light"
     },
     "output_type": "display_data"
    },
    {
     "name": "stdout",
     "output_type": "stream",
     "text": [
      "--------------------------------------\n",
      "boxplot of feature renewal_month\n",
      "--------------------------------------\n"
     ]
    },
    {
     "data": {
      "image/png": "[encoded data removed]",
      "text/plain": [
       "<Figure size 432x288 with 1 Axes>"
      ]
     },
     "metadata": {
      "needs_background": "light"
     },
     "output_type": "display_data"
    },
    {
     "name": "stdout",
     "output_type": "stream",
     "text": [
      "--------------------------------------\n",
      "boxplot of feature diff_act_renew\n",
      "--------------------------------------\n"
     ]
    },
    {
     "data": {
      "image/png": "[encoded data removed]",
      "text/plain": [
       "<Figure size 432x288 with 1 Axes>"
      ]
     },
     "metadata": {
      "needs_background": "light"
     },
     "output_type": "display_data"
    },
    {
     "name": "stdout",
     "output_type": "stream",
     "text": [
      "--------------------------------------\n",
      "boxplot of feature diff_act_end\n",
      "--------------------------------------\n"
     ]
    },
    {
     "data": {
      "image/png": "[encoded data removed]",
      "text/plain": [
       "<Figure size 432x288 with 1 Axes>"
      ]
     },
     "metadata": {
      "needs_background": "light"
     },
     "output_type": "display_data"
    },
    {
     "name": "stdout",
     "output_type": "stream",
     "text": [
      "--------------------------------------\n",
      "boxplot of feature diff_act_modif\n",
      "--------------------------------------\n"
     ]
    },
    {
     "data": {
      "image/png": "[encoded data removed]",
      "text/plain": [
       "<Figure size 432x288 with 1 Axes>"
      ]
     },
     "metadata": {
      "needs_background": "light"
     },
     "output_type": "display_data"
    },
    {
     "name": "stdout",
     "output_type": "stream",
     "text": [
      "--------------------------------------\n",
      "boxplot of feature diff_end_modif\n",
      "--------------------------------------\n"
     ]
    },
    {
     "data": {
      "image/png": "[encoded data removed]",
      "text/plain": [
       "<Figure size 432x288 with 1 Axes>"
      ]
     },
     "metadata": {
      "needs_background": "light"
     },
     "output_type": "display_data"
    },
    {
     "name": "stdout",
     "output_type": "stream",
     "text": [
      "--------------------------------------\n",
      "boxplot of feature avrg_month_cons\n",
      "--------------------------------------\n"
     ]
    },
    {
     "data": {
      "image/png": "[encoded data removed]",
      "text/plain": [
       "<Figure size 432x288 with 1 Axes>"
      ]
     },
     "metadata": {
      "needs_background": "light"
     },
     "output_type": "display_data"
    },
    {
     "name": "stdout",
     "output_type": "stream",
     "text": [
      "--------------------------------------\n",
      "boxplot of feature avrg_month_cons_gaz\n",
      "--------------------------------------\n"
     ]
    },
    {
     "data": {
      "image/png": "[encoded data removed]",
      "text/plain": [
       "<Figure size 432x288 with 1 Axes>"
      ]
     },
     "metadata": {
      "needs_background": "light"
     },
     "output_type": "display_data"
    },
    {
     "name": "stdout",
     "output_type": "stream",
     "text": [
      "--------------------------------------\n",
      "boxplot of feature forcast_avrg_month_cons\n",
      "--------------------------------------\n"
     ]
    },
    {
     "data": {
      "image/png": "[encoded data removed]",
      "text/plain": [
       "<Figure size 432x288 with 1 Axes>"
      ]
     },
     "metadata": {
      "needs_background": "light"
     },
     "output_type": "display_data"
    },
    {
     "name": "stdout",
     "output_type": "stream",
     "text": [
      "--------------------------------------\n",
      "boxplot of feature ratio_last_month_last12m_cons\n",
      "--------------------------------------\n"
     ]
    },
    {
     "data": {
      "image/png": "[encoded data removed]",
      "text/plain": [
       "<Figure size 432x288 with 1 Axes>"
      ]
     },
     "metadata": {
      "needs_background": "light"
     },
     "output_type": "display_data"
    },
    {
     "name": "stdout",
     "output_type": "stream",
     "text": [
      "--------------------------------------\n",
      "boxplot of feature ratio_last_month_avg_cons\n",
      "--------------------------------------\n"
     ]
    },
    {
     "data": {
      "image/png": "[encoded data removed]",
      "text/plain": [
       "<Figure size 432x288 with 1 Axes>"
      ]
     },
     "metadata": {
      "needs_background": "light"
     },
     "output_type": "display_data"
    },
    {
     "name": "stdout",
     "output_type": "stream",
     "text": [
      "--------------------------------------\n"
     ]
    }
   ],
   "source": [
    "for col in cols_num:\n",
    "    print('boxplot of feature {}'.format(col))\n",
    "    print('--------------------------------------')\n",
    "    sns.boxplot(y=col, data=new_df_ft)\n",
    "    plt.show()\n",
    "    print('--------------------------------------')"
   ]
  },
  {
   "cell_type": "markdown",
   "metadata": {
    "id": "mtN1WYFdY8Eo"
   },
   "source": [
    "### III. Correlation based feature selection \n",
    "We will use the correlation score between features to do feature selection in order to reduce the number of continuous variables.\n",
    "The selection of features will be based on model performance which is expressed in terms of our evaluation metric \"f-1\".\n"
   ]
  },
  {
   "cell_type": "code",
   "execution_count": 16,
   "metadata": {
    "colab": {
     "base_uri": "https://localhost:8080/"
    },
    "id": "jRUMjjJGTsa2",
    "outputId": "e0b26bcd-32df-48a1-b995-34779c80f44b"
   },
   "outputs": [
    {
     "name": "stdout",
     "output_type": "stream",
     "text": [
      "48\n",
      "53\n"
     ]
    }
   ],
   "source": [
    "# Getting numerical features \n",
    "num_ftr = [col for col in new_df_ft.columns if new_df_ft[col].dtype in ['int64', 'float64']]\n",
    "\n",
    "# Getting datetime features \n",
    "\n",
    "date_ftr = [col for col in new_df_ft.columns if new_df_ft[col].dtype == 'datetime64[ns]']\n",
    "\n",
    "# Getting categorical features \n",
    "cat_ftr = [col for col in new_df_ft.columns if col not in num_ftr + date_ftr and col != 'id']\n",
    "\n",
    "print(len(num_ftr)+len(cat_ftr))\n",
    "print(len(new_df_ft.columns))"
   ]
  },
  {
   "cell_type": "code",
   "execution_count": 17,
   "metadata": {
    "id": "zsR-y6PhQYt2"
   },
   "outputs": [],
   "source": [
    "# Checking the existence of \"inf\" values\n",
    "new_df_ft.replace([np.inf, -np.inf], np.nan, inplace=True)"
   ]
  },
  {
   "cell_type": "code",
   "execution_count": 18,
   "metadata": {
    "id": "aZsllxXnQfuw"
   },
   "outputs": [],
   "source": [
    "# Dropping \"Nan\" values that resulted from the feature engineering process\n",
    "new_df_ft = new_df_ft.dropna()"
   ]
  },
  {
   "cell_type": "code",
   "execution_count": 341,
   "metadata": {
    "colab": {
     "base_uri": "https://localhost:8080/"
    },
    "id": "TF7910s4Qhj_",
    "outputId": "622fa74d-873d-4c65-8bed-18948fc9b00f"
   },
   "outputs": [
    {
     "data": {
      "text/plain": [
       "21"
      ]
     },
     "execution_count": 341,
     "metadata": {},
     "output_type": "execute_result"
    }
   ],
   "source": [
    "# Creating an initial feature selection pipeline to eleminate correlated features\n",
    "sel_1 = SmartCorrelatedSelection(selection_method='model_performance', estimator=RandomForestClassifier(), scoring='f1', cv=5, threshold=0.8)\n",
    "sel_1.fit(new_df_ft[num_ftr], new_df_ft['churn'])\n",
    "len(sel_1.features_to_drop_)"
   ]
  },
  {
   "cell_type": "code",
   "execution_count": 343,
   "metadata": {
    "colab": {
     "base_uri": "https://localhost:8080/",
     "height": 299
    },
    "id": "b2ZjiUmrSgcb",
    "outputId": "151b1d3a-b69b-4f8f-f684-7adfaf10ea68"
   },
   "outputs": [
    {
     "data": {
      "text/html": [
       "<div>\n",
       "<style scoped>\n",
       "    .dataframe tbody tr th:only-of-type {\n",
       "        vertical-align: middle;\n",
       "    }\n",
       "\n",
       "    .dataframe tbody tr th {\n",
       "        vertical-align: top;\n",
       "    }\n",
       "\n",
       "    .dataframe thead th {\n",
       "        text-align: right;\n",
       "    }\n",
       "</style>\n",
       "<table border=\"1\" class=\"dataframe\">\n",
       "  <thead>\n",
       "    <tr style=\"text-align: right;\">\n",
       "      <th></th>\n",
       "      <th>cons_12m</th>\n",
       "      <th>cons_gas_12m</th>\n",
       "      <th>forecast_cons_12m</th>\n",
       "      <th>forecast_discount_energy</th>\n",
       "      <th>forecast_meter_rent_12m</th>\n",
       "      <th>imp_cons</th>\n",
       "      <th>margin_gross_pow_ele</th>\n",
       "      <th>nb_prod_act</th>\n",
       "      <th>net_margin</th>\n",
       "      <th>pow_max</th>\n",
       "      <th>...</th>\n",
       "      <th>previous_price</th>\n",
       "      <th>price_sens</th>\n",
       "      <th>end_year</th>\n",
       "      <th>modif_prod_month</th>\n",
       "      <th>renewal_year</th>\n",
       "      <th>renewal_month</th>\n",
       "      <th>diff_act_end</th>\n",
       "      <th>diff_act_modif</th>\n",
       "      <th>diff_end_modif</th>\n",
       "      <th>ratio_last_month_last12m_cons</th>\n",
       "    </tr>\n",
       "  </thead>\n",
       "  <tbody>\n",
       "    <tr>\n",
       "      <th>1</th>\n",
       "      <td>4660</td>\n",
       "      <td>0</td>\n",
       "      <td>189.95</td>\n",
       "      <td>0.0</td>\n",
       "      <td>16.27</td>\n",
       "      <td>0.00</td>\n",
       "      <td>16.38</td>\n",
       "      <td>1</td>\n",
       "      <td>18.89</td>\n",
       "      <td>13.800</td>\n",
       "      <td>...</td>\n",
       "      <td>0.078366</td>\n",
       "      <td>13.640956</td>\n",
       "      <td>2016</td>\n",
       "      <td>8</td>\n",
       "      <td>2015</td>\n",
       "      <td>8</td>\n",
       "      <td>2566</td>\n",
       "      <td>0</td>\n",
       "      <td>2566</td>\n",
       "      <td>0.000000</td>\n",
       "    </tr>\n",
       "    <tr>\n",
       "      <th>2</th>\n",
       "      <td>544</td>\n",
       "      <td>0</td>\n",
       "      <td>47.96</td>\n",
       "      <td>0.0</td>\n",
       "      <td>38.72</td>\n",
       "      <td>0.00</td>\n",
       "      <td>28.60</td>\n",
       "      <td>1</td>\n",
       "      <td>6.60</td>\n",
       "      <td>13.856</td>\n",
       "      <td>...</td>\n",
       "      <td>0.129466</td>\n",
       "      <td>45.058910</td>\n",
       "      <td>2016</td>\n",
       "      <td>4</td>\n",
       "      <td>2015</td>\n",
       "      <td>4</td>\n",
       "      <td>2192</td>\n",
       "      <td>0</td>\n",
       "      <td>2192</td>\n",
       "      <td>0.000000</td>\n",
       "    </tr>\n",
       "    <tr>\n",
       "      <th>3</th>\n",
       "      <td>1584</td>\n",
       "      <td>0</td>\n",
       "      <td>240.04</td>\n",
       "      <td>0.0</td>\n",
       "      <td>19.83</td>\n",
       "      <td>0.00</td>\n",
       "      <td>30.22</td>\n",
       "      <td>1</td>\n",
       "      <td>25.46</td>\n",
       "      <td>13.200</td>\n",
       "      <td>...</td>\n",
       "      <td>0.075605</td>\n",
       "      <td>28.408609</td>\n",
       "      <td>2016</td>\n",
       "      <td>3</td>\n",
       "      <td>2015</td>\n",
       "      <td>3</td>\n",
       "      <td>2192</td>\n",
       "      <td>0</td>\n",
       "      <td>2192</td>\n",
       "      <td>0.000000</td>\n",
       "    </tr>\n",
       "    <tr>\n",
       "      <th>4</th>\n",
       "      <td>4425</td>\n",
       "      <td>0</td>\n",
       "      <td>445.75</td>\n",
       "      <td>0.0</td>\n",
       "      <td>131.73</td>\n",
       "      <td>52.32</td>\n",
       "      <td>44.91</td>\n",
       "      <td>1</td>\n",
       "      <td>47.98</td>\n",
       "      <td>19.800</td>\n",
       "      <td>...</td>\n",
       "      <td>0.113906</td>\n",
       "      <td>18.799168</td>\n",
       "      <td>2016</td>\n",
       "      <td>1</td>\n",
       "      <td>2015</td>\n",
       "      <td>3</td>\n",
       "      <td>2245</td>\n",
       "      <td>0</td>\n",
       "      <td>2245</td>\n",
       "      <td>0.118870</td>\n",
       "    </tr>\n",
       "    <tr>\n",
       "      <th>5</th>\n",
       "      <td>8302</td>\n",
       "      <td>0</td>\n",
       "      <td>796.94</td>\n",
       "      <td>0.0</td>\n",
       "      <td>30.12</td>\n",
       "      <td>181.21</td>\n",
       "      <td>33.12</td>\n",
       "      <td>1</td>\n",
       "      <td>118.89</td>\n",
       "      <td>13.200</td>\n",
       "      <td>...</td>\n",
       "      <td>0.128293</td>\n",
       "      <td>40.841311</td>\n",
       "      <td>2016</td>\n",
       "      <td>11</td>\n",
       "      <td>2015</td>\n",
       "      <td>12</td>\n",
       "      <td>1827</td>\n",
       "      <td>1423</td>\n",
       "      <td>404</td>\n",
       "      <td>0.240665</td>\n",
       "    </tr>\n",
       "  </tbody>\n",
       "</table>\n",
       "<p>5 rows × 23 columns</p>\n",
       "</div>"
      ],
      "text/plain": [
       "   cons_12m  cons_gas_12m  forecast_cons_12m  forecast_discount_energy  \\\n",
       "1      4660             0             189.95                       0.0   \n",
       "2       544             0              47.96                       0.0   \n",
       "3      1584             0             240.04                       0.0   \n",
       "4      4425             0             445.75                       0.0   \n",
       "5      8302             0             796.94                       0.0   \n",
       "\n",
       "   forecast_meter_rent_12m  imp_cons  margin_gross_pow_ele  nb_prod_act  \\\n",
       "1                    16.27      0.00                 16.38            1   \n",
       "2                    38.72      0.00                 28.60            1   \n",
       "3                    19.83      0.00                 30.22            1   \n",
       "4                   131.73     52.32                 44.91            1   \n",
       "5                    30.12    181.21                 33.12            1   \n",
       "\n",
       "   net_margin  pow_max  ...  previous_price  price_sens  end_year  \\\n",
       "1       18.89   13.800  ...        0.078366   13.640956      2016   \n",
       "2        6.60   13.856  ...        0.129466   45.058910      2016   \n",
       "3       25.46   13.200  ...        0.075605   28.408609      2016   \n",
       "4       47.98   19.800  ...        0.113906   18.799168      2016   \n",
       "5      118.89   13.200  ...        0.128293   40.841311      2016   \n",
       "\n",
       "   modif_prod_month  renewal_year  renewal_month  diff_act_end  \\\n",
       "1                 8          2015              8          2566   \n",
       "2                 4          2015              4          2192   \n",
       "3                 3          2015              3          2192   \n",
       "4                 1          2015              3          2245   \n",
       "5                11          2015             12          1827   \n",
       "\n",
       "   diff_act_modif  diff_end_modif  ratio_last_month_last12m_cons  \n",
       "1               0            2566                       0.000000  \n",
       "2               0            2192                       0.000000  \n",
       "3               0            2192                       0.000000  \n",
       "4               0            2245                       0.118870  \n",
       "5            1423             404                       0.240665  \n",
       "\n",
       "[5 rows x 23 columns]"
      ]
     },
     "execution_count": 343,
     "metadata": {},
     "output_type": "execute_result"
    }
   ],
   "source": [
    "# Transforming our dataset\n",
    "df_1 = sel_1.transform(new_df_ft[num_ftr])\n",
    "df_1.head()"
   ]
  },
  {
   "cell_type": "code",
   "execution_count": 344,
   "metadata": {
    "colab": {
     "base_uri": "https://localhost:8080/",
     "height": 488
    },
    "id": "lN6UilGWV14Q",
    "outputId": "f350f002-4e35-43cd-82f0-28c3475262db"
   },
   "outputs": [
    {
     "data": {
      "text/html": [
       "<div>\n",
       "<style scoped>\n",
       "    .dataframe tbody tr th:only-of-type {\n",
       "        vertical-align: middle;\n",
       "    }\n",
       "\n",
       "    .dataframe tbody tr th {\n",
       "        vertical-align: top;\n",
       "    }\n",
       "\n",
       "    .dataframe thead th {\n",
       "        text-align: right;\n",
       "    }\n",
       "</style>\n",
       "<table border=\"1\" class=\"dataframe\">\n",
       "  <thead>\n",
       "    <tr style=\"text-align: right;\">\n",
       "      <th></th>\n",
       "      <th>has_gas</th>\n",
       "      <th>origin_up</th>\n",
       "      <th>price_change_energy</th>\n",
       "      <th>price_change_power</th>\n",
       "      <th>cons_12m</th>\n",
       "      <th>cons_gas_12m</th>\n",
       "      <th>forecast_cons_12m</th>\n",
       "      <th>forecast_discount_energy</th>\n",
       "      <th>forecast_meter_rent_12m</th>\n",
       "      <th>imp_cons</th>\n",
       "      <th>...</th>\n",
       "      <th>previous_price</th>\n",
       "      <th>price_sens</th>\n",
       "      <th>end_year</th>\n",
       "      <th>modif_prod_month</th>\n",
       "      <th>renewal_year</th>\n",
       "      <th>renewal_month</th>\n",
       "      <th>diff_act_end</th>\n",
       "      <th>diff_act_modif</th>\n",
       "      <th>diff_end_modif</th>\n",
       "      <th>ratio_last_month_last12m_cons</th>\n",
       "    </tr>\n",
       "  </thead>\n",
       "  <tbody>\n",
       "    <tr>\n",
       "      <th>1</th>\n",
       "      <td>f</td>\n",
       "      <td>kamkkxfxxuwbdslkwifmmcsiusiuosws</td>\n",
       "      <td>decrease</td>\n",
       "      <td>increase</td>\n",
       "      <td>4660</td>\n",
       "      <td>0</td>\n",
       "      <td>189.95</td>\n",
       "      <td>0.0</td>\n",
       "      <td>16.27</td>\n",
       "      <td>0.00</td>\n",
       "      <td>...</td>\n",
       "      <td>0.078366</td>\n",
       "      <td>13.640956</td>\n",
       "      <td>2016</td>\n",
       "      <td>8</td>\n",
       "      <td>2015</td>\n",
       "      <td>8</td>\n",
       "      <td>2566</td>\n",
       "      <td>0</td>\n",
       "      <td>2566</td>\n",
       "      <td>0.000000</td>\n",
       "    </tr>\n",
       "    <tr>\n",
       "      <th>2</th>\n",
       "      <td>f</td>\n",
       "      <td>kamkkxfxxuwbdslkwifmmcsiusiuosws</td>\n",
       "      <td>decrease</td>\n",
       "      <td>increase</td>\n",
       "      <td>544</td>\n",
       "      <td>0</td>\n",
       "      <td>47.96</td>\n",
       "      <td>0.0</td>\n",
       "      <td>38.72</td>\n",
       "      <td>0.00</td>\n",
       "      <td>...</td>\n",
       "      <td>0.129466</td>\n",
       "      <td>45.058910</td>\n",
       "      <td>2016</td>\n",
       "      <td>4</td>\n",
       "      <td>2015</td>\n",
       "      <td>4</td>\n",
       "      <td>2192</td>\n",
       "      <td>0</td>\n",
       "      <td>2192</td>\n",
       "      <td>0.000000</td>\n",
       "    </tr>\n",
       "    <tr>\n",
       "      <th>3</th>\n",
       "      <td>f</td>\n",
       "      <td>kamkkxfxxuwbdslkwifmmcsiusiuosws</td>\n",
       "      <td>decrease</td>\n",
       "      <td>increase</td>\n",
       "      <td>1584</td>\n",
       "      <td>0</td>\n",
       "      <td>240.04</td>\n",
       "      <td>0.0</td>\n",
       "      <td>19.83</td>\n",
       "      <td>0.00</td>\n",
       "      <td>...</td>\n",
       "      <td>0.075605</td>\n",
       "      <td>28.408609</td>\n",
       "      <td>2016</td>\n",
       "      <td>3</td>\n",
       "      <td>2015</td>\n",
       "      <td>3</td>\n",
       "      <td>2192</td>\n",
       "      <td>0</td>\n",
       "      <td>2192</td>\n",
       "      <td>0.000000</td>\n",
       "    </tr>\n",
       "    <tr>\n",
       "      <th>4</th>\n",
       "      <td>f</td>\n",
       "      <td>kamkkxfxxuwbdslkwifmmcsiusiuosws</td>\n",
       "      <td>decrease</td>\n",
       "      <td>increase</td>\n",
       "      <td>4425</td>\n",
       "      <td>0</td>\n",
       "      <td>445.75</td>\n",
       "      <td>0.0</td>\n",
       "      <td>131.73</td>\n",
       "      <td>52.32</td>\n",
       "      <td>...</td>\n",
       "      <td>0.113906</td>\n",
       "      <td>18.799168</td>\n",
       "      <td>2016</td>\n",
       "      <td>1</td>\n",
       "      <td>2015</td>\n",
       "      <td>3</td>\n",
       "      <td>2245</td>\n",
       "      <td>0</td>\n",
       "      <td>2245</td>\n",
       "      <td>0.118870</td>\n",
       "    </tr>\n",
       "    <tr>\n",
       "      <th>5</th>\n",
       "      <td>f</td>\n",
       "      <td>lxidpiddsbxsbosboudacockeimpuepw</td>\n",
       "      <td>decrease</td>\n",
       "      <td>decrease</td>\n",
       "      <td>8302</td>\n",
       "      <td>0</td>\n",
       "      <td>796.94</td>\n",
       "      <td>0.0</td>\n",
       "      <td>30.12</td>\n",
       "      <td>181.21</td>\n",
       "      <td>...</td>\n",
       "      <td>0.128293</td>\n",
       "      <td>40.841311</td>\n",
       "      <td>2016</td>\n",
       "      <td>11</td>\n",
       "      <td>2015</td>\n",
       "      <td>12</td>\n",
       "      <td>1827</td>\n",
       "      <td>1423</td>\n",
       "      <td>404</td>\n",
       "      <td>0.240665</td>\n",
       "    </tr>\n",
       "    <tr>\n",
       "      <th>...</th>\n",
       "      <td>...</td>\n",
       "      <td>...</td>\n",
       "      <td>...</td>\n",
       "      <td>...</td>\n",
       "      <td>...</td>\n",
       "      <td>...</td>\n",
       "      <td>...</td>\n",
       "      <td>...</td>\n",
       "      <td>...</td>\n",
       "      <td>...</td>\n",
       "      <td>...</td>\n",
       "      <td>...</td>\n",
       "      <td>...</td>\n",
       "      <td>...</td>\n",
       "      <td>...</td>\n",
       "      <td>...</td>\n",
       "      <td>...</td>\n",
       "      <td>...</td>\n",
       "      <td>...</td>\n",
       "      <td>...</td>\n",
       "      <td>...</td>\n",
       "    </tr>\n",
       "    <tr>\n",
       "      <th>14537</th>\n",
       "      <td>t</td>\n",
       "      <td>lxidpiddsbxsbosboudacockeimpuepw</td>\n",
       "      <td>decrease</td>\n",
       "      <td>increase</td>\n",
       "      <td>32270</td>\n",
       "      <td>47940</td>\n",
       "      <td>4648.01</td>\n",
       "      <td>0.0</td>\n",
       "      <td>18.57</td>\n",
       "      <td>0.00</td>\n",
       "      <td>...</td>\n",
       "      <td>0.072062</td>\n",
       "      <td>21.198938</td>\n",
       "      <td>2016</td>\n",
       "      <td>5</td>\n",
       "      <td>2014</td>\n",
       "      <td>5</td>\n",
       "      <td>1445</td>\n",
       "      <td>1079</td>\n",
       "      <td>366</td>\n",
       "      <td>0.000000</td>\n",
       "    </tr>\n",
       "    <tr>\n",
       "      <th>14538</th>\n",
       "      <td>f</td>\n",
       "      <td>lxidpiddsbxsbosboudacockeimpuepw</td>\n",
       "      <td>decrease</td>\n",
       "      <td>increase</td>\n",
       "      <td>7223</td>\n",
       "      <td>0</td>\n",
       "      <td>631.69</td>\n",
       "      <td>0.0</td>\n",
       "      <td>144.03</td>\n",
       "      <td>15.94</td>\n",
       "      <td>...</td>\n",
       "      <td>0.101103</td>\n",
       "      <td>18.186301</td>\n",
       "      <td>2016</td>\n",
       "      <td>8</td>\n",
       "      <td>2015</td>\n",
       "      <td>8</td>\n",
       "      <td>1461</td>\n",
       "      <td>0</td>\n",
       "      <td>1461</td>\n",
       "      <td>0.025059</td>\n",
       "    </tr>\n",
       "    <tr>\n",
       "      <th>14539</th>\n",
       "      <td>f</td>\n",
       "      <td>lxidpiddsbxsbosboudacockeimpuepw</td>\n",
       "      <td>decrease</td>\n",
       "      <td>increase</td>\n",
       "      <td>1844</td>\n",
       "      <td>0</td>\n",
       "      <td>190.39</td>\n",
       "      <td>0.0</td>\n",
       "      <td>129.60</td>\n",
       "      <td>18.05</td>\n",
       "      <td>...</td>\n",
       "      <td>0.114066</td>\n",
       "      <td>18.237929</td>\n",
       "      <td>2016</td>\n",
       "      <td>2</td>\n",
       "      <td>2015</td>\n",
       "      <td>2</td>\n",
       "      <td>1460</td>\n",
       "      <td>0</td>\n",
       "      <td>1460</td>\n",
       "      <td>0.097072</td>\n",
       "    </tr>\n",
       "    <tr>\n",
       "      <th>14540</th>\n",
       "      <td>f</td>\n",
       "      <td>lxidpiddsbxsbosboudacockeimpuepw</td>\n",
       "      <td>decrease</td>\n",
       "      <td>increase</td>\n",
       "      <td>131</td>\n",
       "      <td>0</td>\n",
       "      <td>19.34</td>\n",
       "      <td>0.0</td>\n",
       "      <td>7.18</td>\n",
       "      <td>0.00</td>\n",
       "      <td>...</td>\n",
       "      <td>0.078366</td>\n",
       "      <td>12.121174</td>\n",
       "      <td>2016</td>\n",
       "      <td>8</td>\n",
       "      <td>2015</td>\n",
       "      <td>8</td>\n",
       "      <td>1461</td>\n",
       "      <td>0</td>\n",
       "      <td>1461</td>\n",
       "      <td>0.000000</td>\n",
       "    </tr>\n",
       "    <tr>\n",
       "      <th>14541</th>\n",
       "      <td>f</td>\n",
       "      <td>ldkssxwpmemidmecebumciepifcamkci</td>\n",
       "      <td>decrease</td>\n",
       "      <td>decrease</td>\n",
       "      <td>8730</td>\n",
       "      <td>0</td>\n",
       "      <td>762.41</td>\n",
       "      <td>0.0</td>\n",
       "      <td>1.07</td>\n",
       "      <td>0.00</td>\n",
       "      <td>...</td>\n",
       "      <td>0.128003</td>\n",
       "      <td>501.481008</td>\n",
       "      <td>2016</td>\n",
       "      <td>12</td>\n",
       "      <td>2015</td>\n",
       "      <td>12</td>\n",
       "      <td>2556</td>\n",
       "      <td>0</td>\n",
       "      <td>2556</td>\n",
       "      <td>0.000000</td>\n",
       "    </tr>\n",
       "  </tbody>\n",
       "</table>\n",
       "<p>14340 rows × 27 columns</p>\n",
       "</div>"
      ],
      "text/plain": [
       "      has_gas                         origin_up price_change_energy  \\\n",
       "1           f  kamkkxfxxuwbdslkwifmmcsiusiuosws            decrease   \n",
       "2           f  kamkkxfxxuwbdslkwifmmcsiusiuosws            decrease   \n",
       "3           f  kamkkxfxxuwbdslkwifmmcsiusiuosws            decrease   \n",
       "4           f  kamkkxfxxuwbdslkwifmmcsiusiuosws            decrease   \n",
       "5           f  lxidpiddsbxsbosboudacockeimpuepw            decrease   \n",
       "...       ...                               ...                 ...   \n",
       "14537       t  lxidpiddsbxsbosboudacockeimpuepw            decrease   \n",
       "14538       f  lxidpiddsbxsbosboudacockeimpuepw            decrease   \n",
       "14539       f  lxidpiddsbxsbosboudacockeimpuepw            decrease   \n",
       "14540       f  lxidpiddsbxsbosboudacockeimpuepw            decrease   \n",
       "14541       f  ldkssxwpmemidmecebumciepifcamkci            decrease   \n",
       "\n",
       "      price_change_power  cons_12m  cons_gas_12m  forecast_cons_12m  \\\n",
       "1               increase      4660             0             189.95   \n",
       "2               increase       544             0              47.96   \n",
       "3               increase      1584             0             240.04   \n",
       "4               increase      4425             0             445.75   \n",
       "5               decrease      8302             0             796.94   \n",
       "...                  ...       ...           ...                ...   \n",
       "14537           increase     32270         47940            4648.01   \n",
       "14538           increase      7223             0             631.69   \n",
       "14539           increase      1844             0             190.39   \n",
       "14540           increase       131             0              19.34   \n",
       "14541           decrease      8730             0             762.41   \n",
       "\n",
       "       forecast_discount_energy  forecast_meter_rent_12m  imp_cons  ...  \\\n",
       "1                           0.0                    16.27      0.00  ...   \n",
       "2                           0.0                    38.72      0.00  ...   \n",
       "3                           0.0                    19.83      0.00  ...   \n",
       "4                           0.0                   131.73     52.32  ...   \n",
       "5                           0.0                    30.12    181.21  ...   \n",
       "...                         ...                      ...       ...  ...   \n",
       "14537                       0.0                    18.57      0.00  ...   \n",
       "14538                       0.0                   144.03     15.94  ...   \n",
       "14539                       0.0                   129.60     18.05  ...   \n",
       "14540                       0.0                     7.18      0.00  ...   \n",
       "14541                       0.0                     1.07      0.00  ...   \n",
       "\n",
       "       previous_price  price_sens  end_year  modif_prod_month  renewal_year  \\\n",
       "1            0.078366   13.640956      2016                 8          2015   \n",
       "2            0.129466   45.058910      2016                 4          2015   \n",
       "3            0.075605   28.408609      2016                 3          2015   \n",
       "4            0.113906   18.799168      2016                 1          2015   \n",
       "5            0.128293   40.841311      2016                11          2015   \n",
       "...               ...         ...       ...               ...           ...   \n",
       "14537        0.072062   21.198938      2016                 5          2014   \n",
       "14538        0.101103   18.186301      2016                 8          2015   \n",
       "14539        0.114066   18.237929      2016                 2          2015   \n",
       "14540        0.078366   12.121174      2016                 8          2015   \n",
       "14541        0.128003  501.481008      2016                12          2015   \n",
       "\n",
       "       renewal_month  diff_act_end  diff_act_modif  diff_end_modif  \\\n",
       "1                  8          2566               0            2566   \n",
       "2                  4          2192               0            2192   \n",
       "3                  3          2192               0            2192   \n",
       "4                  3          2245               0            2245   \n",
       "5                 12          1827            1423             404   \n",
       "...              ...           ...             ...             ...   \n",
       "14537              5          1445            1079             366   \n",
       "14538              8          1461               0            1461   \n",
       "14539              2          1460               0            1460   \n",
       "14540              8          1461               0            1461   \n",
       "14541             12          2556               0            2556   \n",
       "\n",
       "       ratio_last_month_last12m_cons  \n",
       "1                           0.000000  \n",
       "2                           0.000000  \n",
       "3                           0.000000  \n",
       "4                           0.118870  \n",
       "5                           0.240665  \n",
       "...                              ...  \n",
       "14537                       0.000000  \n",
       "14538                       0.025059  \n",
       "14539                       0.097072  \n",
       "14540                       0.000000  \n",
       "14541                       0.000000  \n",
       "\n",
       "[14340 rows x 27 columns]"
      ]
     },
     "execution_count": 344,
     "metadata": {},
     "output_type": "execute_result"
    }
   ],
   "source": [
    "# Concatenating the dataframes without the \"id\" and datetime columns\n",
    "df_full = pd.concat([new_df_ft[cat_ftr], df_1], axis=1)\n",
    "df_full"
   ]
  },
  {
   "cell_type": "code",
   "execution_count": 345,
   "metadata": {
    "colab": {
     "base_uri": "https://localhost:8080/"
    },
    "id": "m_nRvgb6ayLD",
    "outputId": "eb84ff3a-5ef4-49dd-b5d8-bac19b5cb718"
   },
   "outputs": [
    {
     "data": {
      "text/plain": [
       "1        0\n",
       "2        0\n",
       "3        0\n",
       "4        0\n",
       "5        1\n",
       "        ..\n",
       "14537    0\n",
       "14538    1\n",
       "14539    1\n",
       "14540    0\n",
       "14541    0\n",
       "Name: churn, Length: 14340, dtype: int64"
      ]
     },
     "execution_count": 345,
     "metadata": {},
     "output_type": "execute_result"
    }
   ],
   "source": [
    "# Getting the target 'churn'\n",
    "y = df_full.pop('churn')\n",
    "y"
   ]
  },
  {
   "cell_type": "code",
   "execution_count": 357,
   "metadata": {
    "colab": {
     "base_uri": "https://localhost:8080/"
    },
    "id": "M7FvviRAbAom",
    "outputId": "076ea88d-5b3b-41d9-d66a-6bdb7dec95ec"
   },
   "outputs": [
    {
     "name": "stdout",
     "output_type": "stream",
     "text": [
      "10038 4302 10038 4302\n"
     ]
    }
   ],
   "source": [
    "# Splitting the dataset into train and test sets\n",
    "train_X, test_X, train_y, test_y = train_test_split(df_full, y, test_size=0.30)\n",
    "print(len(train_X), len(test_X), len(train_y), len(test_y))"
   ]
  },
  {
   "cell_type": "code",
   "execution_count": 358,
   "metadata": {
    "colab": {
     "base_uri": "https://localhost:8080/"
    },
    "id": "5JwSfmIMcNNX",
    "outputId": "976bafb9-a887-4604-cf64-c7d8efac77f8"
   },
   "outputs": [
    {
     "name": "stdout",
     "output_type": "stream",
     "text": [
      "26\n",
      "53\n"
     ]
    }
   ],
   "source": [
    "# Getting the names of the features after the first phase of feature selection \n",
    "# Getting numerical features \n",
    "num_ftr = [col for col in df_full.columns if df_full[col].dtype in ['int64', 'float64']]\n",
    "\n",
    "# Getting datetime features \n",
    "\n",
    "date_ftr = [col for col in df_full.columns if df_full[col].dtype == 'datetime64[ns]']\n",
    "\n",
    "# Getting categorical features \n",
    "cat_ftr = [col for col in df_full.columns if col not in num_ftr + date_ftr and col != 'id']\n",
    "\n",
    "print(len(num_ftr)+len(cat_ftr))\n",
    "print(len(new_df_ft.columns))"
   ]
  },
  {
   "cell_type": "markdown",
   "metadata": {},
   "source": [
    "### IV. Tuning and training the Random Forest model.\n",
    "\n",
    "#### 1). The reasons why Random Forest is a good choice for our case."
   ]
  },
  {
   "cell_type": "markdown",
   "metadata": {},
   "source": [
    "The reasons why Random forest is a good choice are :\n",
    "\n",
    "- Having an important number of features (like the case of our dataset) can increase the complexity of the model which may cause the problem of overfitting the dataset. Random forest, which is a bagging algorithm will be  a good choice for our dataset because bagging algorithms tend to reduce variance (overfitting).\n",
    "\n",
    "- It is a good choice because it can handle outliers for the reason that decision trees are robust to outliers because they make decisions by asking if a variable x is >= than a certain value, and therefore the outlier will fall on one of the sides of the equation.\n",
    "\n",
    "The main disadvantage of random forest models is the large inference time which makes the model slow when doing predictions.\n"
   ]
  },
  {
   "cell_type": "markdown",
   "metadata": {},
   "source": [
    "#### 2). Tuning and training the model"
   ]
  },
  {
   "cell_type": "code",
   "execution_count": 349,
   "metadata": {
    "colab": {
     "base_uri": "https://localhost:8080/",
     "height": 1000,
     "referenced_widgets": [
      "244cd423cd0f40bb92770babe179697e",
      "c81a547e43a544e8bda5bae91c61daf1",
      "df66dba21afd459081b08beb99407ef9",
      "5ba5ce67a44641b89b8571c4b9b78221",
      "debf1f79445242f3b0c7626773ecaf2e",
      "5bccd4cdbd194d93aea5409df08e63a3",
      "e935a2d8406741dbae1653f10a00c9c3",
      "6eebde42e11c4cfab2253176dc3f2bdf",
      "afa173865e49403b8a15294eb77f13e2",
      "57e0e384ee5946a783cf192e354c49e4",
      "364baa7d4dd84bb0a3180615b6f3eb45"
     ]
    },
    "id": "ZwqtWV2QbToC",
    "outputId": "c14fefab-b705-46c1-b2bb-c506ed732215"
   },
   "outputs": [
    {
     "name": "stderr",
     "output_type": "stream",
     "text": [
      "\u001b[32m[I 2022-11-07 22:24:23,896]\u001b[0m A new study created in memory with name: no-name-2ed35ba7-b223-422f-ab69-f7950ec3ee84\u001b[0m\n",
      "Progress bar is experimental (supported from v1.2.0). The interface can change in the future.\n"
     ]
    },
    {
     "data": {
      "application/vnd.jupyter.widget-view+json": {
       "model_id": "43ee79521aee4af9b8109d1ef152e83d",
       "version_major": 2,
       "version_minor": 0
      },
      "text/plain": [
       "  0%|          | 0/200 [00:00<?, ?it/s]"
      ]
     },
     "metadata": {},
     "output_type": "display_data"
    },
    {
     "name": "stdout",
     "output_type": "stream",
     "text": [
      "\u001b[32m[I 2022-11-07 22:25:46,724]\u001b[0m Trial 0 finished with value: 0.02000050001250031 and parameters: {'scalers': 'standard', 'encoders': 'PRatio', 'n_estimators': 59, 'max_depth': 6, 'k': 21}. Best is trial 0 with value: 0.02000050001250031.\u001b[0m\n",
      "\u001b[32m[I 2022-11-07 22:29:56,720]\u001b[0m Trial 1 finished with value: 0.08001219496421315 and parameters: {'scalers': 'robust', 'encoders': 'PRatio', 'n_estimators': 157, 'max_depth': 13, 'k': 19}. Best is trial 1 with value: 0.08001219496421315.\u001b[0m\n",
      "\u001b[32m[I 2022-11-07 22:34:40,034]\u001b[0m Trial 2 finished with value: 0.019491995314330338 and parameters: {'scalers': 'standard', 'encoders': 'Count', 'n_estimators': 368, 'max_depth': 8, 'k': 13}. Best is trial 1 with value: 0.08001219496421315.\u001b[0m\n",
      "\u001b[32m[I 2022-11-07 22:38:05,982]\u001b[0m Trial 3 finished with value: 0.0040405071040481595 and parameters: {'scalers': 'minmax', 'encoders': 'Mean', 'n_estimators': 375, 'max_depth': 8, 'k': 10}. Best is trial 1 with value: 0.08001219496421315.\u001b[0m\n",
      "\u001b[32m[I 2022-11-07 22:42:06,856]\u001b[0m Trial 4 finished with value: 0.04516023479961177 and parameters: {'scalers': 'minmax', 'encoders': 'Ordinal', 'n_estimators': 296, 'max_depth': 14, 'k': 9}. Best is trial 1 with value: 0.08001219496421315.\u001b[0m\n",
      "\u001b[32m[I 2022-11-07 22:43:46,343]\u001b[0m Trial 5 finished with value: 0.011872418768970494 and parameters: {'scalers': 'standard', 'encoders': 'OneHot', 'n_estimators': 173, 'max_depth': 7, 'k': 19}. Best is trial 1 with value: 0.08001219496421315.\u001b[0m\n",
      "\u001b[32m[I 2022-11-07 22:44:36,023]\u001b[0m Trial 6 finished with value: 0.0 and parameters: {'scalers': 'minmax', 'encoders': 'OneHot', 'n_estimators': 189, 'max_depth': 2, 'k': 15}. Best is trial 1 with value: 0.08001219496421315.\u001b[0m\n",
      "\u001b[32m[I 2022-11-07 22:44:54,949]\u001b[0m Trial 7 finished with value: 0.0 and parameters: {'scalers': 'robust', 'encoders': 'Ordinal', 'n_estimators': 50, 'max_depth': 2, 'k': 5}. Best is trial 1 with value: 0.08001219496421315.\u001b[0m\n",
      "\u001b[32m[I 2022-11-07 22:48:24,059]\u001b[0m Trial 8 finished with value: 0.027297942063936216 and parameters: {'scalers': 'minmax', 'encoders': 'Count', 'n_estimators': 324, 'max_depth': 10, 'k': 16}. Best is trial 1 with value: 0.08001219496421315.\u001b[0m\n",
      "\u001b[32m[I 2022-11-07 22:48:58,245]\u001b[0m Trial 9 finished with value: 0.0 and parameters: {'scalers': 'standard', 'encoders': 'Mean', 'n_estimators': 154, 'max_depth': 2, 'k': 12}. Best is trial 1 with value: 0.08001219496421315.\u001b[0m\n",
      "\u001b[32m[I 2022-11-07 22:50:56,337]\u001b[0m Trial 10 finished with value: 0.12215848038837698 and parameters: {'scalers': 'robust', 'encoders': 'PRatio', 'n_estimators': 107, 'max_depth': 14, 'k': 25}. Best is trial 10 with value: 0.12215848038837698.\u001b[0m\n",
      "\u001b[32m[I 2022-11-07 22:53:10,109]\u001b[0m Trial 11 finished with value: 0.11695928527011001 and parameters: {'scalers': 'robust', 'encoders': 'PRatio', 'n_estimators': 116, 'max_depth': 14, 'k': 26}. Best is trial 10 with value: 0.12215848038837698.\u001b[0m\n",
      "\u001b[32m[I 2022-11-07 22:54:51,698]\u001b[0m Trial 12 finished with value: 0.09870864496180518 and parameters: {'scalers': 'robust', 'encoders': 'PRatio', 'n_estimators': 98, 'max_depth': 12, 'k': 26}. Best is trial 10 with value: 0.12215848038837698.\u001b[0m\n",
      "\u001b[32m[I 2022-11-07 22:58:36,481]\u001b[0m Trial 13 finished with value: 0.07546092982217026 and parameters: {'scalers': 'robust', 'encoders': 'PRatio', 'n_estimators': 246, 'max_depth': 11, 'k': 25}. Best is trial 10 with value: 0.12215848038837698.\u001b[0m\n",
      "\u001b[32m[I 2022-11-07 23:00:24,815]\u001b[0m Trial 14 finished with value: 0.05992097537630079 and parameters: {'scalers': 'robust', 'encoders': 'PRatio', 'n_estimators': 106, 'max_depth': 10, 'k': 23}. Best is trial 10 with value: 0.12215848038837698.\u001b[0m\n",
      "\u001b[32m[I 2022-11-07 23:02:53,016]\u001b[0m Trial 15 finished with value: 0.11266373171297536 and parameters: {'scalers': 'robust', 'encoders': 'PRatio', 'n_estimators': 116, 'max_depth': 14, 'k': 23}. Best is trial 10 with value: 0.12215848038837698.\u001b[0m\n",
      "\u001b[32m[I 2022-11-07 23:05:15,838]\u001b[0m Trial 16 finished with value: 0.022061706208883265 and parameters: {'scalers': 'robust', 'encoders': 'PRatio', 'n_estimators': 237, 'max_depth': 5, 'k': 26}. Best is trial 10 with value: 0.12215848038837698.\u001b[0m\n",
      "\u001b[32m[I 2022-11-07 23:06:00,640]\u001b[0m Trial 17 finished with value: 0.09390634381647181 and parameters: {'scalers': 'robust', 'encoders': 'PRatio', 'n_estimators': 28, 'max_depth': 12, 'k': 23}. Best is trial 10 with value: 0.12215848038837698.\u001b[0m\n",
      "\u001b[32m[I 2022-11-07 23:07:56,175]\u001b[0m Trial 18 finished with value: 0.0786826175574421 and parameters: {'scalers': 'robust', 'encoders': 'Count', 'n_estimators': 94, 'max_depth': 14, 'k': 19}. Best is trial 10 with value: 0.12215848038837698.\u001b[0m\n",
      "\u001b[32m[I 2022-11-07 23:10:07,674]\u001b[0m Trial 19 finished with value: 0.062054949862734896 and parameters: {'scalers': 'robust', 'encoders': 'Mean', 'n_estimators': 134, 'max_depth': 10, 'k': 21}. Best is trial 10 with value: 0.12215848038837698.\u001b[0m\n",
      "\u001b[32m[I 2022-11-07 23:13:15,764]\u001b[0m Trial 20 finished with value: 0.09647706285357371 and parameters: {'scalers': 'robust', 'encoders': 'Ordinal', 'n_estimators': 207, 'max_depth': 12, 'k': 24}. Best is trial 10 with value: 0.12215848038837698.\u001b[0m\n",
      "\u001b[32m[I 2022-11-07 23:14:41,974]\u001b[0m Trial 21 finished with value: 0.10858109491606124 and parameters: {'scalers': 'robust', 'encoders': 'PRatio', 'n_estimators': 124, 'max_depth': 14, 'k': 22}. Best is trial 10 with value: 0.12215848038837698.\u001b[0m\n",
      "\u001b[32m[I 2022-11-07 23:15:47,513]\u001b[0m Trial 22 finished with value: 0.10886685506656094 and parameters: {'scalers': 'robust', 'encoders': 'PRatio', 'n_estimators': 82, 'max_depth': 13, 'k': 26}. Best is trial 10 with value: 0.12215848038837698.\u001b[0m\n",
      "\u001b[32m[I 2022-11-07 23:16:12,181]\u001b[0m Trial 23 finished with value: 0.11625985415430269 and parameters: {'scalers': 'robust', 'encoders': 'PRatio', 'n_estimators': 24, 'max_depth': 13, 'k': 24}. Best is trial 10 with value: 0.12215848038837698.\u001b[0m\n",
      "\u001b[32m[I 2022-11-07 23:16:40,918]\u001b[0m Trial 24 finished with value: 0.062044688969471 and parameters: {'scalers': 'robust', 'encoders': 'PRatio', 'n_estimators': 36, 'max_depth': 13, 'k': 17}. Best is trial 10 with value: 0.12215848038837698.\u001b[0m\n",
      "\u001b[32m[I 2022-11-07 23:17:28,059]\u001b[0m Trial 25 finished with value: 0.03703005843905579 and parameters: {'scalers': 'robust', 'encoders': 'OneHot', 'n_estimators': 69, 'max_depth': 11, 'k': 24}. Best is trial 10 with value: 0.12215848038837698.\u001b[0m\n",
      "\u001b[32m[I 2022-11-07 23:17:53,263]\u001b[0m Trial 26 finished with value: 0.0973557369321169 and parameters: {'scalers': 'robust', 'encoders': 'PRatio', 'n_estimators': 27, 'max_depth': 13, 'k': 21}. Best is trial 10 with value: 0.12215848038837698.\u001b[0m\n",
      "\u001b[32m[I 2022-11-07 23:18:40,213]\u001b[0m Trial 27 finished with value: 0.07653404205858913 and parameters: {'scalers': 'minmax', 'encoders': 'PRatio', 'n_estimators': 68, 'max_depth': 11, 'k': 25}. Best is trial 10 with value: 0.12215848038837698.\u001b[0m\n",
      "\u001b[32m[I 2022-11-07 23:19:45,924]\u001b[0m Trial 28 finished with value: 0.04122113964670353 and parameters: {'scalers': 'standard', 'encoders': 'PRatio', 'n_estimators': 137, 'max_depth': 9, 'k': 20}. Best is trial 10 with value: 0.12215848038837698.\u001b[0m\n",
      "\u001b[32m[I 2022-11-07 23:20:10,719]\u001b[0m Trial 29 finished with value: 0.026003158991630766 and parameters: {'scalers': 'robust', 'encoders': 'PRatio', 'n_estimators': 56, 'max_depth': 5, 'k': 22}. Best is trial 10 with value: 0.12215848038837698.\u001b[0m\n",
      "\u001b[32m[I 2022-11-07 23:22:45,833]\u001b[0m Trial 30 finished with value: 0.09316126568338072 and parameters: {'scalers': 'standard', 'encoders': 'Count', 'n_estimators': 247, 'max_depth': 12, 'k': 24}. Best is trial 10 with value: 0.12215848038837698.\u001b[0m\n",
      "\u001b[32m[I 2022-11-07 23:24:20,333]\u001b[0m Trial 31 finished with value: 0.10974882029041681 and parameters: {'scalers': 'robust', 'encoders': 'PRatio', 'n_estimators': 123, 'max_depth': 14, 'k': 23}. Best is trial 10 with value: 0.12215848038837698.\u001b[0m\n",
      "\u001b[32m[I 2022-11-07 23:26:31,086]\u001b[0m Trial 32 finished with value: 0.11043810658008321 and parameters: {'scalers': 'robust', 'encoders': 'PRatio', 'n_estimators': 160, 'max_depth': 14, 'k': 25}. Best is trial 10 with value: 0.12215848038837698.\u001b[0m\n",
      "\u001b[32m[I 2022-11-07 23:28:01,014]\u001b[0m Trial 33 finished with value: 0.1021883855657579 and parameters: {'scalers': 'robust', 'encoders': 'PRatio', 'n_estimators': 109, 'max_depth': 13, 'k': 26}. Best is trial 10 with value: 0.12215848038837698.\u001b[0m\n",
      "\u001b[32m[I 2022-11-07 23:30:11,767]\u001b[0m Trial 34 finished with value: 0.1096204786532144 and parameters: {'scalers': 'robust', 'encoders': 'PRatio', 'n_estimators': 190, 'max_depth': 14, 'k': 18}. Best is trial 10 with value: 0.12215848038837698.\u001b[0m\n",
      "\u001b[32m[I 2022-11-07 23:31:10,930]\u001b[0m Trial 35 finished with value: 0.11951040700849598 and parameters: {'scalers': 'robust', 'encoders': 'Mean', 'n_estimators': 75, 'max_depth': 13, 'k': 22}. Best is trial 10 with value: 0.12215848038837698.\u001b[0m\n",
      "\u001b[32m[I 2022-11-07 23:32:10,102]\u001b[0m Trial 36 finished with value: 0.05373259920606606 and parameters: {'scalers': 'robust', 'encoders': 'Mean', 'n_estimators': 81, 'max_depth': 13, 'k': 20}. Best is trial 10 with value: 0.12215848038837698.\u001b[0m\n",
      "\u001b[32m[I 2022-11-07 23:32:49,051]\u001b[0m Trial 37 finished with value: 0.087402819350508 and parameters: {'scalers': 'minmax', 'encoders': 'Mean', 'n_estimators': 48, 'max_depth': 12, 'k': 22}. Best is trial 10 with value: 0.12215848038837698.\u001b[0m\n",
      "\u001b[32m[I 2022-11-07 23:33:10,495]\u001b[0m Trial 38 finished with value: 0.06197393344046702 and parameters: {'scalers': 'standard', 'encoders': 'Mean', 'n_estimators': 20, 'max_depth': 9, 'k': 24}. Best is trial 10 with value: 0.12215848038837698.\u001b[0m\n",
      "\u001b[32m[I 2022-11-07 23:33:52,251]\u001b[0m Trial 39 finished with value: 0.02576296151782666 and parameters: {'scalers': 'robust', 'encoders': 'Ordinal', 'n_estimators': 82, 'max_depth': 7, 'k': 21}. Best is trial 10 with value: 0.12215848038837698.\u001b[0m\n",
      "\u001b[32m[I 2022-11-07 23:35:13,633]\u001b[0m Trial 40 finished with value: 0.043185322728012364 and parameters: {'scalers': 'minmax', 'encoders': 'OneHot', 'n_estimators': 148, 'max_depth': 13, 'k': 14}. Best is trial 10 with value: 0.12215848038837698.\u001b[0m\n",
      "\u001b[32m[I 2022-11-07 23:37:01,722]\u001b[0m Trial 41 finished with value: 0.11407024920445999 and parameters: {'scalers': 'robust', 'encoders': 'Mean', 'n_estimators': 115, 'max_depth': 14, 'k': 25}. Best is trial 10 with value: 0.12215848038837698.\u001b[0m\n",
      "\u001b[32m[I 2022-11-07 23:37:46,804]\u001b[0m Trial 42 finished with value: 0.11212327723263163 and parameters: {'scalers': 'robust', 'encoders': 'Mean', 'n_estimators': 47, 'max_depth': 13, 'k': 25}. Best is trial 10 with value: 0.12215848038837698.\u001b[0m\n",
      "\u001b[32m[I 2022-11-07 23:38:26,873]\u001b[0m Trial 43 finished with value: 0.05541263226549953 and parameters: {'scalers': 'robust', 'encoders': 'Mean', 'n_estimators': 67, 'max_depth': 14, 'k': 10}. Best is trial 10 with value: 0.12215848038837698.\u001b[0m\n",
      "\u001b[32m[I 2022-11-07 23:40:00,389]\u001b[0m Trial 44 finished with value: 0.07648470383910537 and parameters: {'scalers': 'robust', 'encoders': 'Mean', 'n_estimators': 94, 'max_depth': 11, 'k': 26}. Best is trial 10 with value: 0.12215848038837698.\u001b[0m\n",
      "\u001b[32m[I 2022-11-07 23:41:40,351]\u001b[0m Trial 45 finished with value: 0.023795445438638325 and parameters: {'scalers': 'robust', 'encoders': 'Mean', 'n_estimators': 169, 'max_depth': 12, 'k': 5}. Best is trial 10 with value: 0.12215848038837698.\u001b[0m\n",
      "\u001b[32m[I 2022-11-07 23:43:05,339]\u001b[0m Trial 46 finished with value: 0.10819682223626667 and parameters: {'scalers': 'standard', 'encoders': 'Mean', 'n_estimators': 46, 'max_depth': 14, 'k': 25}. Best is trial 10 with value: 0.12215848038837698.\u001b[0m\n",
      "\u001b[32m[I 2022-11-07 23:45:33,555]\u001b[0m Trial 47 finished with value: 0.033124949802665206 and parameters: {'scalers': 'robust', 'encoders': 'Count', 'n_estimators': 332, 'max_depth': 13, 'k': 7}. Best is trial 10 with value: 0.12215848038837698.\u001b[0m\n",
      "\u001b[32m[I 2022-11-07 23:50:33,707]\u001b[0m Trial 48 finished with value: 0.12450634895656347 and parameters: {'scalers': 'minmax', 'encoders': 'Ordinal', 'n_estimators': 399, 'max_depth': 14, 'k': 23}. Best is trial 48 with value: 0.12450634895656347.\u001b[0m\n",
      "\u001b[32m[I 2022-11-07 23:51:41,141]\u001b[0m Trial 49 finished with value: 0.0 and parameters: {'scalers': 'minmax', 'encoders': 'Ordinal', 'n_estimators': 314, 'max_depth': 3, 'k': 23}. Best is trial 48 with value: 0.12450634895656347.\u001b[0m\n",
      "\u001b[32m[I 2022-11-07 23:55:29,906]\u001b[0m Trial 50 finished with value: 0.08603689910259196 and parameters: {'scalers': 'minmax', 'encoders': 'Ordinal', 'n_estimators': 396, 'max_depth': 12, 'k': 20}. Best is trial 48 with value: 0.12450634895656347.\u001b[0m\n",
      "\u001b[32m[I 2022-11-07 23:57:49,343]\u001b[0m Trial 51 finished with value: 0.12499983435316568 and parameters: {'scalers': 'minmax', 'encoders': 'Ordinal', 'n_estimators': 183, 'max_depth': 14, 'k': 24}. Best is trial 51 with value: 0.12499983435316568.\u001b[0m\n",
      "\u001b[32m[I 2022-11-08 00:01:34,075]\u001b[0m Trial 52 finished with value: 0.11100715872215643 and parameters: {'scalers': 'minmax', 'encoders': 'Ordinal', 'n_estimators': 268, 'max_depth': 13, 'k': 24}. Best is trial 51 with value: 0.12499983435316568.\u001b[0m\n",
      "\u001b[32m[I 2022-11-08 00:11:39,523]\u001b[0m Trial 53 finished with value: 0.11400206709405183 and parameters: {'scalers': 'minmax', 'encoders': 'Ordinal', 'n_estimators': 356, 'max_depth': 14, 'k': 22}. Best is trial 51 with value: 0.12499983435316568.\u001b[0m\n",
      "\u001b[32m[I 2022-11-08 00:15:40,318]\u001b[0m Trial 54 finished with value: 0.11418972138693484 and parameters: {'scalers': 'minmax', 'encoders': 'Ordinal', 'n_estimators': 187, 'max_depth': 13, 'k': 23}. Best is trial 51 with value: 0.12499983435316568.\u001b[0m\n",
      "\u001b[32m[I 2022-11-08 00:20:19,038]\u001b[0m Trial 55 finished with value: 0.11234842911618251 and parameters: {'scalers': 'minmax', 'encoders': 'Ordinal', 'n_estimators': 215, 'max_depth': 14, 'k': 26}. Best is trial 51 with value: 0.12499983435316568.\u001b[0m\n",
      "\u001b[32m[I 2022-11-08 00:22:57,834]\u001b[0m Trial 56 finished with value: 0.04093122669996963 and parameters: {'scalers': 'minmax', 'encoders': 'OneHot', 'n_estimators': 149, 'max_depth': 12, 'k': 24}. Best is trial 51 with value: 0.12499983435316568.\u001b[0m\n",
      "\u001b[32m[I 2022-11-08 00:27:48,415]\u001b[0m Trial 57 finished with value: 0.08751418373014593 and parameters: {'scalers': 'minmax', 'encoders': 'Ordinal', 'n_estimators': 282, 'max_depth': 13, 'k': 22}. Best is trial 51 with value: 0.12499983435316568.\u001b[0m\n",
      "\u001b[32m[I 2022-11-08 00:30:27,497]\u001b[0m Trial 58 finished with value: 0.11032404316551223 and parameters: {'scalers': 'minmax', 'encoders': 'Ordinal', 'n_estimators': 136, 'max_depth': 14, 'k': 19}. Best is trial 51 with value: 0.12499983435316568.\u001b[0m\n",
      "\u001b[32m[I 2022-11-08 00:32:17,892]\u001b[0m Trial 59 finished with value: 0.0952778588489301 and parameters: {'scalers': 'minmax', 'encoders': 'PRatio', 'n_estimators': 96, 'max_depth': 11, 'k': 23}. Best is trial 51 with value: 0.12499983435316568.\u001b[0m\n",
      "\u001b[32m[I 2022-11-08 00:35:29,990]\u001b[0m Trial 60 finished with value: 0.03494684181754932 and parameters: {'scalers': 'standard', 'encoders': 'Count', 'n_estimators': 218, 'max_depth': 12, 'k': 16}. Best is trial 51 with value: 0.12499983435316568.\u001b[0m\n",
      "\u001b[32m[I 2022-11-08 00:39:03,967]\u001b[0m Trial 61 finished with value: 0.1175095397269917 and parameters: {'scalers': 'minmax', 'encoders': 'Ordinal', 'n_estimators': 187, 'max_depth': 13, 'k': 24}. Best is trial 51 with value: 0.12499983435316568.\u001b[0m\n",
      "\u001b[32m[I 2022-11-08 00:42:39,034]\u001b[0m Trial 62 finished with value: 0.10396139527848065 and parameters: {'scalers': 'minmax', 'encoders': 'Ordinal', 'n_estimators': 183, 'max_depth': 13, 'k': 24}. Best is trial 51 with value: 0.12499983435316568.\u001b[0m\n",
      "\u001b[32m[I 2022-11-08 00:47:02,469]\u001b[0m Trial 63 finished with value: 0.12492877492877492 and parameters: {'scalers': 'minmax', 'encoders': 'Ordinal', 'n_estimators': 199, 'max_depth': 14, 'k': 25}. Best is trial 51 with value: 0.12499983435316568.\u001b[0m\n",
      "\u001b[32m[I 2022-11-08 00:51:09,761]\u001b[0m Trial 64 finished with value: 0.1173680228396123 and parameters: {'scalers': 'minmax', 'encoders': 'Ordinal', 'n_estimators': 205, 'max_depth': 14, 'k': 25}. Best is trial 51 with value: 0.12499983435316568.\u001b[0m\n",
      "\u001b[32m[I 2022-11-08 00:55:43,234]\u001b[0m Trial 65 finished with value: 0.11577191340445274 and parameters: {'scalers': 'minmax', 'encoders': 'Ordinal', 'n_estimators': 228, 'max_depth': 14, 'k': 25}. Best is trial 51 with value: 0.12499983435316568.\u001b[0m\n",
      "\u001b[32m[I 2022-11-08 01:00:38,138]\u001b[0m Trial 66 finished with value: 0.10522828026535509 and parameters: {'scalers': 'minmax', 'encoders': 'Ordinal', 'n_estimators': 204, 'max_depth': 14, 'k': 21}. Best is trial 51 with value: 0.12499983435316568.\u001b[0m\n",
      "\u001b[32m[I 2022-11-08 01:05:27,315]\u001b[0m Trial 67 finished with value: 0.119321724704744 and parameters: {'scalers': 'minmax', 'encoders': 'Ordinal', 'n_estimators': 198, 'max_depth': 14, 'k': 26}. Best is trial 51 with value: 0.12499983435316568.\u001b[0m\n",
      "\u001b[32m[I 2022-11-08 01:10:55,870]\u001b[0m Trial 68 finished with value: 0.11235073778796667 and parameters: {'scalers': 'minmax', 'encoders': 'Ordinal', 'n_estimators': 256, 'max_depth': 14, 'k': 26}. Best is trial 51 with value: 0.12499983435316568.\u001b[0m\n",
      "\u001b[32m[I 2022-11-08 01:14:04,225]\u001b[0m Trial 69 finished with value: 0.1021562241022966 and parameters: {'scalers': 'minmax', 'encoders': 'Ordinal', 'n_estimators': 173, 'max_depth': 13, 'k': 23}. Best is trial 51 with value: 0.12499983435316568.\u001b[0m\n",
      "\u001b[32m[I 2022-11-08 01:18:18,087]\u001b[0m Trial 70 finished with value: 0.0983348373734964 and parameters: {'scalers': 'minmax', 'encoders': 'Ordinal', 'n_estimators': 234, 'max_depth': 13, 'k': 22}. Best is trial 51 with value: 0.12499983435316568.\u001b[0m\n",
      "\u001b[32m[I 2022-11-08 01:22:29,894]\u001b[0m Trial 71 finished with value: 0.12309811654917335 and parameters: {'scalers': 'minmax', 'encoders': 'Ordinal', 'n_estimators': 195, 'max_depth': 14, 'k': 26}. Best is trial 51 with value: 0.12499983435316568.\u001b[0m\n",
      "\u001b[32m[I 2022-11-08 01:26:55,250]\u001b[0m Trial 72 finished with value: 0.11896161450484044 and parameters: {'scalers': 'minmax', 'encoders': 'Ordinal', 'n_estimators': 202, 'max_depth': 14, 'k': 26}. Best is trial 51 with value: 0.12499983435316568.\u001b[0m\n",
      "\u001b[32m[I 2022-11-08 01:32:20,567]\u001b[0m Trial 73 finished with value: 0.11739079655402193 and parameters: {'scalers': 'minmax', 'encoders': 'Ordinal', 'n_estimators': 197, 'max_depth': 14, 'k': 26}. Best is trial 51 with value: 0.12499983435316568.\u001b[0m\n",
      "\u001b[32m[I 2022-11-08 01:38:12,746]\u001b[0m Trial 74 finished with value: 0.11431911049496948 and parameters: {'scalers': 'minmax', 'encoders': 'Ordinal', 'n_estimators': 224, 'max_depth': 14, 'k': 25}. Best is trial 51 with value: 0.12499983435316568.\u001b[0m\n",
      "\u001b[32m[I 2022-11-08 12:55:16,306]\u001b[0m Trial 75 finished with value: 0.12121624046162985 and parameters: {'scalers': 'minmax', 'encoders': 'Ordinal', 'n_estimators': 170, 'max_depth': 14, 'k': 26}. Best is trial 51 with value: 0.12499983435316568.\u001b[0m\n",
      "\u001b[32m[I 2022-11-08 12:58:47,195]\u001b[0m Trial 76 finished with value: 0.1229774433208767 and parameters: {'scalers': 'minmax', 'encoders': 'Ordinal', 'n_estimators': 166, 'max_depth': 14, 'k': 25}. Best is trial 51 with value: 0.12499983435316568.\u001b[0m\n",
      "\u001b[32m[I 2022-11-08 13:02:49,643]\u001b[0m Trial 77 finished with value: 0.08387298497270598 and parameters: {'scalers': 'minmax', 'encoders': 'OneHot', 'n_estimators': 164, 'max_depth': 13, 'k': 25}. Best is trial 51 with value: 0.12499983435316568.\u001b[0m\n",
      "\u001b[32m[I 2022-11-08 13:05:52,395]\u001b[0m Trial 78 finished with value: 0.12295939952766674 and parameters: {'scalers': 'minmax', 'encoders': 'Ordinal', 'n_estimators': 180, 'max_depth': 14, 'k': 24}. Best is trial 51 with value: 0.12499983435316568.\u001b[0m\n",
      "\u001b[32m[I 2022-11-08 13:07:27,278]\u001b[0m Trial 79 finished with value: 0.043370787580910175 and parameters: {'scalers': 'minmax', 'encoders': 'Ordinal', 'n_estimators': 175, 'max_depth': 14, 'k': 12}. Best is trial 51 with value: 0.12499983435316568.\u001b[0m\n",
      "\u001b[32m[I 2022-11-08 13:08:23,854]\u001b[0m Trial 80 finished with value: 0.026012832736104267 and parameters: {'scalers': 'minmax', 'encoders': 'Ordinal', 'n_estimators': 154, 'max_depth': 5, 'k': 24}. Best is trial 51 with value: 0.12499983435316568.\u001b[0m\n",
      "\u001b[32m[I 2022-11-08 13:10:22,485]\u001b[0m Trial 81 finished with value: 0.11971846845977804 and parameters: {'scalers': 'minmax', 'encoders': 'Ordinal', 'n_estimators': 145, 'max_depth': 14, 'k': 23}. Best is trial 51 with value: 0.12499983435316568.\u001b[0m\n",
      "\u001b[32m[I 2022-11-08 13:12:19,478]\u001b[0m Trial 82 finished with value: 0.12124659715329726 and parameters: {'scalers': 'minmax', 'encoders': 'Ordinal', 'n_estimators': 128, 'max_depth': 14, 'k': 25}. Best is trial 51 with value: 0.12499983435316568.\u001b[0m\n",
      "\u001b[32m[I 2022-11-08 13:13:58,586]\u001b[0m Trial 83 finished with value: 0.11763272048987843 and parameters: {'scalers': 'minmax', 'encoders': 'Ordinal', 'n_estimators': 128, 'max_depth': 14, 'k': 25}. Best is trial 51 with value: 0.12499983435316568.\u001b[0m\n",
      "\u001b[32m[I 2022-11-08 13:16:16,232]\u001b[0m Trial 84 finished with value: 0.11243584228368761 and parameters: {'scalers': 'minmax', 'encoders': 'Ordinal', 'n_estimators': 175, 'max_depth': 14, 'k': 25}. Best is trial 51 with value: 0.12499983435316568.\u001b[0m\n",
      "\u001b[32m[I 2022-11-08 13:18:13,008]\u001b[0m Trial 85 finished with value: 0.09428554282479884 and parameters: {'scalers': 'minmax', 'encoders': 'Ordinal', 'n_estimators': 161, 'max_depth': 13, 'k': 24}. Best is trial 51 with value: 0.12499983435316568.\u001b[0m\n",
      "\u001b[32m[I 2022-11-08 13:19:53,500]\u001b[0m Trial 86 finished with value: 0.08578836111680639 and parameters: {'scalers': 'minmax', 'encoders': 'Ordinal', 'n_estimators': 136, 'max_depth': 12, 'k': 26}. Best is trial 51 with value: 0.12499983435316568.\u001b[0m\n",
      "\u001b[32m[I 2022-11-08 13:20:46,792]\u001b[0m Trial 87 finished with value: 0.039686584767997184 and parameters: {'scalers': 'minmax', 'encoders': 'Ordinal', 'n_estimators': 105, 'max_depth': 7, 'k': 25}. Best is trial 51 with value: 0.12499983435316568.\u001b[0m\n",
      "\u001b[32m[I 2022-11-08 13:23:12,057]\u001b[0m Trial 88 finished with value: 0.12416383395885273 and parameters: {'scalers': 'minmax', 'encoders': 'Count', 'n_estimators': 181, 'max_depth': 14, 'k': 26}. Best is trial 51 with value: 0.12499983435316568.\u001b[0m\n",
      "\u001b[32m[I 2022-11-08 13:24:05,313]\u001b[0m Trial 89 finished with value: 0.00797105091219782 and parameters: {'scalers': 'standard', 'encoders': 'Count', 'n_estimators': 180, 'max_depth': 4, 'k': 24}. Best is trial 51 with value: 0.12499983435316568.\u001b[0m\n",
      "\u001b[32m[I 2022-11-08 13:26:25,070]\u001b[0m Trial 90 finished with value: 0.11760317313385996 and parameters: {'scalers': 'minmax', 'encoders': 'Count', 'n_estimators': 195, 'max_depth': 13, 'k': 24}. Best is trial 51 with value: 0.12499983435316568.\u001b[0m\n",
      "\u001b[32m[I 2022-11-08 13:28:38,382]\u001b[0m Trial 91 finished with value: 0.11606558031791676 and parameters: {'scalers': 'minmax', 'encoders': 'Count', 'n_estimators': 167, 'max_depth': 14, 'k': 26}. Best is trial 51 with value: 0.12499983435316568.\u001b[0m\n",
      "\u001b[32m[I 2022-11-08 13:43:19,785]\u001b[0m Trial 92 finished with value: 0.11240287691262038 and parameters: {'scalers': 'minmax', 'encoders': 'Count', 'n_estimators': 213, 'max_depth': 14, 'k': 25}. Best is trial 51 with value: 0.12499983435316568.\u001b[0m\n",
      "\u001b[32m[I 2022-11-08 13:45:50,615]\u001b[0m Trial 93 finished with value: 0.1179314951463877 and parameters: {'scalers': 'minmax', 'encoders': 'Ordinal', 'n_estimators': 155, 'max_depth': 14, 'k': 26}. Best is trial 51 with value: 0.12499983435316568.\u001b[0m\n",
      "\u001b[32m[I 2022-11-08 13:47:40,917]\u001b[0m Trial 94 finished with value: 0.10048946333283904 and parameters: {'scalers': 'minmax', 'encoders': 'Ordinal', 'n_estimators': 123, 'max_depth': 13, 'k': 26}. Best is trial 51 with value: 0.12499983435316568.\u001b[0m\n",
      "\u001b[32m[I 2022-11-08 13:50:14,494]\u001b[0m Trial 95 finished with value: 0.11096815115326761 and parameters: {'scalers': 'minmax', 'encoders': 'Ordinal', 'n_estimators': 192, 'max_depth': 13, 'k': 25}. Best is trial 51 with value: 0.12499983435316568.\u001b[0m\n",
      "\u001b[32m[I 2022-11-08 13:52:07,649]\u001b[0m Trial 96 finished with value: 0.06929823177923725 and parameters: {'scalers': 'minmax', 'encoders': 'OneHot', 'n_estimators': 143, 'max_depth': 14, 'k': 23}. Best is trial 51 with value: 0.12499983435316568.\u001b[0m\n",
      "\u001b[32m[I 2022-11-08 13:54:31,081]\u001b[0m Trial 97 finished with value: 0.13111670517989565 and parameters: {'scalers': 'minmax', 'encoders': 'Count', 'n_estimators': 180, 'max_depth': 14, 'k': 24}. Best is trial 97 with value: 0.13111670517989565.\u001b[0m\n",
      "\u001b[32m[I 2022-11-08 13:56:28,274]\u001b[0m Trial 98 finished with value: 0.05653999955419834 and parameters: {'scalers': 'minmax', 'encoders': 'Count', 'n_estimators': 185, 'max_depth': 9, 'k': 24}. Best is trial 97 with value: 0.13111670517989565.\u001b[0m\n",
      "\u001b[32m[I 2022-11-08 13:59:15,140]\u001b[0m Trial 99 finished with value: 0.11229480031157509 and parameters: {'scalers': 'minmax', 'encoders': 'Count', 'n_estimators': 209, 'max_depth': 13, 'k': 23}. Best is trial 97 with value: 0.13111670517989565.\u001b[0m\n",
      "\u001b[32m[I 2022-11-08 14:03:20,328]\u001b[0m Trial 100 finished with value: 0.12306967417485255 and parameters: {'scalers': 'standard', 'encoders': 'Count', 'n_estimators': 248, 'max_depth': 14, 'k': 24}. Best is trial 97 with value: 0.13111670517989565.\u001b[0m\n",
      "\u001b[32m[I 2022-11-08 14:08:58,860]\u001b[0m Trial 101 finished with value: 0.11031284717762942 and parameters: {'scalers': 'standard', 'encoders': 'Count', 'n_estimators': 339, 'max_depth': 14, 'k': 24}. Best is trial 97 with value: 0.13111670517989565.\u001b[0m\n",
      "\u001b[32m[I 2022-11-08 14:12:48,992]\u001b[0m Trial 102 finished with value: 0.11588333330237263 and parameters: {'scalers': 'standard', 'encoders': 'Count', 'n_estimators': 242, 'max_depth': 14, 'k': 23}. Best is trial 97 with value: 0.13111670517989565.\u001b[0m\n",
      "\u001b[32m[I 2022-11-08 14:17:55,964]\u001b[0m Trial 103 finished with value: 0.11741549220411811 and parameters: {'scalers': 'standard', 'encoders': 'Count', 'n_estimators': 300, 'max_depth': 14, 'k': 25}. Best is trial 97 with value: 0.13111670517989565.\u001b[0m\n",
      "\u001b[32m[I 2022-11-08 14:21:06,779]\u001b[0m Trial 104 finished with value: 0.0979050726590249 and parameters: {'scalers': 'standard', 'encoders': 'Count', 'n_estimators': 222, 'max_depth': 14, 'k': 18}. Best is trial 97 with value: 0.13111670517989565.\u001b[0m\n",
      "\u001b[32m[I 2022-11-08 14:23:58,609]\u001b[0m Trial 105 finished with value: 0.10891686446178514 and parameters: {'scalers': 'standard', 'encoders': 'Count', 'n_estimators': 178, 'max_depth': 13, 'k': 24}. Best is trial 97 with value: 0.13111670517989565.\u001b[0m\n",
      "\u001b[32m[I 2022-11-08 14:30:02,889]\u001b[0m Trial 106 finished with value: 0.11745579483174078 and parameters: {'scalers': 'minmax', 'encoders': 'Count', 'n_estimators': 393, 'max_depth': 14, 'k': 22}. Best is trial 97 with value: 0.13111670517989565.\u001b[0m\n",
      "\u001b[32m[I 2022-11-08 14:35:45,585]\u001b[0m Trial 107 finished with value: 0.10040406764534034 and parameters: {'scalers': 'minmax', 'encoders': 'PRatio', 'n_estimators': 378, 'max_depth': 13, 'k': 23}. Best is trial 97 with value: 0.13111670517989565.\u001b[0m\n",
      "\u001b[32m[I 2022-11-08 14:38:27,943]\u001b[0m Trial 108 finished with value: 0.11580597491812443 and parameters: {'scalers': 'minmax', 'encoders': 'Count', 'n_estimators': 155, 'max_depth': 14, 'k': 25}. Best is trial 97 with value: 0.13111670517989565.\u001b[0m\n",
      "\u001b[32m[I 2022-11-08 14:39:21,671]\u001b[0m Trial 109 finished with value: 0.03518696104387924 and parameters: {'scalers': 'minmax', 'encoders': 'Ordinal', 'n_estimators': 112, 'max_depth': 13, 'k': 6}. Best is trial 97 with value: 0.13111670517989565.\u001b[0m\n",
      "\u001b[32m[I 2022-11-08 14:40:52,025]\u001b[0m Trial 110 finished with value: 0.09765850470346116 and parameters: {'scalers': 'minmax', 'encoders': 'Ordinal', 'n_estimators': 87, 'max_depth': 14, 'k': 21}. Best is trial 97 with value: 0.13111670517989565.\u001b[0m\n",
      "\u001b[32m[I 2022-11-08 14:43:58,315]\u001b[0m Trial 111 finished with value: 0.11869383157398591 and parameters: {'scalers': 'minmax', 'encoders': 'Ordinal', 'n_estimators': 169, 'max_depth': 14, 'k': 26}. Best is trial 97 with value: 0.13111670517989565.\u001b[0m\n",
      "\u001b[32m[I 2022-11-08 14:47:21,352]\u001b[0m Trial 112 finished with value: 0.11937099523752684 and parameters: {'scalers': 'minmax', 'encoders': 'Ordinal', 'n_estimators': 192, 'max_depth': 14, 'k': 25}. Best is trial 97 with value: 0.13111670517989565.\u001b[0m\n",
      "\u001b[32m[I 2022-11-08 14:50:43,962]\u001b[0m Trial 113 finished with value: 0.1112225528567653 and parameters: {'scalers': 'minmax', 'encoders': 'Ordinal', 'n_estimators': 182, 'max_depth': 14, 'k': 26}. Best is trial 97 with value: 0.13111670517989565.\u001b[0m\n",
      "\u001b[32m[I 2022-11-08 14:53:21,113]\u001b[0m Trial 114 finished with value: 0.09674865865765195 and parameters: {'scalers': 'minmax', 'encoders': 'Ordinal', 'n_estimators': 162, 'max_depth': 13, 'k': 24}. Best is trial 97 with value: 0.13111670517989565.\u001b[0m\n",
      "\u001b[32m[I 2022-11-08 14:56:59,005]\u001b[0m Trial 115 finished with value: 0.11952708479907118 and parameters: {'scalers': 'minmax', 'encoders': 'PRatio', 'n_estimators': 202, 'max_depth': 14, 'k': 25}. Best is trial 97 with value: 0.13111670517989565.\u001b[0m\n",
      "\u001b[32m[I 2022-11-08 14:58:42,137]\u001b[0m Trial 116 finished with value: 0.05501221633614946 and parameters: {'scalers': 'minmax', 'encoders': 'Ordinal', 'n_estimators': 129, 'max_depth': 8, 'k': 26}. Best is trial 97 with value: 0.13111670517989565.\u001b[0m\n",
      "\u001b[32m[I 2022-11-08 15:01:41,750]\u001b[0m Trial 117 finished with value: 0.12102451588182368 and parameters: {'scalers': 'standard', 'encoders': 'Ordinal', 'n_estimators': 169, 'max_depth': 14, 'k': 25}. Best is trial 97 with value: 0.13111670517989565.\u001b[0m\n",
      "\u001b[32m[I 2022-11-08 15:05:36,198]\u001b[0m Trial 118 finished with value: 0.11214362819999532 and parameters: {'scalers': 'minmax', 'encoders': 'Count', 'n_estimators': 231, 'max_depth': 14, 'k': 24}. Best is trial 97 with value: 0.13111670517989565.\u001b[0m\n",
      "\u001b[32m[I 2022-11-08 15:07:54,809]\u001b[0m Trial 119 finished with value: 0.07230339263733877 and parameters: {'scalers': 'minmax', 'encoders': 'OneHot', 'n_estimators': 147, 'max_depth': 13, 'k': 26}. Best is trial 97 with value: 0.13111670517989565.\u001b[0m\n",
      "\u001b[32m[I 2022-11-08 15:28:11,517]\u001b[0m Trial 120 finished with value: 0.10735787388603349 and parameters: {'scalers': 'minmax', 'encoders': 'Ordinal', 'n_estimators': 254, 'max_depth': 13, 'k': 24}. Best is trial 97 with value: 0.13111670517989565.\u001b[0m\n",
      "\u001b[32m[I 2022-11-08 15:30:47,274]\u001b[0m Trial 121 finished with value: 0.11427617897590245 and parameters: {'scalers': 'standard', 'encoders': 'Ordinal', 'n_estimators': 169, 'max_depth': 14, 'k': 25}. Best is trial 97 with value: 0.13111670517989565.\u001b[0m\n",
      "\u001b[32m[I 2022-11-08 15:33:34,681]\u001b[0m Trial 122 finished with value: 0.11594359840666643 and parameters: {'scalers': 'standard', 'encoders': 'Ordinal', 'n_estimators': 188, 'max_depth': 14, 'k': 25}. Best is trial 97 with value: 0.13111670517989565.\u001b[0m\n",
      "\u001b[32m[I 2022-11-08 15:36:10,024]\u001b[0m Trial 123 finished with value: 0.12109964464864356 and parameters: {'scalers': 'standard', 'encoders': 'Ordinal', 'n_estimators': 174, 'max_depth': 14, 'k': 26}. Best is trial 97 with value: 0.13111670517989565.\u001b[0m\n",
      "\u001b[32m[I 2022-11-08 15:39:38,317]\u001b[0m Trial 124 finished with value: 0.11040808522510943 and parameters: {'scalers': 'standard', 'encoders': 'Ordinal', 'n_estimators': 209, 'max_depth': 14, 'k': 26}. Best is trial 97 with value: 0.13111670517989565.\u001b[0m\n",
      "\u001b[32m[I 2022-11-08 15:42:54,766]\u001b[0m Trial 125 finished with value: 0.110427518145084 and parameters: {'scalers': 'standard', 'encoders': 'Ordinal', 'n_estimators': 178, 'max_depth': 14, 'k': 26}. Best is trial 97 with value: 0.13111670517989565.\u001b[0m\n",
      "\u001b[32m[I 2022-11-08 15:46:09,602]\u001b[0m Trial 126 finished with value: 0.101777587071607 and parameters: {'scalers': 'minmax', 'encoders': 'Ordinal', 'n_estimators': 196, 'max_depth': 13, 'k': 25}. Best is trial 97 with value: 0.13111670517989565.\u001b[0m\n",
      "\u001b[32m[I 2022-11-08 15:48:36,380]\u001b[0m Trial 127 finished with value: 0.11775375970247492 and parameters: {'scalers': 'minmax', 'encoders': 'PRatio', 'n_estimators': 141, 'max_depth': 14, 'k': 26}. Best is trial 97 with value: 0.13111670517989565.\u001b[0m\n",
      "\u001b[32m[I 2022-11-08 15:50:12,171]\u001b[0m Trial 128 finished with value: 0.03122633315037542 and parameters: {'scalers': 'standard', 'encoders': 'Ordinal', 'n_estimators': 159, 'max_depth': 10, 'k': 14}. Best is trial 97 with value: 0.13111670517989565.\u001b[0m\n",
      "\u001b[32m[I 2022-11-08 15:53:23,428]\u001b[0m Trial 129 finished with value: 0.035433763892877806 and parameters: {'scalers': 'minmax', 'encoders': 'Ordinal', 'n_estimators': 350, 'max_depth': 12, 'k': 9}. Best is trial 97 with value: 0.13111670517989565.\u001b[0m\n",
      "\u001b[32m[I 2022-11-08 15:56:27,089]\u001b[0m Trial 130 finished with value: 0.1275836506896249 and parameters: {'scalers': 'robust', 'encoders': 'Count', 'n_estimators': 217, 'max_depth': 14, 'k': 23}. Best is trial 97 with value: 0.13111670517989565.\u001b[0m\n",
      "\u001b[32m[I 2022-11-08 15:59:51,473]\u001b[0m Trial 131 finished with value: 0.10653437284654647 and parameters: {'scalers': 'robust', 'encoders': 'Count', 'n_estimators': 219, 'max_depth': 14, 'k': 23}. Best is trial 97 with value: 0.13111670517989565.\u001b[0m\n",
      "\u001b[32m[I 2022-11-08 16:01:30,651]\u001b[0m Trial 132 finished with value: 0.1189576734890186 and parameters: {'scalers': 'robust', 'encoders': 'Count', 'n_estimators': 104, 'max_depth': 14, 'k': 24}. Best is trial 97 with value: 0.13111670517989565.\u001b[0m\n",
      "\u001b[32m[I 2022-11-08 16:04:07,156]\u001b[0m Trial 133 finished with value: 0.11394654069300533 and parameters: {'scalers': 'robust', 'encoders': 'Count', 'n_estimators': 184, 'max_depth': 14, 'k': 25}. Best is trial 97 with value: 0.13111670517989565.\u001b[0m\n",
      "\u001b[32m[I 2022-11-08 16:06:30,058]\u001b[0m Trial 134 finished with value: 0.11381725929658837 and parameters: {'scalers': 'robust', 'encoders': 'Count', 'n_estimators': 200, 'max_depth': 13, 'k': 24}. Best is trial 97 with value: 0.13111670517989565.\u001b[0m\n",
      "\u001b[32m[I 2022-11-08 16:08:34,855]\u001b[0m Trial 135 finished with value: 0.11935744422493495 and parameters: {'scalers': 'robust', 'encoders': 'Count', 'n_estimators': 174, 'max_depth': 14, 'k': 22}. Best is trial 97 with value: 0.13111670517989565.\u001b[0m\n",
      "\u001b[32m[I 2022-11-08 16:11:04,484]\u001b[0m Trial 136 finished with value: 0.11582429785213663 and parameters: {'scalers': 'minmax', 'encoders': 'Ordinal', 'n_estimators': 211, 'max_depth': 14, 'k': 23}. Best is trial 97 with value: 0.13111670517989565.\u001b[0m\n",
      "\u001b[32m[I 2022-11-08 16:12:38,906]\u001b[0m Trial 137 finished with value: 0.10201152158976798 and parameters: {'scalers': 'minmax', 'encoders': 'Ordinal', 'n_estimators': 120, 'max_depth': 13, 'k': 26}. Best is trial 97 with value: 0.13111670517989565.\u001b[0m\n",
      "\u001b[32m[I 2022-11-08 16:15:21,828]\u001b[0m Trial 138 finished with value: 0.12621337221862353 and parameters: {'scalers': 'minmax', 'encoders': 'Count', 'n_estimators': 191, 'max_depth': 14, 'k': 24}. Best is trial 97 with value: 0.13111670517989565.\u001b[0m\n",
      "\u001b[32m[I 2022-11-08 16:18:53,613]\u001b[0m Trial 139 finished with value: 0.11727268624888224 and parameters: {'scalers': 'minmax', 'encoders': 'Count', 'n_estimators': 266, 'max_depth': 14, 'k': 23}. Best is trial 97 with value: 0.13111670517989565.\u001b[0m\n",
      "\u001b[32m[I 2022-11-08 16:21:26,851]\u001b[0m Trial 140 finished with value: 0.11079780024896058 and parameters: {'scalers': 'minmax', 'encoders': 'Count', 'n_estimators': 185, 'max_depth': 13, 'k': 24}. Best is trial 97 with value: 0.13111670517989565.\u001b[0m\n",
      "\u001b[32m[I 2022-11-08 16:24:50,160]\u001b[0m Trial 141 finished with value: 0.12401937265776723 and parameters: {'scalers': 'minmax', 'encoders': 'Count', 'n_estimators': 193, 'max_depth': 14, 'k': 25}. Best is trial 97 with value: 0.13111670517989565.\u001b[0m\n",
      "\u001b[32m[I 2022-11-08 16:28:27,877]\u001b[0m Trial 142 finished with value: 0.11561764375988219 and parameters: {'scalers': 'minmax', 'encoders': 'Count', 'n_estimators': 193, 'max_depth': 14, 'k': 25}. Best is trial 97 with value: 0.13111670517989565.\u001b[0m\n",
      "\u001b[32m[I 2022-11-08 16:31:20,292]\u001b[0m Trial 143 finished with value: 0.1187302574711124 and parameters: {'scalers': 'minmax', 'encoders': 'Count', 'n_estimators': 204, 'max_depth': 14, 'k': 24}. Best is trial 97 with value: 0.13111670517989565.\u001b[0m\n",
      "\u001b[32m[I 2022-11-08 16:34:21,916]\u001b[0m Trial 144 finished with value: 0.11738368341401897 and parameters: {'scalers': 'minmax', 'encoders': 'Count', 'n_estimators': 217, 'max_depth': 14, 'k': 24}. Best is trial 97 with value: 0.13111670517989565.\u001b[0m\n",
      "\u001b[32m[I 2022-11-08 16:37:07,451]\u001b[0m Trial 145 finished with value: 0.1227306696885065 and parameters: {'scalers': 'minmax', 'encoders': 'Count', 'n_estimators': 187, 'max_depth': 14, 'k': 25}. Best is trial 97 with value: 0.13111670517989565.\u001b[0m\n",
      "\u001b[32m[I 2022-11-08 16:39:41,739]\u001b[0m Trial 146 finished with value: 0.11952480218727209 and parameters: {'scalers': 'minmax', 'encoders': 'Count', 'n_estimators': 194, 'max_depth': 14, 'k': 25}. Best is trial 97 with value: 0.13111670517989565.\u001b[0m\n",
      "\u001b[32m[I 2022-11-08 16:41:56,091]\u001b[0m Trial 147 finished with value: 0.10334732159914817 and parameters: {'scalers': 'minmax', 'encoders': 'Count', 'n_estimators': 180, 'max_depth': 13, 'k': 23}. Best is trial 97 with value: 0.13111670517989565.\u001b[0m\n",
      "\u001b[32m[I 2022-11-08 16:46:34,342]\u001b[0m Trial 148 finished with value: 0.11588462110532352 and parameters: {'scalers': 'minmax', 'encoders': 'Count', 'n_estimators': 226, 'max_depth': 14, 'k': 25}. Best is trial 97 with value: 0.13111670517989565.\u001b[0m\n",
      "\u001b[32m[I 2022-11-08 16:49:42,851]\u001b[0m Trial 149 finished with value: 0.11582202141287565 and parameters: {'scalers': 'minmax', 'encoders': 'Count', 'n_estimators': 208, 'max_depth': 14, 'k': 23}. Best is trial 97 with value: 0.13111670517989565.\u001b[0m\n",
      "\u001b[32m[I 2022-11-08 16:54:32,957]\u001b[0m Trial 150 finished with value: 0.09601221746585231 and parameters: {'scalers': 'robust', 'encoders': 'Count', 'n_estimators': 293, 'max_depth': 13, 'k': 24}. Best is trial 97 with value: 0.13111670517989565.\u001b[0m\n",
      "\u001b[32m[I 2022-11-08 16:58:03,376]\u001b[0m Trial 151 finished with value: 0.11908910977060812 and parameters: {'scalers': 'minmax', 'encoders': 'Count', 'n_estimators': 189, 'max_depth': 14, 'k': 25}. Best is trial 97 with value: 0.13111670517989565.\u001b[0m\n",
      "\u001b[32m[I 2022-11-08 17:00:59,469]\u001b[0m Trial 152 finished with value: 0.11912953349924989 and parameters: {'scalers': 'minmax', 'encoders': 'Count', 'n_estimators': 201, 'max_depth': 14, 'k': 25}. Best is trial 97 with value: 0.13111670517989565.\u001b[0m\n",
      "\u001b[32m[I 2022-11-08 17:03:13,455]\u001b[0m Trial 153 finished with value: 0.0690092972183959 and parameters: {'scalers': 'minmax', 'encoders': 'OneHot', 'n_estimators': 166, 'max_depth': 14, 'k': 22}. Best is trial 97 with value: 0.13111670517989565.\u001b[0m\n",
      "\u001b[32m[I 2022-11-08 17:06:18,833]\u001b[0m Trial 154 finished with value: 0.11629106050553292 and parameters: {'scalers': 'minmax', 'encoders': 'PRatio', 'n_estimators': 153, 'max_depth': 14, 'k': 26}. Best is trial 97 with value: 0.13111670517989565.\u001b[0m\n",
      "\u001b[32m[I 2022-11-08 17:09:39,926]\u001b[0m Trial 155 finished with value: 0.12268906998122789 and parameters: {'scalers': 'minmax', 'encoders': 'Count', 'n_estimators': 181, 'max_depth': 14, 'k': 24}. Best is trial 97 with value: 0.13111670517989565.\u001b[0m\n",
      "\u001b[32m[I 2022-11-08 17:12:52,403]\u001b[0m Trial 156 finished with value: 0.11765835801729611 and parameters: {'scalers': 'minmax', 'encoders': 'Count', 'n_estimators': 182, 'max_depth': 14, 'k': 24}. Best is trial 97 with value: 0.13111670517989565.\u001b[0m\n",
      "\u001b[32m[I 2022-11-08 17:15:19,387]\u001b[0m Trial 157 finished with value: 0.10718826538573745 and parameters: {'scalers': 'minmax', 'encoders': 'Count', 'n_estimators': 190, 'max_depth': 13, 'k': 24}. Best is trial 97 with value: 0.13111670517989565.\u001b[0m\n",
      "\u001b[32m[I 2022-11-08 17:18:59,101]\u001b[0m Trial 158 finished with value: 0.1194509297768515 and parameters: {'scalers': 'minmax', 'encoders': 'Count', 'n_estimators': 198, 'max_depth': 14, 'k': 24}. Best is trial 97 with value: 0.13111670517989565.\u001b[0m\n",
      "\u001b[32m[I 2022-11-08 17:23:13,414]\u001b[0m Trial 159 finished with value: 0.09996540307825783 and parameters: {'scalers': 'minmax', 'encoders': 'Count', 'n_estimators': 239, 'max_depth': 14, 'k': 23}. Best is trial 97 with value: 0.13111670517989565.\u001b[0m\n",
      "\u001b[32m[I 2022-11-08 17:25:55,620]\u001b[0m Trial 160 finished with value: 0.1205640657313856 and parameters: {'scalers': 'minmax', 'encoders': 'Count', 'n_estimators': 164, 'max_depth': 14, 'k': 25}. Best is trial 97 with value: 0.13111670517989565.\u001b[0m\n",
      "\u001b[32m[I 2022-11-08 17:28:30,963]\u001b[0m Trial 161 finished with value: 0.12301347957839706 and parameters: {'scalers': 'minmax', 'encoders': 'Mean', 'n_estimators': 172, 'max_depth': 14, 'k': 25}. Best is trial 97 with value: 0.13111670517989565.\u001b[0m\n",
      "\u001b[32m[I 2022-11-08 17:31:02,684]\u001b[0m Trial 162 finished with value: 0.11770457113696797 and parameters: {'scalers': 'minmax', 'encoders': 'Count', 'n_estimators': 177, 'max_depth': 14, 'k': 25}. Best is trial 97 with value: 0.13111670517989565.\u001b[0m\n",
      "\u001b[32m[I 2022-11-08 17:32:17,764]\u001b[0m Trial 163 finished with value: 0.02998119507443131 and parameters: {'scalers': 'minmax', 'encoders': 'Mean', 'n_estimators': 189, 'max_depth': 6, 'k': 24}. Best is trial 97 with value: 0.13111670517989565.\u001b[0m\n",
      "\u001b[32m[I 2022-11-08 17:34:41,187]\u001b[0m Trial 164 finished with value: 0.11608848085328809 and parameters: {'scalers': 'minmax', 'encoders': 'Mean', 'n_estimators': 180, 'max_depth': 14, 'k': 25}. Best is trial 97 with value: 0.13111670517989565.\u001b[0m\n",
      "\u001b[32m[I 2022-11-08 17:36:44,742]\u001b[0m Trial 165 finished with value: 0.11574245656561752 and parameters: {'scalers': 'minmax', 'encoders': 'PRatio', 'n_estimators': 160, 'max_depth': 14, 'k': 24}. Best is trial 97 with value: 0.13111670517989565.\u001b[0m\n",
      "\u001b[32m[I 2022-11-08 17:37:58,423]\u001b[0m Trial 166 finished with value: 0.10883221760018506 and parameters: {'scalers': 'robust', 'encoders': 'Mean', 'n_estimators': 92, 'max_depth': 13, 'k': 25}. Best is trial 97 with value: 0.13111670517989565.\u001b[0m\n",
      "\u001b[32m[I 2022-11-08 17:40:31,545]\u001b[0m Trial 167 finished with value: 0.11812864882724665 and parameters: {'scalers': 'minmax', 'encoders': 'Mean', 'n_estimators': 214, 'max_depth': 14, 'k': 23}. Best is trial 97 with value: 0.13111670517989565.\u001b[0m\n",
      "\u001b[32m[I 2022-11-08 17:42:56,072]\u001b[0m Trial 168 finished with value: 0.1297239668434765 and parameters: {'scalers': 'minmax', 'encoders': 'Mean', 'n_estimators': 197, 'max_depth': 14, 'k': 24}. Best is trial 97 with value: 0.13111670517989565.\u001b[0m\n",
      "\u001b[32m[I 2022-11-08 17:43:42,400]\u001b[0m Trial 169 finished with value: 0.0 and parameters: {'scalers': 'minmax', 'encoders': 'Mean', 'n_estimators': 198, 'max_depth': 3, 'k': 24}. Best is trial 97 with value: 0.13111670517989565.\u001b[0m\n",
      "\u001b[32m[I 2022-11-08 17:46:01,898]\u001b[0m Trial 170 finished with value: 0.10323149097105218 and parameters: {'scalers': 'minmax', 'encoders': 'Mean', 'n_estimators': 205, 'max_depth': 13, 'k': 23}. Best is trial 97 with value: 0.13111670517989565.\u001b[0m\n",
      "\u001b[32m[I 2022-11-08 17:48:18,810]\u001b[0m Trial 171 finished with value: 0.12479197225713187 and parameters: {'scalers': 'minmax', 'encoders': 'Mean', 'n_estimators': 174, 'max_depth': 14, 'k': 25}. Best is trial 97 with value: 0.13111670517989565.\u001b[0m\n",
      "\u001b[32m[I 2022-11-08 17:50:27,337]\u001b[0m Trial 172 finished with value: 0.11646612714385744 and parameters: {'scalers': 'minmax', 'encoders': 'Mean', 'n_estimators': 173, 'max_depth': 14, 'k': 24}. Best is trial 97 with value: 0.13111670517989565.\u001b[0m\n",
      "\u001b[32m[I 2022-11-08 17:55:07,679]\u001b[0m Trial 173 finished with value: 0.11925832131702205 and parameters: {'scalers': 'minmax', 'encoders': 'Mean', 'n_estimators': 316, 'max_depth': 14, 'k': 25}. Best is trial 97 with value: 0.13111670517989565.\u001b[0m\n",
      "\u001b[32m[I 2022-11-08 17:58:41,155]\u001b[0m Trial 174 finished with value: 0.11247884367186553 and parameters: {'scalers': 'minmax', 'encoders': 'Mean', 'n_estimators': 185, 'max_depth': 14, 'k': 26}. Best is trial 97 with value: 0.13111670517989565.\u001b[0m\n",
      "\u001b[32m[I 2022-11-08 17:59:37,117]\u001b[0m Trial 175 finished with value: 0.11510295183019688 and parameters: {'scalers': 'minmax', 'encoders': 'Mean', 'n_estimators': 36, 'max_depth': 14, 'k': 25}. Best is trial 97 with value: 0.13111670517989565.\u001b[0m\n",
      "\u001b[32m[I 2022-11-08 18:03:03,047]\u001b[0m Trial 176 finished with value: 0.12519956641381363 and parameters: {'scalers': 'robust', 'encoders': 'Mean', 'n_estimators': 192, 'max_depth': 14, 'k': 23}. Best is trial 97 with value: 0.13111670517989565.\u001b[0m\n",
      "\u001b[32m[I 2022-11-08 18:06:08,252]\u001b[0m Trial 177 finished with value: 0.11066412299826311 and parameters: {'scalers': 'minmax', 'encoders': 'Mean', 'n_estimators': 193, 'max_depth': 14, 'k': 22}. Best is trial 97 with value: 0.13111670517989565.\u001b[0m\n",
      "\u001b[32m[I 2022-11-08 18:08:18,110]\u001b[0m Trial 178 finished with value: 0.041123277762054974 and parameters: {'scalers': 'robust', 'encoders': 'Mean', 'n_estimators': 174, 'max_depth': 14, 'k': 11}. Best is trial 97 with value: 0.13111670517989565.\u001b[0m\n",
      "\u001b[32m[I 2022-11-08 18:11:34,142]\u001b[0m Trial 179 finished with value: 0.11926688992111083 and parameters: {'scalers': 'minmax', 'encoders': 'Mean', 'n_estimators': 185, 'max_depth': 14, 'k': 23}. Best is trial 97 with value: 0.13111670517989565.\u001b[0m\n",
      "\u001b[32m[I 2022-11-08 18:14:18,699]\u001b[0m Trial 180 finished with value: 0.10906888354155156 and parameters: {'scalers': 'minmax', 'encoders': 'Mean', 'n_estimators': 168, 'max_depth': 13, 'k': 24}. Best is trial 97 with value: 0.13111670517989565.\u001b[0m\n",
      "\u001b[32m[I 2022-11-08 18:17:52,645]\u001b[0m Trial 181 finished with value: 0.12125209983560636 and parameters: {'scalers': 'robust', 'encoders': 'Mean', 'n_estimators': 194, 'max_depth': 14, 'k': 24}. Best is trial 97 with value: 0.13111670517989565.\u001b[0m\n",
      "\u001b[32m[I 2022-11-08 18:18:57,801]\u001b[0m Trial 182 finished with value: 0.09192243197837333 and parameters: {'scalers': 'robust', 'encoders': 'Count', 'n_estimators': 58, 'max_depth': 14, 'k': 23}. Best is trial 97 with value: 0.13111670517989565.\u001b[0m\n",
      "\u001b[32m[I 2022-11-08 18:22:19,724]\u001b[0m Trial 183 finished with value: 0.1213011289499829 and parameters: {'scalers': 'robust', 'encoders': 'Mean', 'n_estimators': 179, 'max_depth': 14, 'k': 25}. Best is trial 97 with value: 0.13111670517989565.\u001b[0m\n",
      "\u001b[32m[I 2022-11-08 18:26:05,311]\u001b[0m Trial 184 finished with value: 0.11350529794395148 and parameters: {'scalers': 'robust', 'encoders': 'Count', 'n_estimators': 201, 'max_depth': 14, 'k': 26}. Best is trial 97 with value: 0.13111670517989565.\u001b[0m\n",
      "\u001b[32m[I 2022-11-08 18:29:33,518]\u001b[0m Trial 185 finished with value: 0.11406719190898418 and parameters: {'scalers': 'robust', 'encoders': 'Count', 'n_estimators': 210, 'max_depth': 14, 'k': 24}. Best is trial 97 with value: 0.13111670517989565.\u001b[0m\n",
      "\u001b[32m[I 2022-11-08 18:33:02,064]\u001b[0m Trial 186 finished with value: 0.11575743369790462 and parameters: {'scalers': 'minmax', 'encoders': 'Mean', 'n_estimators': 190, 'max_depth': 14, 'k': 25}. Best is trial 97 with value: 0.13111670517989565.\u001b[0m\n",
      "\u001b[32m[I 2022-11-08 18:35:51,744]\u001b[0m Trial 187 finished with value: 0.08520072171149733 and parameters: {'scalers': 'minmax', 'encoders': 'OneHot', 'n_estimators': 183, 'max_depth': 13, 'k': 22}. Best is trial 97 with value: 0.13111670517989565.\u001b[0m\n",
      "\u001b[32m[I 2022-11-08 18:38:52,449]\u001b[0m Trial 188 finished with value: 0.05832946866713238 and parameters: {'scalers': 'minmax', 'encoders': 'PRatio', 'n_estimators': 204, 'max_depth': 14, 'k': 16}. Best is trial 97 with value: 0.13111670517989565.\u001b[0m\n",
      "\u001b[32m[I 2022-11-08 18:41:51,370]\u001b[0m Trial 189 finished with value: 0.12635613530491174 and parameters: {'scalers': 'minmax', 'encoders': 'Count', 'n_estimators': 175, 'max_depth': 14, 'k': 24}. Best is trial 97 with value: 0.13111670517989565.\u001b[0m\n",
      "\u001b[32m[I 2022-11-08 18:44:38,143]\u001b[0m Trial 190 finished with value: 0.11254736315732153 and parameters: {'scalers': 'minmax', 'encoders': 'Count', 'n_estimators': 160, 'max_depth': 14, 'k': 24}. Best is trial 97 with value: 0.13111670517989565.\u001b[0m\n",
      "\u001b[32m[I 2022-11-08 18:47:15,956]\u001b[0m Trial 191 finished with value: 0.061651180660595495 and parameters: {'scalers': 'minmax', 'encoders': 'Count', 'n_estimators': 175, 'max_depth': 14, 'k': 17}. Best is trial 97 with value: 0.13111670517989565.\u001b[0m\n",
      "\u001b[32m[I 2022-11-08 18:50:23,548]\u001b[0m Trial 192 finished with value: 0.1027940495876023 and parameters: {'scalers': 'minmax', 'encoders': 'Count', 'n_estimators': 188, 'max_depth': 14, 'k': 23}. Best is trial 97 with value: 0.13111670517989565.\u001b[0m\n",
      "\u001b[32m[I 2022-11-08 18:53:38,086]\u001b[0m Trial 193 finished with value: 0.12399675306758728 and parameters: {'scalers': 'minmax', 'encoders': 'Count', 'n_estimators': 197, 'max_depth': 14, 'k': 24}. Best is trial 97 with value: 0.13111670517989565.\u001b[0m\n",
      "\u001b[32m[I 2022-11-08 18:56:32,202]\u001b[0m Trial 194 finished with value: 0.12106235623233294 and parameters: {'scalers': 'minmax', 'encoders': 'Count', 'n_estimators': 169, 'max_depth': 14, 'k': 24}. Best is trial 97 with value: 0.13111670517989565.\u001b[0m\n",
      "\u001b[32m[I 2022-11-08 18:59:50,254]\u001b[0m Trial 195 finished with value: 0.1209109046409391 and parameters: {'scalers': 'minmax', 'encoders': 'Count', 'n_estimators': 180, 'max_depth': 14, 'k': 24}. Best is trial 97 with value: 0.13111670517989565.\u001b[0m\n",
      "\u001b[32m[I 2022-11-08 19:03:08,841]\u001b[0m Trial 196 finished with value: 0.12458952911452267 and parameters: {'scalers': 'minmax', 'encoders': 'Count', 'n_estimators': 197, 'max_depth': 14, 'k': 24}. Best is trial 97 with value: 0.13111670517989565.\u001b[0m\n",
      "\u001b[32m[I 2022-11-08 19:06:00,047]\u001b[0m Trial 197 finished with value: 0.1224192266862942 and parameters: {'scalers': 'minmax', 'encoders': 'Count', 'n_estimators': 197, 'max_depth': 14, 'k': 23}. Best is trial 97 with value: 0.13111670517989565.\u001b[0m\n",
      "\u001b[32m[I 2022-11-08 19:09:18,247]\u001b[0m Trial 198 finished with value: 0.11963444291551546 and parameters: {'scalers': 'minmax', 'encoders': 'Count', 'n_estimators': 214, 'max_depth': 14, 'k': 25}. Best is trial 97 with value: 0.13111670517989565.\u001b[0m\n",
      "\u001b[32m[I 2022-11-08 19:12:17,001]\u001b[0m Trial 199 finished with value: 0.10323014536473296 and parameters: {'scalers': 'minmax', 'encoders': 'Count', 'n_estimators': 195, 'max_depth': 13, 'k': 25}. Best is trial 97 with value: 0.13111670517989565.\u001b[0m\n"
     ]
    }
   ],
   "source": [
    "# A function to fit and tune Random Forest\n",
    "\n",
    "def objective(trial):\n",
    "    \n",
    "    # Defining the scalers space \n",
    "    scalers = trial.suggest_categorical('scalers', ['minmax', 'standard', 'robust'])\n",
    "    if scalers == 'minmax':\n",
    "        scaler = MinMaxScaler()\n",
    "    elif scalers == 'robust':\n",
    "        scaler = RobustScaler()\n",
    "    else:\n",
    "        scaler = StandardScaler()\n",
    "    \n",
    "    # Defining the encoder space\n",
    "    encoders = trial.suggest_categorical('encoders', ['Ordinal', 'OneHot', 'Count', 'Mean', 'PRatio'])\n",
    "    if encoders == \"Ordinal\":\n",
    "        encoder = OrdinalEncoder()\n",
    "    elif encoders == 'OneHot':\n",
    "        encoder = OneHotEncoder()\n",
    "    elif encoders == \"Count\":\n",
    "        encoder = CountFrequencyEncoder()\n",
    "    elif encoders == 'Mean':\n",
    "        encoder = MeanEncoder()\n",
    "    else :\n",
    "        encoder = PRatioEncoder()\n",
    "    \n",
    "    # Defining the n_estimators space\n",
    "    n_estims = trial.suggest_int('n_estimators', low=20, high=400)\n",
    "    \n",
    "    # Defining the max_depth space\n",
    "    max_dep = trial.suggest_int('max_depth', low=2, high=14)\n",
    "\n",
    "    # Defining the number of features space for the second phase of feature selection using mutual inforamtion selector\n",
    "    k = trial.suggest_int('k', low=5, high=len(train_X.columns))\n",
    "        \n",
    "    # Preprocessing steps for the numerical variables\n",
    "    num_preproc = Pipeline(steps=[('scaler',scaler)])\n",
    "\n",
    "    # Preprocessing steps for the categorical variables\n",
    "    cat_preproc = Pipeline(steps=[('encoder', encoder)])\n",
    "\n",
    "    preprocessor = ColumnTransformer(transformers=[('numerical_preprocessor',num_preproc, num_ftr),\n",
    "                                               ('cat_preprocessor', cat_preproc, cat_ftr)])\n",
    "\n",
    "    model_pipe = Pipeline(steps=[(\"preprocessing\", preprocessor),\n",
    "                                 ('selector', SelectKBest(mutual_info_classif, k=k)),\n",
    "                                 (\"model\", RandomForestClassifier(n_estimators=n_estims, max_depth=max_dep, max_features=None))])\n",
    "    \n",
    "    cv_score = cross_val_score(model_pipe, train_X, train_y, cv=5, scoring ='f1').mean()\n",
    "    \n",
    "    return cv_score\n",
    "\n",
    "study_1 = optuna.create_study(direction='maximize')\n",
    "study_1.optimize(objective, n_trials=200, show_progress_bar=True)\n",
    "    \n"
   ]
  },
  {
   "cell_type": "code",
   "execution_count": 350,
   "metadata": {
    "colab": {
     "base_uri": "https://localhost:8080/"
    },
    "id": "xIq1QwdQd_Y5",
    "outputId": "c9ed616e-0551-48c8-de15-5dcd40cd4a3d"
   },
   "outputs": [
    {
     "data": {
      "text/plain": [
       "{'scalers': 'minmax',\n",
       " 'encoders': 'Count',\n",
       " 'n_estimators': 180,\n",
       " 'max_depth': 14,\n",
       " 'k': 24}"
      ]
     },
     "execution_count": 350,
     "metadata": {},
     "output_type": "execute_result"
    }
   ],
   "source": [
    "study_1.best_params"
   ]
  },
  {
   "cell_type": "code",
   "execution_count": 353,
   "metadata": {
    "id": "40ga7D7xQ44V"
   },
   "outputs": [],
   "source": [
    "# Training the model with the found parameters \n",
    "\n",
    " # Preprocessing steps for the numerical variables\n",
    "num_preproc = Pipeline(steps=[('scaler',MinMaxScaler())])\n",
    "\n",
    "# Preprocessing steps for the categorical variables\n",
    "cat_preproc = Pipeline(steps=[('encoder', CountFrequencyEncoder())])\n",
    "\n",
    "preprocessor = ColumnTransformer(transformers=[('numerical_preprocessor',num_preproc, num_ftr),\n",
    "                                               ('cat_preprocessor', cat_preproc, cat_ftr)])\n",
    "\n",
    "model_pipe = Pipeline(steps=[(\"preprocessing\", preprocessor),\n",
    "                                 ('selector', SelectKBest(mutual_info_classif, k=24)),\n",
    "                                 (\"model\", RandomForestClassifier(n_estimators=180, max_depth=14, max_features=None))])"
   ]
  },
  {
   "cell_type": "code",
   "execution_count": 354,
   "metadata": {
    "colab": {
     "base_uri": "https://localhost:8080/"
    },
    "id": "xNtt-DYhRyTo",
    "outputId": "3e4758d5-dc24-49e0-c948-855a69582d5e"
   },
   "outputs": [
    {
     "data": {
      "text/plain": [
       "Pipeline(steps=[('preprocessing',\n",
       "                 ColumnTransformer(transformers=[('numerical_preprocessor',\n",
       "                                                  Pipeline(steps=[('scaler',\n",
       "                                                                   MinMaxScaler())]),\n",
       "                                                  ['cons_12m', 'cons_gas_12m',\n",
       "                                                   'forecast_cons_12m',\n",
       "                                                   'forecast_discount_energy',\n",
       "                                                   'forecast_meter_rent_12m',\n",
       "                                                   'imp_cons',\n",
       "                                                   'margin_gross_pow_ele',\n",
       "                                                   'nb_prod_act', 'net_margin',\n",
       "                                                   'pow_max',\n",
       "                                                   'price_off_peak_var',\n",
       "                                                   'price_off_peak_fix',\n",
       "                                                   'p...\n",
       "                                                   'ratio_last_month_last12m_cons']),\n",
       "                                                 ('cat_preprocessor',\n",
       "                                                  Pipeline(steps=[('encoder',\n",
       "                                                                   CountFrequencyEncoder())]),\n",
       "                                                  ['has_gas', 'origin_up',\n",
       "                                                   'price_change_energy',\n",
       "                                                   'price_change_power'])])),\n",
       "                ('selector',\n",
       "                 SelectKBest(k=24,\n",
       "                             score_func=<function mutual_info_classif at 0x000001FE454FD940>)),\n",
       "                ('model',\n",
       "                 RandomForestClassifier(max_depth=14, max_features=None,\n",
       "                                        n_estimators=180))])"
      ]
     },
     "execution_count": 354,
     "metadata": {},
     "output_type": "execute_result"
    }
   ],
   "source": [
    "model_pipe.fit(train_X, train_y)"
   ]
  },
  {
   "cell_type": "markdown",
   "metadata": {},
   "source": [
    "#### 3). Evaluation of the model"
   ]
  },
  {
   "cell_type": "code",
   "execution_count": 359,
   "metadata": {
    "colab": {
     "base_uri": "https://localhost:8080/"
    },
    "id": "fJj5pui6R00d",
    "outputId": "a20117c5-d5ec-415c-f217-d3c3f3db86b9"
   },
   "outputs": [
    {
     "name": "stdout",
     "output_type": "stream",
     "text": [
      "              precision    recall  f1-score   support\n",
      "\n",
      "           0       0.93      1.00      0.97      3876\n",
      "           1       0.99      0.36      0.53       426\n",
      "\n",
      "    accuracy                           0.94      4302\n",
      "   macro avg       0.96      0.68      0.75      4302\n",
      "weighted avg       0.94      0.94      0.92      4302\n",
      "\n"
     ]
    }
   ],
   "source": [
    "# The classification report of the model\n",
    "\n",
    "print(classification_report(test_y, model_pipe.predict(test_X)))"
   ]
  },
  {
   "cell_type": "code",
   "execution_count": 360,
   "metadata": {
    "colab": {
     "base_uri": "https://localhost:8080/",
     "height": 314
    },
    "id": "sBaLA3RGSJJX",
    "outputId": "62c52ae2-34f4-431f-fba2-463e735818ca"
   },
   "outputs": [
    {
     "data": {
      "text/plain": [
       "<sklearn.metrics._plot.confusion_matrix.ConfusionMatrixDisplay at 0x1fe4e0ab400>"
      ]
     },
     "execution_count": 360,
     "metadata": {},
     "output_type": "execute_result"
    },
    {
     "data": {
      "image/png": "[encoded data removed]",
      "text/plain": [
       "<Figure size 432x288 with 2 Axes>"
      ]
     },
     "metadata": {
      "needs_background": "light"
     },
     "output_type": "display_data"
    }
   ],
   "source": [
    "# Visualizing the confusion matrix \n",
    "\n",
    "cfm=confusion_matrix(test_y, model_pipe.predict(test_X))\n",
    "ConfusionMatrixDisplay(cfm).plot()\n"
   ]
  },
  {
   "cell_type": "markdown",
   "metadata": {
    "id": "bPa0S5H1ZUjU"
   },
   "source": [
    "Given the information at hand, the model was able to predict 154 cases of churn out of 426 cases in the test set which represents 36% of the cases.\\nWe think that the performance of the model is satisfactory since it's macro F1 score is larger than 0.7 which is a decent score in the case of a very imbalanced dataset.\n"
   ]
  },
  {
   "cell_type": "code",
   "execution_count": 364,
   "metadata": {
    "colab": {
     "base_uri": "https://localhost:8080/"
    },
    "id": "cgcBfv_dUMbn",
    "outputId": "6fc48591-ccb6-4e20-ad26-b3de5aea5924"
   },
   "outputs": [
    {
     "name": "stdout",
     "output_type": "stream",
     "text": [
      "Index(['has_gas', 'origin_up', 'price_change_energy', 'cons_12m',\n",
      "       'forecast_cons_12m', 'forecast_discount_energy',\n",
      "       'forecast_meter_rent_12m', 'imp_cons', 'margin_gross_pow_ele',\n",
      "       'nb_prod_act', 'net_margin', 'pow_max', 'price_off_peak_var',\n",
      "       'price_off_peak_fix', 'previous_price', 'price_sens', 'end_year',\n",
      "       'modif_prod_month', 'renewal_year', 'renewal_month', 'diff_act_end',\n",
      "       'diff_act_modif', 'diff_end_modif', 'ratio_last_month_last12m_cons'],\n",
      "      dtype='object')\n"
     ]
    }
   ],
   "source": [
    "# Getting the names of the selected features\n",
    "\n",
    "# The selector object\n",
    "selector = model_pipe[1]\n",
    "\n",
    "# The indices of the features\n",
    "indx = selector.get_support(indices=True)\n",
    "\n",
    "select_ftr = df_full.columns[indx]\n",
    "print(select_ftr)"
   ]
  },
  {
   "cell_type": "code",
   "execution_count": 365,
   "metadata": {
    "colab": {
     "base_uri": "https://localhost:8080/",
     "height": 488
    },
    "id": "xFzPlYllUhOT",
    "outputId": "c7ba257d-c542-4760-8cf7-710c4700a7a6"
   },
   "outputs": [
    {
     "data": {
      "text/html": [
       "<div>\n",
       "<style scoped>\n",
       "    .dataframe tbody tr th:only-of-type {\n",
       "        vertical-align: middle;\n",
       "    }\n",
       "\n",
       "    .dataframe tbody tr th {\n",
       "        vertical-align: top;\n",
       "    }\n",
       "\n",
       "    .dataframe thead th {\n",
       "        text-align: right;\n",
       "    }\n",
       "</style>\n",
       "<table border=\"1\" class=\"dataframe\">\n",
       "  <thead>\n",
       "    <tr style=\"text-align: right;\">\n",
       "      <th></th>\n",
       "      <th>has_gas</th>\n",
       "      <th>origin_up</th>\n",
       "      <th>price_change_energy</th>\n",
       "      <th>cons_12m</th>\n",
       "      <th>forecast_cons_12m</th>\n",
       "      <th>forecast_discount_energy</th>\n",
       "      <th>forecast_meter_rent_12m</th>\n",
       "      <th>imp_cons</th>\n",
       "      <th>margin_gross_pow_ele</th>\n",
       "      <th>nb_prod_act</th>\n",
       "      <th>...</th>\n",
       "      <th>previous_price</th>\n",
       "      <th>price_sens</th>\n",
       "      <th>end_year</th>\n",
       "      <th>modif_prod_month</th>\n",
       "      <th>renewal_year</th>\n",
       "      <th>renewal_month</th>\n",
       "      <th>diff_act_end</th>\n",
       "      <th>diff_act_modif</th>\n",
       "      <th>diff_end_modif</th>\n",
       "      <th>ratio_last_month_last12m_cons</th>\n",
       "    </tr>\n",
       "  </thead>\n",
       "  <tbody>\n",
       "    <tr>\n",
       "      <th>1</th>\n",
       "      <td>f</td>\n",
       "      <td>kamkkxfxxuwbdslkwifmmcsiusiuosws</td>\n",
       "      <td>decrease</td>\n",
       "      <td>4660</td>\n",
       "      <td>189.95</td>\n",
       "      <td>0.0</td>\n",
       "      <td>16.27</td>\n",
       "      <td>0.00</td>\n",
       "      <td>16.38</td>\n",
       "      <td>1</td>\n",
       "      <td>...</td>\n",
       "      <td>0.078366</td>\n",
       "      <td>13.640956</td>\n",
       "      <td>2016</td>\n",
       "      <td>8</td>\n",
       "      <td>2015</td>\n",
       "      <td>8</td>\n",
       "      <td>2566</td>\n",
       "      <td>0</td>\n",
       "      <td>2566</td>\n",
       "      <td>0.000000</td>\n",
       "    </tr>\n",
       "    <tr>\n",
       "      <th>2</th>\n",
       "      <td>f</td>\n",
       "      <td>kamkkxfxxuwbdslkwifmmcsiusiuosws</td>\n",
       "      <td>decrease</td>\n",
       "      <td>544</td>\n",
       "      <td>47.96</td>\n",
       "      <td>0.0</td>\n",
       "      <td>38.72</td>\n",
       "      <td>0.00</td>\n",
       "      <td>28.60</td>\n",
       "      <td>1</td>\n",
       "      <td>...</td>\n",
       "      <td>0.129466</td>\n",
       "      <td>45.058910</td>\n",
       "      <td>2016</td>\n",
       "      <td>4</td>\n",
       "      <td>2015</td>\n",
       "      <td>4</td>\n",
       "      <td>2192</td>\n",
       "      <td>0</td>\n",
       "      <td>2192</td>\n",
       "      <td>0.000000</td>\n",
       "    </tr>\n",
       "    <tr>\n",
       "      <th>3</th>\n",
       "      <td>f</td>\n",
       "      <td>kamkkxfxxuwbdslkwifmmcsiusiuosws</td>\n",
       "      <td>decrease</td>\n",
       "      <td>1584</td>\n",
       "      <td>240.04</td>\n",
       "      <td>0.0</td>\n",
       "      <td>19.83</td>\n",
       "      <td>0.00</td>\n",
       "      <td>30.22</td>\n",
       "      <td>1</td>\n",
       "      <td>...</td>\n",
       "      <td>0.075605</td>\n",
       "      <td>28.408609</td>\n",
       "      <td>2016</td>\n",
       "      <td>3</td>\n",
       "      <td>2015</td>\n",
       "      <td>3</td>\n",
       "      <td>2192</td>\n",
       "      <td>0</td>\n",
       "      <td>2192</td>\n",
       "      <td>0.000000</td>\n",
       "    </tr>\n",
       "    <tr>\n",
       "      <th>4</th>\n",
       "      <td>f</td>\n",
       "      <td>kamkkxfxxuwbdslkwifmmcsiusiuosws</td>\n",
       "      <td>decrease</td>\n",
       "      <td>4425</td>\n",
       "      <td>445.75</td>\n",
       "      <td>0.0</td>\n",
       "      <td>131.73</td>\n",
       "      <td>52.32</td>\n",
       "      <td>44.91</td>\n",
       "      <td>1</td>\n",
       "      <td>...</td>\n",
       "      <td>0.113906</td>\n",
       "      <td>18.799168</td>\n",
       "      <td>2016</td>\n",
       "      <td>1</td>\n",
       "      <td>2015</td>\n",
       "      <td>3</td>\n",
       "      <td>2245</td>\n",
       "      <td>0</td>\n",
       "      <td>2245</td>\n",
       "      <td>0.118870</td>\n",
       "    </tr>\n",
       "    <tr>\n",
       "      <th>5</th>\n",
       "      <td>f</td>\n",
       "      <td>lxidpiddsbxsbosboudacockeimpuepw</td>\n",
       "      <td>decrease</td>\n",
       "      <td>8302</td>\n",
       "      <td>796.94</td>\n",
       "      <td>0.0</td>\n",
       "      <td>30.12</td>\n",
       "      <td>181.21</td>\n",
       "      <td>33.12</td>\n",
       "      <td>1</td>\n",
       "      <td>...</td>\n",
       "      <td>0.128293</td>\n",
       "      <td>40.841311</td>\n",
       "      <td>2016</td>\n",
       "      <td>11</td>\n",
       "      <td>2015</td>\n",
       "      <td>12</td>\n",
       "      <td>1827</td>\n",
       "      <td>1423</td>\n",
       "      <td>404</td>\n",
       "      <td>0.240665</td>\n",
       "    </tr>\n",
       "    <tr>\n",
       "      <th>...</th>\n",
       "      <td>...</td>\n",
       "      <td>...</td>\n",
       "      <td>...</td>\n",
       "      <td>...</td>\n",
       "      <td>...</td>\n",
       "      <td>...</td>\n",
       "      <td>...</td>\n",
       "      <td>...</td>\n",
       "      <td>...</td>\n",
       "      <td>...</td>\n",
       "      <td>...</td>\n",
       "      <td>...</td>\n",
       "      <td>...</td>\n",
       "      <td>...</td>\n",
       "      <td>...</td>\n",
       "      <td>...</td>\n",
       "      <td>...</td>\n",
       "      <td>...</td>\n",
       "      <td>...</td>\n",
       "      <td>...</td>\n",
       "      <td>...</td>\n",
       "    </tr>\n",
       "    <tr>\n",
       "      <th>14537</th>\n",
       "      <td>t</td>\n",
       "      <td>lxidpiddsbxsbosboudacockeimpuepw</td>\n",
       "      <td>decrease</td>\n",
       "      <td>32270</td>\n",
       "      <td>4648.01</td>\n",
       "      <td>0.0</td>\n",
       "      <td>18.57</td>\n",
       "      <td>0.00</td>\n",
       "      <td>27.88</td>\n",
       "      <td>2</td>\n",
       "      <td>...</td>\n",
       "      <td>0.072062</td>\n",
       "      <td>21.198938</td>\n",
       "      <td>2016</td>\n",
       "      <td>5</td>\n",
       "      <td>2014</td>\n",
       "      <td>5</td>\n",
       "      <td>1445</td>\n",
       "      <td>1079</td>\n",
       "      <td>366</td>\n",
       "      <td>0.000000</td>\n",
       "    </tr>\n",
       "    <tr>\n",
       "      <th>14538</th>\n",
       "      <td>f</td>\n",
       "      <td>lxidpiddsbxsbosboudacockeimpuepw</td>\n",
       "      <td>decrease</td>\n",
       "      <td>7223</td>\n",
       "      <td>631.69</td>\n",
       "      <td>0.0</td>\n",
       "      <td>144.03</td>\n",
       "      <td>15.94</td>\n",
       "      <td>0.00</td>\n",
       "      <td>1</td>\n",
       "      <td>...</td>\n",
       "      <td>0.101103</td>\n",
       "      <td>18.186301</td>\n",
       "      <td>2016</td>\n",
       "      <td>8</td>\n",
       "      <td>2015</td>\n",
       "      <td>8</td>\n",
       "      <td>1461</td>\n",
       "      <td>0</td>\n",
       "      <td>1461</td>\n",
       "      <td>0.025059</td>\n",
       "    </tr>\n",
       "    <tr>\n",
       "      <th>14539</th>\n",
       "      <td>f</td>\n",
       "      <td>lxidpiddsbxsbosboudacockeimpuepw</td>\n",
       "      <td>decrease</td>\n",
       "      <td>1844</td>\n",
       "      <td>190.39</td>\n",
       "      <td>0.0</td>\n",
       "      <td>129.60</td>\n",
       "      <td>18.05</td>\n",
       "      <td>39.84</td>\n",
       "      <td>1</td>\n",
       "      <td>...</td>\n",
       "      <td>0.114066</td>\n",
       "      <td>18.237929</td>\n",
       "      <td>2016</td>\n",
       "      <td>2</td>\n",
       "      <td>2015</td>\n",
       "      <td>2</td>\n",
       "      <td>1460</td>\n",
       "      <td>0</td>\n",
       "      <td>1460</td>\n",
       "      <td>0.097072</td>\n",
       "    </tr>\n",
       "    <tr>\n",
       "      <th>14540</th>\n",
       "      <td>f</td>\n",
       "      <td>lxidpiddsbxsbosboudacockeimpuepw</td>\n",
       "      <td>decrease</td>\n",
       "      <td>131</td>\n",
       "      <td>19.34</td>\n",
       "      <td>0.0</td>\n",
       "      <td>7.18</td>\n",
       "      <td>0.00</td>\n",
       "      <td>13.08</td>\n",
       "      <td>1</td>\n",
       "      <td>...</td>\n",
       "      <td>0.078366</td>\n",
       "      <td>12.121174</td>\n",
       "      <td>2016</td>\n",
       "      <td>8</td>\n",
       "      <td>2015</td>\n",
       "      <td>8</td>\n",
       "      <td>1461</td>\n",
       "      <td>0</td>\n",
       "      <td>1461</td>\n",
       "      <td>0.000000</td>\n",
       "    </tr>\n",
       "    <tr>\n",
       "      <th>14541</th>\n",
       "      <td>f</td>\n",
       "      <td>ldkssxwpmemidmecebumciepifcamkci</td>\n",
       "      <td>decrease</td>\n",
       "      <td>8730</td>\n",
       "      <td>762.41</td>\n",
       "      <td>0.0</td>\n",
       "      <td>1.07</td>\n",
       "      <td>0.00</td>\n",
       "      <td>11.84</td>\n",
       "      <td>1</td>\n",
       "      <td>...</td>\n",
       "      <td>0.128003</td>\n",
       "      <td>501.481008</td>\n",
       "      <td>2016</td>\n",
       "      <td>12</td>\n",
       "      <td>2015</td>\n",
       "      <td>12</td>\n",
       "      <td>2556</td>\n",
       "      <td>0</td>\n",
       "      <td>2556</td>\n",
       "      <td>0.000000</td>\n",
       "    </tr>\n",
       "  </tbody>\n",
       "</table>\n",
       "<p>14340 rows × 24 columns</p>\n",
       "</div>"
      ],
      "text/plain": [
       "      has_gas                         origin_up price_change_energy  cons_12m  \\\n",
       "1           f  kamkkxfxxuwbdslkwifmmcsiusiuosws            decrease      4660   \n",
       "2           f  kamkkxfxxuwbdslkwifmmcsiusiuosws            decrease       544   \n",
       "3           f  kamkkxfxxuwbdslkwifmmcsiusiuosws            decrease      1584   \n",
       "4           f  kamkkxfxxuwbdslkwifmmcsiusiuosws            decrease      4425   \n",
       "5           f  lxidpiddsbxsbosboudacockeimpuepw            decrease      8302   \n",
       "...       ...                               ...                 ...       ...   \n",
       "14537       t  lxidpiddsbxsbosboudacockeimpuepw            decrease     32270   \n",
       "14538       f  lxidpiddsbxsbosboudacockeimpuepw            decrease      7223   \n",
       "14539       f  lxidpiddsbxsbosboudacockeimpuepw            decrease      1844   \n",
       "14540       f  lxidpiddsbxsbosboudacockeimpuepw            decrease       131   \n",
       "14541       f  ldkssxwpmemidmecebumciepifcamkci            decrease      8730   \n",
       "\n",
       "       forecast_cons_12m  forecast_discount_energy  forecast_meter_rent_12m  \\\n",
       "1                 189.95                       0.0                    16.27   \n",
       "2                  47.96                       0.0                    38.72   \n",
       "3                 240.04                       0.0                    19.83   \n",
       "4                 445.75                       0.0                   131.73   \n",
       "5                 796.94                       0.0                    30.12   \n",
       "...                  ...                       ...                      ...   \n",
       "14537            4648.01                       0.0                    18.57   \n",
       "14538             631.69                       0.0                   144.03   \n",
       "14539             190.39                       0.0                   129.60   \n",
       "14540              19.34                       0.0                     7.18   \n",
       "14541             762.41                       0.0                     1.07   \n",
       "\n",
       "       imp_cons  margin_gross_pow_ele  nb_prod_act  ...  previous_price  \\\n",
       "1          0.00                 16.38            1  ...        0.078366   \n",
       "2          0.00                 28.60            1  ...        0.129466   \n",
       "3          0.00                 30.22            1  ...        0.075605   \n",
       "4         52.32                 44.91            1  ...        0.113906   \n",
       "5        181.21                 33.12            1  ...        0.128293   \n",
       "...         ...                   ...          ...  ...             ...   \n",
       "14537      0.00                 27.88            2  ...        0.072062   \n",
       "14538     15.94                  0.00            1  ...        0.101103   \n",
       "14539     18.05                 39.84            1  ...        0.114066   \n",
       "14540      0.00                 13.08            1  ...        0.078366   \n",
       "14541      0.00                 11.84            1  ...        0.128003   \n",
       "\n",
       "       price_sens  end_year  modif_prod_month  renewal_year  renewal_month  \\\n",
       "1       13.640956      2016                 8          2015              8   \n",
       "2       45.058910      2016                 4          2015              4   \n",
       "3       28.408609      2016                 3          2015              3   \n",
       "4       18.799168      2016                 1          2015              3   \n",
       "5       40.841311      2016                11          2015             12   \n",
       "...           ...       ...               ...           ...            ...   \n",
       "14537   21.198938      2016                 5          2014              5   \n",
       "14538   18.186301      2016                 8          2015              8   \n",
       "14539   18.237929      2016                 2          2015              2   \n",
       "14540   12.121174      2016                 8          2015              8   \n",
       "14541  501.481008      2016                12          2015             12   \n",
       "\n",
       "       diff_act_end  diff_act_modif  diff_end_modif  \\\n",
       "1              2566               0            2566   \n",
       "2              2192               0            2192   \n",
       "3              2192               0            2192   \n",
       "4              2245               0            2245   \n",
       "5              1827            1423             404   \n",
       "...             ...             ...             ...   \n",
       "14537          1445            1079             366   \n",
       "14538          1461               0            1461   \n",
       "14539          1460               0            1460   \n",
       "14540          1461               0            1461   \n",
       "14541          2556               0            2556   \n",
       "\n",
       "       ratio_last_month_last12m_cons  \n",
       "1                           0.000000  \n",
       "2                           0.000000  \n",
       "3                           0.000000  \n",
       "4                           0.118870  \n",
       "5                           0.240665  \n",
       "...                              ...  \n",
       "14537                       0.000000  \n",
       "14538                       0.025059  \n",
       "14539                       0.097072  \n",
       "14540                       0.000000  \n",
       "14541                       0.000000  \n",
       "\n",
       "[14340 rows x 24 columns]"
      ]
     },
     "execution_count": 365,
     "metadata": {},
     "output_type": "execute_result"
    }
   ],
   "source": [
    "# The new dataframe with the selected features \n",
    "final_df = df_full[select_ftr]\n",
    "final_df"
   ]
  },
  {
   "cell_type": "code",
   "execution_count": 366,
   "metadata": {
    "colab": {
     "base_uri": "https://localhost:8080/"
    },
    "id": "i71uhlrWZnUQ",
    "outputId": "999fe4c0-8c44-4665-eb1b-c9bd1faba370"
   },
   "outputs": [
    {
     "data": {
      "text/plain": [
       "RandomForestClassifier(max_depth=14, max_features=None, n_estimators=180)"
      ]
     },
     "execution_count": 366,
     "metadata": {},
     "output_type": "execute_result"
    }
   ],
   "source": [
    "# Getting the trained model \n",
    "clf = model_pipe[-1]\n",
    "clf"
   ]
  },
  {
   "cell_type": "code",
   "execution_count": 367,
   "metadata": {
    "colab": {
     "base_uri": "https://localhost:8080/"
    },
    "id": "m3AvBV0kkgP9",
    "outputId": "74931944-266d-4a0c-993d-345f1d6d86ec"
   },
   "outputs": [],
   "source": [
    "# Saving the model\n",
    "filename = 'best_model_PowerCo.sav'\n",
    "pickle.dump(clf, open(filename, 'wb'))"
   ]
  },
  {
   "cell_type": "code",
   "execution_count": 369,
   "metadata": {},
   "outputs": [],
   "source": [
    "# Saving the study \n",
    "pickle.dump(study_1, open('optuna_study_PowerCo.sav', 'wb'))"
   ]
  },
  {
   "cell_type": "code",
   "execution_count": 370,
   "metadata": {
    "id": "uKKFGXD77Fl9"
   },
   "outputs": [
    {
     "name": "stdout",
     "output_type": "stream",
     "text": [
      "24\n"
     ]
    }
   ],
   "source": [
    "# # Getting the names of the features after the second phase of feature selection \n",
    "# Getting numerical features \n",
    "num_ftr = [col for col in final_df.columns if final_df[col].dtype in ['int64', 'float64']]\n",
    "\n",
    "# Getting categorical features \n",
    "cat_ftr = [col for col in final_df.columns if col not in num_ftr + date_ftr and col != 'id']\n",
    "\n",
    "print(len(num_ftr)+len(cat_ftr))"
   ]
  },
  {
   "cell_type": "markdown",
   "metadata": {},
   "source": [
    "### V. Model interpretation using SHAP\n",
    "SHAP is a technique used to interpret machine learning models. It explains a prediction by calculating what are known as Shapley values, which were developed in Game Theory. These values represent the contributions of the different explanatory variables to the prediction in question."
   ]
  },
  {
   "cell_type": "code",
   "execution_count": 20,
   "metadata": {},
   "outputs": [],
   "source": [
    "# Getting the full dataframe with the selected features.\n",
    "df_int = new_df_ft[select_ftr]"
   ]
  },
  {
   "cell_type": "code",
   "execution_count": 559,
   "metadata": {},
   "outputs": [
    {
     "data": {
      "text/html": [
       "<div>\n",
       "<style scoped>\n",
       "    .dataframe tbody tr th:only-of-type {\n",
       "        vertical-align: middle;\n",
       "    }\n",
       "\n",
       "    .dataframe tbody tr th {\n",
       "        vertical-align: top;\n",
       "    }\n",
       "\n",
       "    .dataframe thead th {\n",
       "        text-align: right;\n",
       "    }\n",
       "</style>\n",
       "<table border=\"1\" class=\"dataframe\">\n",
       "  <thead>\n",
       "    <tr style=\"text-align: right;\">\n",
       "      <th></th>\n",
       "      <th>has_gas</th>\n",
       "      <th>origin_up</th>\n",
       "      <th>price_change_energy</th>\n",
       "      <th>cons_12m</th>\n",
       "      <th>forecast_cons_12m</th>\n",
       "      <th>forecast_discount_energy</th>\n",
       "      <th>forecast_meter_rent_12m</th>\n",
       "      <th>imp_cons</th>\n",
       "      <th>margin_gross_pow_ele</th>\n",
       "      <th>nb_prod_act</th>\n",
       "      <th>...</th>\n",
       "      <th>previous_price</th>\n",
       "      <th>price_sens</th>\n",
       "      <th>end_year</th>\n",
       "      <th>modif_prod_month</th>\n",
       "      <th>renewal_year</th>\n",
       "      <th>renewal_month</th>\n",
       "      <th>diff_act_end</th>\n",
       "      <th>diff_act_modif</th>\n",
       "      <th>diff_end_modif</th>\n",
       "      <th>ratio_last_month_last12m_cons</th>\n",
       "    </tr>\n",
       "  </thead>\n",
       "  <tbody>\n",
       "    <tr>\n",
       "      <th>7835</th>\n",
       "      <td>f</td>\n",
       "      <td>lxidpiddsbxsbosboudacockeimpuepw</td>\n",
       "      <td>decrease</td>\n",
       "      <td>62623</td>\n",
       "      <td>5636.69</td>\n",
       "      <td>0.0</td>\n",
       "      <td>129.60</td>\n",
       "      <td>405.53</td>\n",
       "      <td>13.76</td>\n",
       "      <td>1</td>\n",
       "      <td>...</td>\n",
       "      <td>0.113567</td>\n",
       "      <td>18.190599</td>\n",
       "      <td>2016</td>\n",
       "      <td>1</td>\n",
       "      <td>2015</td>\n",
       "      <td>3</td>\n",
       "      <td>1461</td>\n",
       "      <td>1401</td>\n",
       "      <td>60</td>\n",
       "      <td>0.073535</td>\n",
       "    </tr>\n",
       "    <tr>\n",
       "      <th>7058</th>\n",
       "      <td>f</td>\n",
       "      <td>kamkkxfxxuwbdslkwifmmcsiusiuosws</td>\n",
       "      <td>decrease</td>\n",
       "      <td>24673</td>\n",
       "      <td>3650.39</td>\n",
       "      <td>0.0</td>\n",
       "      <td>0.00</td>\n",
       "      <td>0.00</td>\n",
       "      <td>4.83</td>\n",
       "      <td>1</td>\n",
       "      <td>...</td>\n",
       "      <td>0.073848</td>\n",
       "      <td>41.060672</td>\n",
       "      <td>2016</td>\n",
       "      <td>11</td>\n",
       "      <td>2015</td>\n",
       "      <td>12</td>\n",
       "      <td>2557</td>\n",
       "      <td>0</td>\n",
       "      <td>2557</td>\n",
       "      <td>0.000000</td>\n",
       "    </tr>\n",
       "    <tr>\n",
       "      <th>935</th>\n",
       "      <td>f</td>\n",
       "      <td>ldkssxwpmemidmecebumciepifcamkci</td>\n",
       "      <td>decrease</td>\n",
       "      <td>2339</td>\n",
       "      <td>227.88</td>\n",
       "      <td>0.0</td>\n",
       "      <td>131.77</td>\n",
       "      <td>21.80</td>\n",
       "      <td>22.44</td>\n",
       "      <td>1</td>\n",
       "      <td>...</td>\n",
       "      <td>0.112147</td>\n",
       "      <td>17.713324</td>\n",
       "      <td>2016</td>\n",
       "      <td>7</td>\n",
       "      <td>2015</td>\n",
       "      <td>8</td>\n",
       "      <td>2557</td>\n",
       "      <td>2163</td>\n",
       "      <td>394</td>\n",
       "      <td>0.097050</td>\n",
       "    </tr>\n",
       "    <tr>\n",
       "      <th>11893</th>\n",
       "      <td>f</td>\n",
       "      <td>lxidpiddsbxsbosboudacockeimpuepw</td>\n",
       "      <td>decrease</td>\n",
       "      <td>5973</td>\n",
       "      <td>388.97</td>\n",
       "      <td>0.0</td>\n",
       "      <td>0.00</td>\n",
       "      <td>67.84</td>\n",
       "      <td>24.62</td>\n",
       "      <td>1</td>\n",
       "      <td>...</td>\n",
       "      <td>0.074933</td>\n",
       "      <td>24.044035</td>\n",
       "      <td>2016</td>\n",
       "      <td>11</td>\n",
       "      <td>2015</td>\n",
       "      <td>12</td>\n",
       "      <td>1461</td>\n",
       "      <td>1059</td>\n",
       "      <td>402</td>\n",
       "      <td>0.178302</td>\n",
       "    </tr>\n",
       "    <tr>\n",
       "      <th>3007</th>\n",
       "      <td>f</td>\n",
       "      <td>lxidpiddsbxsbosboudacockeimpuepw</td>\n",
       "      <td>decrease</td>\n",
       "      <td>2059</td>\n",
       "      <td>260.77</td>\n",
       "      <td>0.0</td>\n",
       "      <td>14.34</td>\n",
       "      <td>18.33</td>\n",
       "      <td>14.53</td>\n",
       "      <td>1</td>\n",
       "      <td>...</td>\n",
       "      <td>0.127125</td>\n",
       "      <td>-2716.204844</td>\n",
       "      <td>2016</td>\n",
       "      <td>9</td>\n",
       "      <td>2015</td>\n",
       "      <td>9</td>\n",
       "      <td>1481</td>\n",
       "      <td>750</td>\n",
       "      <td>731</td>\n",
       "      <td>0.073822</td>\n",
       "    </tr>\n",
       "    <tr>\n",
       "      <th>...</th>\n",
       "      <td>...</td>\n",
       "      <td>...</td>\n",
       "      <td>...</td>\n",
       "      <td>...</td>\n",
       "      <td>...</td>\n",
       "      <td>...</td>\n",
       "      <td>...</td>\n",
       "      <td>...</td>\n",
       "      <td>...</td>\n",
       "      <td>...</td>\n",
       "      <td>...</td>\n",
       "      <td>...</td>\n",
       "      <td>...</td>\n",
       "      <td>...</td>\n",
       "      <td>...</td>\n",
       "      <td>...</td>\n",
       "      <td>...</td>\n",
       "      <td>...</td>\n",
       "      <td>...</td>\n",
       "      <td>...</td>\n",
       "      <td>...</td>\n",
       "    </tr>\n",
       "    <tr>\n",
       "      <th>1034</th>\n",
       "      <td>f</td>\n",
       "      <td>lxidpiddsbxsbosboudacockeimpuepw</td>\n",
       "      <td>decrease</td>\n",
       "      <td>1251</td>\n",
       "      <td>119.55</td>\n",
       "      <td>0.0</td>\n",
       "      <td>146.53</td>\n",
       "      <td>7.33</td>\n",
       "      <td>49.44</td>\n",
       "      <td>1</td>\n",
       "      <td>...</td>\n",
       "      <td>0.114066</td>\n",
       "      <td>18.394221</td>\n",
       "      <td>2016</td>\n",
       "      <td>2</td>\n",
       "      <td>2015</td>\n",
       "      <td>2</td>\n",
       "      <td>1461</td>\n",
       "      <td>0</td>\n",
       "      <td>1461</td>\n",
       "      <td>0.062350</td>\n",
       "    </tr>\n",
       "    <tr>\n",
       "      <th>9554</th>\n",
       "      <td>t</td>\n",
       "      <td>lxidpiddsbxsbosboudacockeimpuepw</td>\n",
       "      <td>decrease</td>\n",
       "      <td>44785</td>\n",
       "      <td>4509.22</td>\n",
       "      <td>0.0</td>\n",
       "      <td>130.31</td>\n",
       "      <td>328.55</td>\n",
       "      <td>1.59</td>\n",
       "      <td>2</td>\n",
       "      <td>...</td>\n",
       "      <td>0.112963</td>\n",
       "      <td>19.230034</td>\n",
       "      <td>2016</td>\n",
       "      <td>11</td>\n",
       "      <td>2015</td>\n",
       "      <td>12</td>\n",
       "      <td>2192</td>\n",
       "      <td>1437</td>\n",
       "      <td>755</td>\n",
       "      <td>0.076008</td>\n",
       "    </tr>\n",
       "    <tr>\n",
       "      <th>5079</th>\n",
       "      <td>f</td>\n",
       "      <td>lxidpiddsbxsbosboudacockeimpuepw</td>\n",
       "      <td>decrease</td>\n",
       "      <td>3819</td>\n",
       "      <td>573.00</td>\n",
       "      <td>0.0</td>\n",
       "      <td>18.72</td>\n",
       "      <td>0.00</td>\n",
       "      <td>33.12</td>\n",
       "      <td>1</td>\n",
       "      <td>...</td>\n",
       "      <td>0.075014</td>\n",
       "      <td>17.281933</td>\n",
       "      <td>2016</td>\n",
       "      <td>12</td>\n",
       "      <td>2015</td>\n",
       "      <td>2</td>\n",
       "      <td>2191</td>\n",
       "      <td>2144</td>\n",
       "      <td>47</td>\n",
       "      <td>0.000000</td>\n",
       "    </tr>\n",
       "    <tr>\n",
       "      <th>10947</th>\n",
       "      <td>f</td>\n",
       "      <td>ldkssxwpmemidmecebumciepifcamkci</td>\n",
       "      <td>decrease</td>\n",
       "      <td>42144</td>\n",
       "      <td>3860.98</td>\n",
       "      <td>0.0</td>\n",
       "      <td>131.37</td>\n",
       "      <td>44.32</td>\n",
       "      <td>21.16</td>\n",
       "      <td>1</td>\n",
       "      <td>...</td>\n",
       "      <td>0.112523</td>\n",
       "      <td>18.525477</td>\n",
       "      <td>2016</td>\n",
       "      <td>6</td>\n",
       "      <td>2015</td>\n",
       "      <td>6</td>\n",
       "      <td>2557</td>\n",
       "      <td>0</td>\n",
       "      <td>2557</td>\n",
       "      <td>0.011698</td>\n",
       "    </tr>\n",
       "    <tr>\n",
       "      <th>6441</th>\n",
       "      <td>f</td>\n",
       "      <td>lxidpiddsbxsbosboudacockeimpuepw</td>\n",
       "      <td>decrease</td>\n",
       "      <td>1225</td>\n",
       "      <td>179.65</td>\n",
       "      <td>0.0</td>\n",
       "      <td>16.56</td>\n",
       "      <td>28.85</td>\n",
       "      <td>12.36</td>\n",
       "      <td>1</td>\n",
       "      <td>...</td>\n",
       "      <td>0.073711</td>\n",
       "      <td>21.852782</td>\n",
       "      <td>2016</td>\n",
       "      <td>6</td>\n",
       "      <td>2015</td>\n",
       "      <td>9</td>\n",
       "      <td>1826</td>\n",
       "      <td>1384</td>\n",
       "      <td>442</td>\n",
       "      <td>0.164082</td>\n",
       "    </tr>\n",
       "  </tbody>\n",
       "</table>\n",
       "<p>10038 rows × 24 columns</p>\n",
       "</div>"
      ],
      "text/plain": [
       "      has_gas                         origin_up price_change_energy  cons_12m  \\\n",
       "7835        f  lxidpiddsbxsbosboudacockeimpuepw            decrease     62623   \n",
       "7058        f  kamkkxfxxuwbdslkwifmmcsiusiuosws            decrease     24673   \n",
       "935         f  ldkssxwpmemidmecebumciepifcamkci            decrease      2339   \n",
       "11893       f  lxidpiddsbxsbosboudacockeimpuepw            decrease      5973   \n",
       "3007        f  lxidpiddsbxsbosboudacockeimpuepw            decrease      2059   \n",
       "...       ...                               ...                 ...       ...   \n",
       "1034        f  lxidpiddsbxsbosboudacockeimpuepw            decrease      1251   \n",
       "9554        t  lxidpiddsbxsbosboudacockeimpuepw            decrease     44785   \n",
       "5079        f  lxidpiddsbxsbosboudacockeimpuepw            decrease      3819   \n",
       "10947       f  ldkssxwpmemidmecebumciepifcamkci            decrease     42144   \n",
       "6441        f  lxidpiddsbxsbosboudacockeimpuepw            decrease      1225   \n",
       "\n",
       "       forecast_cons_12m  forecast_discount_energy  forecast_meter_rent_12m  \\\n",
       "7835             5636.69                       0.0                   129.60   \n",
       "7058             3650.39                       0.0                     0.00   \n",
       "935               227.88                       0.0                   131.77   \n",
       "11893             388.97                       0.0                     0.00   \n",
       "3007              260.77                       0.0                    14.34   \n",
       "...                  ...                       ...                      ...   \n",
       "1034              119.55                       0.0                   146.53   \n",
       "9554             4509.22                       0.0                   130.31   \n",
       "5079              573.00                       0.0                    18.72   \n",
       "10947            3860.98                       0.0                   131.37   \n",
       "6441              179.65                       0.0                    16.56   \n",
       "\n",
       "       imp_cons  margin_gross_pow_ele  nb_prod_act  ...  previous_price  \\\n",
       "7835     405.53                 13.76            1  ...        0.113567   \n",
       "7058       0.00                  4.83            1  ...        0.073848   \n",
       "935       21.80                 22.44            1  ...        0.112147   \n",
       "11893     67.84                 24.62            1  ...        0.074933   \n",
       "3007      18.33                 14.53            1  ...        0.127125   \n",
       "...         ...                   ...          ...  ...             ...   \n",
       "1034       7.33                 49.44            1  ...        0.114066   \n",
       "9554     328.55                  1.59            2  ...        0.112963   \n",
       "5079       0.00                 33.12            1  ...        0.075014   \n",
       "10947     44.32                 21.16            1  ...        0.112523   \n",
       "6441      28.85                 12.36            1  ...        0.073711   \n",
       "\n",
       "        price_sens  end_year  modif_prod_month  renewal_year  renewal_month  \\\n",
       "7835     18.190599      2016                 1          2015              3   \n",
       "7058     41.060672      2016                11          2015             12   \n",
       "935      17.713324      2016                 7          2015              8   \n",
       "11893    24.044035      2016                11          2015             12   \n",
       "3007  -2716.204844      2016                 9          2015              9   \n",
       "...            ...       ...               ...           ...            ...   \n",
       "1034     18.394221      2016                 2          2015              2   \n",
       "9554     19.230034      2016                11          2015             12   \n",
       "5079     17.281933      2016                12          2015              2   \n",
       "10947    18.525477      2016                 6          2015              6   \n",
       "6441     21.852782      2016                 6          2015              9   \n",
       "\n",
       "       diff_act_end  diff_act_modif  diff_end_modif  \\\n",
       "7835           1461            1401              60   \n",
       "7058           2557               0            2557   \n",
       "935            2557            2163             394   \n",
       "11893          1461            1059             402   \n",
       "3007           1481             750             731   \n",
       "...             ...             ...             ...   \n",
       "1034           1461               0            1461   \n",
       "9554           2192            1437             755   \n",
       "5079           2191            2144              47   \n",
       "10947          2557               0            2557   \n",
       "6441           1826            1384             442   \n",
       "\n",
       "       ratio_last_month_last12m_cons  \n",
       "7835                        0.073535  \n",
       "7058                        0.000000  \n",
       "935                         0.097050  \n",
       "11893                       0.178302  \n",
       "3007                        0.073822  \n",
       "...                              ...  \n",
       "1034                        0.062350  \n",
       "9554                        0.076008  \n",
       "5079                        0.000000  \n",
       "10947                       0.011698  \n",
       "6441                        0.164082  \n",
       "\n",
       "[10038 rows x 24 columns]"
      ]
     },
     "execution_count": 559,
     "metadata": {},
     "output_type": "execute_result"
    }
   ],
   "source": [
    "# Getting the train_X and test_X with the selected features \n",
    "new_train_X = train_X[select_ftr]\n",
    "new_test_X = test_X[select_ftr]\n",
    "new_train_X"
   ]
  },
  {
   "cell_type": "code",
   "execution_count": 21,
   "metadata": {},
   "outputs": [
    {
     "data": {
      "text/html": [
       "<div>\n",
       "<style scoped>\n",
       "    .dataframe tbody tr th:only-of-type {\n",
       "        vertical-align: middle;\n",
       "    }\n",
       "\n",
       "    .dataframe tbody tr th {\n",
       "        vertical-align: top;\n",
       "    }\n",
       "\n",
       "    .dataframe thead th {\n",
       "        text-align: right;\n",
       "    }\n",
       "</style>\n",
       "<table border=\"1\" class=\"dataframe\">\n",
       "  <thead>\n",
       "    <tr style=\"text-align: right;\">\n",
       "      <th></th>\n",
       "      <th>has_gas</th>\n",
       "      <th>origin_up</th>\n",
       "      <th>price_change_energy</th>\n",
       "      <th>cons_12m</th>\n",
       "      <th>forecast_cons_12m</th>\n",
       "      <th>forecast_discount_energy</th>\n",
       "      <th>forecast_meter_rent_12m</th>\n",
       "      <th>imp_cons</th>\n",
       "      <th>margin_gross_pow_ele</th>\n",
       "      <th>nb_prod_act</th>\n",
       "      <th>...</th>\n",
       "      <th>previous_price</th>\n",
       "      <th>price_sens</th>\n",
       "      <th>end_year</th>\n",
       "      <th>modif_prod_month</th>\n",
       "      <th>renewal_year</th>\n",
       "      <th>renewal_month</th>\n",
       "      <th>diff_act_end</th>\n",
       "      <th>diff_act_modif</th>\n",
       "      <th>diff_end_modif</th>\n",
       "      <th>ratio_last_month_last12m_cons</th>\n",
       "    </tr>\n",
       "  </thead>\n",
       "  <tbody>\n",
       "    <tr>\n",
       "      <th>1</th>\n",
       "      <td>f</td>\n",
       "      <td>kamkkxfxxuwbdslkwifmmcsiusiuosws</td>\n",
       "      <td>decrease</td>\n",
       "      <td>0.000751</td>\n",
       "      <td>0.002291</td>\n",
       "      <td>0.0</td>\n",
       "      <td>0.027148</td>\n",
       "      <td>0.000000</td>\n",
       "      <td>0.043722</td>\n",
       "      <td>0.000000</td>\n",
       "      <td>...</td>\n",
       "      <td>0.351456</td>\n",
       "      <td>0.050352</td>\n",
       "      <td>0.0</td>\n",
       "      <td>0.636364</td>\n",
       "      <td>0.666667</td>\n",
       "      <td>0.636364</td>\n",
       "      <td>0.451526</td>\n",
       "      <td>0.012884</td>\n",
       "      <td>0.537402</td>\n",
       "      <td>0.000000</td>\n",
       "    </tr>\n",
       "    <tr>\n",
       "      <th>2</th>\n",
       "      <td>f</td>\n",
       "      <td>kamkkxfxxuwbdslkwifmmcsiusiuosws</td>\n",
       "      <td>decrease</td>\n",
       "      <td>0.000087</td>\n",
       "      <td>0.000579</td>\n",
       "      <td>0.0</td>\n",
       "      <td>0.064608</td>\n",
       "      <td>0.000000</td>\n",
       "      <td>0.076340</td>\n",
       "      <td>0.000000</td>\n",
       "      <td>...</td>\n",
       "      <td>0.580630</td>\n",
       "      <td>0.050598</td>\n",
       "      <td>0.0</td>\n",
       "      <td>0.272727</td>\n",
       "      <td>0.666667</td>\n",
       "      <td>0.272727</td>\n",
       "      <td>0.359498</td>\n",
       "      <td>0.012884</td>\n",
       "      <td>0.458148</td>\n",
       "      <td>0.000000</td>\n",
       "    </tr>\n",
       "    <tr>\n",
       "      <th>3</th>\n",
       "      <td>f</td>\n",
       "      <td>kamkkxfxxuwbdslkwifmmcsiusiuosws</td>\n",
       "      <td>decrease</td>\n",
       "      <td>0.000255</td>\n",
       "      <td>0.002895</td>\n",
       "      <td>0.0</td>\n",
       "      <td>0.033088</td>\n",
       "      <td>0.000000</td>\n",
       "      <td>0.080664</td>\n",
       "      <td>0.000000</td>\n",
       "      <td>...</td>\n",
       "      <td>0.339073</td>\n",
       "      <td>0.050468</td>\n",
       "      <td>0.0</td>\n",
       "      <td>0.181818</td>\n",
       "      <td>0.666667</td>\n",
       "      <td>0.181818</td>\n",
       "      <td>0.359498</td>\n",
       "      <td>0.012884</td>\n",
       "      <td>0.458148</td>\n",
       "      <td>0.000000</td>\n",
       "    </tr>\n",
       "    <tr>\n",
       "      <th>4</th>\n",
       "      <td>f</td>\n",
       "      <td>kamkkxfxxuwbdslkwifmmcsiusiuosws</td>\n",
       "      <td>decrease</td>\n",
       "      <td>0.000713</td>\n",
       "      <td>0.005377</td>\n",
       "      <td>0.0</td>\n",
       "      <td>0.219803</td>\n",
       "      <td>0.003478</td>\n",
       "      <td>0.119875</td>\n",
       "      <td>0.000000</td>\n",
       "      <td>...</td>\n",
       "      <td>0.510846</td>\n",
       "      <td>0.050393</td>\n",
       "      <td>0.0</td>\n",
       "      <td>0.000000</td>\n",
       "      <td>0.666667</td>\n",
       "      <td>0.181818</td>\n",
       "      <td>0.372539</td>\n",
       "      <td>0.012884</td>\n",
       "      <td>0.469379</td>\n",
       "      <td>0.093135</td>\n",
       "    </tr>\n",
       "    <tr>\n",
       "      <th>5</th>\n",
       "      <td>f</td>\n",
       "      <td>lxidpiddsbxsbosboudacockeimpuepw</td>\n",
       "      <td>decrease</td>\n",
       "      <td>0.001337</td>\n",
       "      <td>0.009613</td>\n",
       "      <td>0.0</td>\n",
       "      <td>0.050258</td>\n",
       "      <td>0.012046</td>\n",
       "      <td>0.088405</td>\n",
       "      <td>0.000000</td>\n",
       "      <td>...</td>\n",
       "      <td>0.575366</td>\n",
       "      <td>0.050565</td>\n",
       "      <td>0.0</td>\n",
       "      <td>0.909091</td>\n",
       "      <td>0.666667</td>\n",
       "      <td>1.000000</td>\n",
       "      <td>0.269685</td>\n",
       "      <td>0.334539</td>\n",
       "      <td>0.079254</td>\n",
       "      <td>0.188562</td>\n",
       "    </tr>\n",
       "    <tr>\n",
       "      <th>...</th>\n",
       "      <td>...</td>\n",
       "      <td>...</td>\n",
       "      <td>...</td>\n",
       "      <td>...</td>\n",
       "      <td>...</td>\n",
       "      <td>...</td>\n",
       "      <td>...</td>\n",
       "      <td>...</td>\n",
       "      <td>...</td>\n",
       "      <td>...</td>\n",
       "      <td>...</td>\n",
       "      <td>...</td>\n",
       "      <td>...</td>\n",
       "      <td>...</td>\n",
       "      <td>...</td>\n",
       "      <td>...</td>\n",
       "      <td>...</td>\n",
       "      <td>...</td>\n",
       "      <td>...</td>\n",
       "      <td>...</td>\n",
       "      <td>...</td>\n",
       "    </tr>\n",
       "    <tr>\n",
       "      <th>14537</th>\n",
       "      <td>t</td>\n",
       "      <td>lxidpiddsbxsbosboudacockeimpuepw</td>\n",
       "      <td>decrease</td>\n",
       "      <td>0.005199</td>\n",
       "      <td>0.056066</td>\n",
       "      <td>0.0</td>\n",
       "      <td>0.030986</td>\n",
       "      <td>0.000000</td>\n",
       "      <td>0.074418</td>\n",
       "      <td>0.032258</td>\n",
       "      <td>...</td>\n",
       "      <td>0.323184</td>\n",
       "      <td>0.050411</td>\n",
       "      <td>0.0</td>\n",
       "      <td>0.363636</td>\n",
       "      <td>0.333333</td>\n",
       "      <td>0.363636</td>\n",
       "      <td>0.175689</td>\n",
       "      <td>0.256781</td>\n",
       "      <td>0.071202</td>\n",
       "      <td>0.000000</td>\n",
       "    </tr>\n",
       "    <tr>\n",
       "      <th>14538</th>\n",
       "      <td>f</td>\n",
       "      <td>lxidpiddsbxsbosboudacockeimpuepw</td>\n",
       "      <td>decrease</td>\n",
       "      <td>0.001164</td>\n",
       "      <td>0.007620</td>\n",
       "      <td>0.0</td>\n",
       "      <td>0.240326</td>\n",
       "      <td>0.001060</td>\n",
       "      <td>0.000000</td>\n",
       "      <td>0.000000</td>\n",
       "      <td>...</td>\n",
       "      <td>0.453424</td>\n",
       "      <td>0.050388</td>\n",
       "      <td>0.0</td>\n",
       "      <td>0.636364</td>\n",
       "      <td>0.666667</td>\n",
       "      <td>0.636364</td>\n",
       "      <td>0.179626</td>\n",
       "      <td>0.012884</td>\n",
       "      <td>0.303242</td>\n",
       "      <td>0.019634</td>\n",
       "    </tr>\n",
       "    <tr>\n",
       "      <th>14539</th>\n",
       "      <td>f</td>\n",
       "      <td>lxidpiddsbxsbosboudacockeimpuepw</td>\n",
       "      <td>decrease</td>\n",
       "      <td>0.000297</td>\n",
       "      <td>0.002297</td>\n",
       "      <td>0.0</td>\n",
       "      <td>0.216249</td>\n",
       "      <td>0.001200</td>\n",
       "      <td>0.106342</td>\n",
       "      <td>0.000000</td>\n",
       "      <td>...</td>\n",
       "      <td>0.511562</td>\n",
       "      <td>0.050388</td>\n",
       "      <td>0.0</td>\n",
       "      <td>0.090909</td>\n",
       "      <td>0.666667</td>\n",
       "      <td>0.090909</td>\n",
       "      <td>0.179380</td>\n",
       "      <td>0.012884</td>\n",
       "      <td>0.303030</td>\n",
       "      <td>0.076056</td>\n",
       "    </tr>\n",
       "    <tr>\n",
       "      <th>14540</th>\n",
       "      <td>f</td>\n",
       "      <td>lxidpiddsbxsbosboudacockeimpuepw</td>\n",
       "      <td>decrease</td>\n",
       "      <td>0.000021</td>\n",
       "      <td>0.000233</td>\n",
       "      <td>0.0</td>\n",
       "      <td>0.011980</td>\n",
       "      <td>0.000000</td>\n",
       "      <td>0.034914</td>\n",
       "      <td>0.000000</td>\n",
       "      <td>...</td>\n",
       "      <td>0.351456</td>\n",
       "      <td>0.050341</td>\n",
       "      <td>0.0</td>\n",
       "      <td>0.636364</td>\n",
       "      <td>0.666667</td>\n",
       "      <td>0.636364</td>\n",
       "      <td>0.179626</td>\n",
       "      <td>0.012884</td>\n",
       "      <td>0.303242</td>\n",
       "      <td>0.000000</td>\n",
       "    </tr>\n",
       "    <tr>\n",
       "      <th>14541</th>\n",
       "      <td>f</td>\n",
       "      <td>ldkssxwpmemidmecebumciepifcamkci</td>\n",
       "      <td>decrease</td>\n",
       "      <td>0.001406</td>\n",
       "      <td>0.009196</td>\n",
       "      <td>0.0</td>\n",
       "      <td>0.001785</td>\n",
       "      <td>0.000000</td>\n",
       "      <td>0.031604</td>\n",
       "      <td>0.000000</td>\n",
       "      <td>...</td>\n",
       "      <td>0.574066</td>\n",
       "      <td>0.054158</td>\n",
       "      <td>0.0</td>\n",
       "      <td>1.000000</td>\n",
       "      <td>0.666667</td>\n",
       "      <td>1.000000</td>\n",
       "      <td>0.449065</td>\n",
       "      <td>0.012884</td>\n",
       "      <td>0.535283</td>\n",
       "      <td>0.000000</td>\n",
       "    </tr>\n",
       "  </tbody>\n",
       "</table>\n",
       "<p>14340 rows × 24 columns</p>\n",
       "</div>"
      ],
      "text/plain": [
       "      has_gas                         origin_up price_change_energy  cons_12m  \\\n",
       "1           f  kamkkxfxxuwbdslkwifmmcsiusiuosws            decrease  0.000751   \n",
       "2           f  kamkkxfxxuwbdslkwifmmcsiusiuosws            decrease  0.000087   \n",
       "3           f  kamkkxfxxuwbdslkwifmmcsiusiuosws            decrease  0.000255   \n",
       "4           f  kamkkxfxxuwbdslkwifmmcsiusiuosws            decrease  0.000713   \n",
       "5           f  lxidpiddsbxsbosboudacockeimpuepw            decrease  0.001337   \n",
       "...       ...                               ...                 ...       ...   \n",
       "14537       t  lxidpiddsbxsbosboudacockeimpuepw            decrease  0.005199   \n",
       "14538       f  lxidpiddsbxsbosboudacockeimpuepw            decrease  0.001164   \n",
       "14539       f  lxidpiddsbxsbosboudacockeimpuepw            decrease  0.000297   \n",
       "14540       f  lxidpiddsbxsbosboudacockeimpuepw            decrease  0.000021   \n",
       "14541       f  ldkssxwpmemidmecebumciepifcamkci            decrease  0.001406   \n",
       "\n",
       "       forecast_cons_12m  forecast_discount_energy  forecast_meter_rent_12m  \\\n",
       "1               0.002291                       0.0                 0.027148   \n",
       "2               0.000579                       0.0                 0.064608   \n",
       "3               0.002895                       0.0                 0.033088   \n",
       "4               0.005377                       0.0                 0.219803   \n",
       "5               0.009613                       0.0                 0.050258   \n",
       "...                  ...                       ...                      ...   \n",
       "14537           0.056066                       0.0                 0.030986   \n",
       "14538           0.007620                       0.0                 0.240326   \n",
       "14539           0.002297                       0.0                 0.216249   \n",
       "14540           0.000233                       0.0                 0.011980   \n",
       "14541           0.009196                       0.0                 0.001785   \n",
       "\n",
       "       imp_cons  margin_gross_pow_ele  nb_prod_act  ...  previous_price  \\\n",
       "1      0.000000              0.043722     0.000000  ...        0.351456   \n",
       "2      0.000000              0.076340     0.000000  ...        0.580630   \n",
       "3      0.000000              0.080664     0.000000  ...        0.339073   \n",
       "4      0.003478              0.119875     0.000000  ...        0.510846   \n",
       "5      0.012046              0.088405     0.000000  ...        0.575366   \n",
       "...         ...                   ...          ...  ...             ...   \n",
       "14537  0.000000              0.074418     0.032258  ...        0.323184   \n",
       "14538  0.001060              0.000000     0.000000  ...        0.453424   \n",
       "14539  0.001200              0.106342     0.000000  ...        0.511562   \n",
       "14540  0.000000              0.034914     0.000000  ...        0.351456   \n",
       "14541  0.000000              0.031604     0.000000  ...        0.574066   \n",
       "\n",
       "       price_sens  end_year  modif_prod_month  renewal_year  renewal_month  \\\n",
       "1        0.050352       0.0          0.636364      0.666667       0.636364   \n",
       "2        0.050598       0.0          0.272727      0.666667       0.272727   \n",
       "3        0.050468       0.0          0.181818      0.666667       0.181818   \n",
       "4        0.050393       0.0          0.000000      0.666667       0.181818   \n",
       "5        0.050565       0.0          0.909091      0.666667       1.000000   \n",
       "...           ...       ...               ...           ...            ...   \n",
       "14537    0.050411       0.0          0.363636      0.333333       0.363636   \n",
       "14538    0.050388       0.0          0.636364      0.666667       0.636364   \n",
       "14539    0.050388       0.0          0.090909      0.666667       0.090909   \n",
       "14540    0.050341       0.0          0.636364      0.666667       0.636364   \n",
       "14541    0.054158       0.0          1.000000      0.666667       1.000000   \n",
       "\n",
       "       diff_act_end  diff_act_modif  diff_end_modif  \\\n",
       "1          0.451526        0.012884        0.537402   \n",
       "2          0.359498        0.012884        0.458148   \n",
       "3          0.359498        0.012884        0.458148   \n",
       "4          0.372539        0.012884        0.469379   \n",
       "5          0.269685        0.334539        0.079254   \n",
       "...             ...             ...             ...   \n",
       "14537      0.175689        0.256781        0.071202   \n",
       "14538      0.179626        0.012884        0.303242   \n",
       "14539      0.179380        0.012884        0.303030   \n",
       "14540      0.179626        0.012884        0.303242   \n",
       "14541      0.449065        0.012884        0.535283   \n",
       "\n",
       "       ratio_last_month_last12m_cons  \n",
       "1                           0.000000  \n",
       "2                           0.000000  \n",
       "3                           0.000000  \n",
       "4                           0.093135  \n",
       "5                           0.188562  \n",
       "...                              ...  \n",
       "14537                       0.000000  \n",
       "14538                       0.019634  \n",
       "14539                       0.076056  \n",
       "14540                       0.000000  \n",
       "14541                       0.000000  \n",
       "\n",
       "[14340 rows x 24 columns]"
      ]
     },
     "execution_count": 21,
     "metadata": {},
     "output_type": "execute_result"
    }
   ],
   "source": [
    "# Scaling numerical features \n",
    "scaler = SklearnTransformerWrapper(MinMaxScaler())\n",
    "df_int = scaler.fit_transform(df_int)\n",
    "df_int"
   ]
  },
  {
   "cell_type": "code",
   "execution_count": 22,
   "metadata": {
    "scrolled": true
   },
   "outputs": [
    {
     "data": {
      "text/html": [
       "<div>\n",
       "<style scoped>\n",
       "    .dataframe tbody tr th:only-of-type {\n",
       "        vertical-align: middle;\n",
       "    }\n",
       "\n",
       "    .dataframe tbody tr th {\n",
       "        vertical-align: top;\n",
       "    }\n",
       "\n",
       "    .dataframe thead th {\n",
       "        text-align: right;\n",
       "    }\n",
       "</style>\n",
       "<table border=\"1\" class=\"dataframe\">\n",
       "  <thead>\n",
       "    <tr style=\"text-align: right;\">\n",
       "      <th></th>\n",
       "      <th>has_gas</th>\n",
       "      <th>origin_up</th>\n",
       "      <th>price_change_energy</th>\n",
       "      <th>cons_12m</th>\n",
       "      <th>forecast_cons_12m</th>\n",
       "      <th>forecast_discount_energy</th>\n",
       "      <th>forecast_meter_rent_12m</th>\n",
       "      <th>imp_cons</th>\n",
       "      <th>margin_gross_pow_ele</th>\n",
       "      <th>nb_prod_act</th>\n",
       "      <th>...</th>\n",
       "      <th>previous_price</th>\n",
       "      <th>price_sens</th>\n",
       "      <th>end_year</th>\n",
       "      <th>modif_prod_month</th>\n",
       "      <th>renewal_year</th>\n",
       "      <th>renewal_month</th>\n",
       "      <th>diff_act_end</th>\n",
       "      <th>diff_act_modif</th>\n",
       "      <th>diff_end_modif</th>\n",
       "      <th>ratio_last_month_last12m_cons</th>\n",
       "    </tr>\n",
       "  </thead>\n",
       "  <tbody>\n",
       "    <tr>\n",
       "      <th>1</th>\n",
       "      <td>11728</td>\n",
       "      <td>4272</td>\n",
       "      <td>13702</td>\n",
       "      <td>0.000751</td>\n",
       "      <td>0.002291</td>\n",
       "      <td>0.0</td>\n",
       "      <td>0.027148</td>\n",
       "      <td>0.000000</td>\n",
       "      <td>0.043722</td>\n",
       "      <td>0.000000</td>\n",
       "      <td>...</td>\n",
       "      <td>0.351456</td>\n",
       "      <td>0.050352</td>\n",
       "      <td>0.0</td>\n",
       "      <td>0.636364</td>\n",
       "      <td>0.666667</td>\n",
       "      <td>0.636364</td>\n",
       "      <td>0.451526</td>\n",
       "      <td>0.012884</td>\n",
       "      <td>0.537402</td>\n",
       "      <td>0.000000</td>\n",
       "    </tr>\n",
       "    <tr>\n",
       "      <th>2</th>\n",
       "      <td>11728</td>\n",
       "      <td>4272</td>\n",
       "      <td>13702</td>\n",
       "      <td>0.000087</td>\n",
       "      <td>0.000579</td>\n",
       "      <td>0.0</td>\n",
       "      <td>0.064608</td>\n",
       "      <td>0.000000</td>\n",
       "      <td>0.076340</td>\n",
       "      <td>0.000000</td>\n",
       "      <td>...</td>\n",
       "      <td>0.580630</td>\n",
       "      <td>0.050598</td>\n",
       "      <td>0.0</td>\n",
       "      <td>0.272727</td>\n",
       "      <td>0.666667</td>\n",
       "      <td>0.272727</td>\n",
       "      <td>0.359498</td>\n",
       "      <td>0.012884</td>\n",
       "      <td>0.458148</td>\n",
       "      <td>0.000000</td>\n",
       "    </tr>\n",
       "    <tr>\n",
       "      <th>3</th>\n",
       "      <td>11728</td>\n",
       "      <td>4272</td>\n",
       "      <td>13702</td>\n",
       "      <td>0.000255</td>\n",
       "      <td>0.002895</td>\n",
       "      <td>0.0</td>\n",
       "      <td>0.033088</td>\n",
       "      <td>0.000000</td>\n",
       "      <td>0.080664</td>\n",
       "      <td>0.000000</td>\n",
       "      <td>...</td>\n",
       "      <td>0.339073</td>\n",
       "      <td>0.050468</td>\n",
       "      <td>0.0</td>\n",
       "      <td>0.181818</td>\n",
       "      <td>0.666667</td>\n",
       "      <td>0.181818</td>\n",
       "      <td>0.359498</td>\n",
       "      <td>0.012884</td>\n",
       "      <td>0.458148</td>\n",
       "      <td>0.000000</td>\n",
       "    </tr>\n",
       "    <tr>\n",
       "      <th>4</th>\n",
       "      <td>11728</td>\n",
       "      <td>4272</td>\n",
       "      <td>13702</td>\n",
       "      <td>0.000713</td>\n",
       "      <td>0.005377</td>\n",
       "      <td>0.0</td>\n",
       "      <td>0.219803</td>\n",
       "      <td>0.003478</td>\n",
       "      <td>0.119875</td>\n",
       "      <td>0.000000</td>\n",
       "      <td>...</td>\n",
       "      <td>0.510846</td>\n",
       "      <td>0.050393</td>\n",
       "      <td>0.0</td>\n",
       "      <td>0.000000</td>\n",
       "      <td>0.666667</td>\n",
       "      <td>0.181818</td>\n",
       "      <td>0.372539</td>\n",
       "      <td>0.012884</td>\n",
       "      <td>0.469379</td>\n",
       "      <td>0.093135</td>\n",
       "    </tr>\n",
       "    <tr>\n",
       "      <th>5</th>\n",
       "      <td>11728</td>\n",
       "      <td>7009</td>\n",
       "      <td>13702</td>\n",
       "      <td>0.001337</td>\n",
       "      <td>0.009613</td>\n",
       "      <td>0.0</td>\n",
       "      <td>0.050258</td>\n",
       "      <td>0.012046</td>\n",
       "      <td>0.088405</td>\n",
       "      <td>0.000000</td>\n",
       "      <td>...</td>\n",
       "      <td>0.575366</td>\n",
       "      <td>0.050565</td>\n",
       "      <td>0.0</td>\n",
       "      <td>0.909091</td>\n",
       "      <td>0.666667</td>\n",
       "      <td>1.000000</td>\n",
       "      <td>0.269685</td>\n",
       "      <td>0.334539</td>\n",
       "      <td>0.079254</td>\n",
       "      <td>0.188562</td>\n",
       "    </tr>\n",
       "    <tr>\n",
       "      <th>...</th>\n",
       "      <td>...</td>\n",
       "      <td>...</td>\n",
       "      <td>...</td>\n",
       "      <td>...</td>\n",
       "      <td>...</td>\n",
       "      <td>...</td>\n",
       "      <td>...</td>\n",
       "      <td>...</td>\n",
       "      <td>...</td>\n",
       "      <td>...</td>\n",
       "      <td>...</td>\n",
       "      <td>...</td>\n",
       "      <td>...</td>\n",
       "      <td>...</td>\n",
       "      <td>...</td>\n",
       "      <td>...</td>\n",
       "      <td>...</td>\n",
       "      <td>...</td>\n",
       "      <td>...</td>\n",
       "      <td>...</td>\n",
       "      <td>...</td>\n",
       "    </tr>\n",
       "    <tr>\n",
       "      <th>14537</th>\n",
       "      <td>2612</td>\n",
       "      <td>7009</td>\n",
       "      <td>13702</td>\n",
       "      <td>0.005199</td>\n",
       "      <td>0.056066</td>\n",
       "      <td>0.0</td>\n",
       "      <td>0.030986</td>\n",
       "      <td>0.000000</td>\n",
       "      <td>0.074418</td>\n",
       "      <td>0.032258</td>\n",
       "      <td>...</td>\n",
       "      <td>0.323184</td>\n",
       "      <td>0.050411</td>\n",
       "      <td>0.0</td>\n",
       "      <td>0.363636</td>\n",
       "      <td>0.333333</td>\n",
       "      <td>0.363636</td>\n",
       "      <td>0.175689</td>\n",
       "      <td>0.256781</td>\n",
       "      <td>0.071202</td>\n",
       "      <td>0.000000</td>\n",
       "    </tr>\n",
       "    <tr>\n",
       "      <th>14538</th>\n",
       "      <td>11728</td>\n",
       "      <td>7009</td>\n",
       "      <td>13702</td>\n",
       "      <td>0.001164</td>\n",
       "      <td>0.007620</td>\n",
       "      <td>0.0</td>\n",
       "      <td>0.240326</td>\n",
       "      <td>0.001060</td>\n",
       "      <td>0.000000</td>\n",
       "      <td>0.000000</td>\n",
       "      <td>...</td>\n",
       "      <td>0.453424</td>\n",
       "      <td>0.050388</td>\n",
       "      <td>0.0</td>\n",
       "      <td>0.636364</td>\n",
       "      <td>0.666667</td>\n",
       "      <td>0.636364</td>\n",
       "      <td>0.179626</td>\n",
       "      <td>0.012884</td>\n",
       "      <td>0.303242</td>\n",
       "      <td>0.019634</td>\n",
       "    </tr>\n",
       "    <tr>\n",
       "      <th>14539</th>\n",
       "      <td>11728</td>\n",
       "      <td>7009</td>\n",
       "      <td>13702</td>\n",
       "      <td>0.000297</td>\n",
       "      <td>0.002297</td>\n",
       "      <td>0.0</td>\n",
       "      <td>0.216249</td>\n",
       "      <td>0.001200</td>\n",
       "      <td>0.106342</td>\n",
       "      <td>0.000000</td>\n",
       "      <td>...</td>\n",
       "      <td>0.511562</td>\n",
       "      <td>0.050388</td>\n",
       "      <td>0.0</td>\n",
       "      <td>0.090909</td>\n",
       "      <td>0.666667</td>\n",
       "      <td>0.090909</td>\n",
       "      <td>0.179380</td>\n",
       "      <td>0.012884</td>\n",
       "      <td>0.303030</td>\n",
       "      <td>0.076056</td>\n",
       "    </tr>\n",
       "    <tr>\n",
       "      <th>14540</th>\n",
       "      <td>11728</td>\n",
       "      <td>7009</td>\n",
       "      <td>13702</td>\n",
       "      <td>0.000021</td>\n",
       "      <td>0.000233</td>\n",
       "      <td>0.0</td>\n",
       "      <td>0.011980</td>\n",
       "      <td>0.000000</td>\n",
       "      <td>0.034914</td>\n",
       "      <td>0.000000</td>\n",
       "      <td>...</td>\n",
       "      <td>0.351456</td>\n",
       "      <td>0.050341</td>\n",
       "      <td>0.0</td>\n",
       "      <td>0.636364</td>\n",
       "      <td>0.666667</td>\n",
       "      <td>0.636364</td>\n",
       "      <td>0.179626</td>\n",
       "      <td>0.012884</td>\n",
       "      <td>0.303242</td>\n",
       "      <td>0.000000</td>\n",
       "    </tr>\n",
       "    <tr>\n",
       "      <th>14541</th>\n",
       "      <td>11728</td>\n",
       "      <td>3056</td>\n",
       "      <td>13702</td>\n",
       "      <td>0.001406</td>\n",
       "      <td>0.009196</td>\n",
       "      <td>0.0</td>\n",
       "      <td>0.001785</td>\n",
       "      <td>0.000000</td>\n",
       "      <td>0.031604</td>\n",
       "      <td>0.000000</td>\n",
       "      <td>...</td>\n",
       "      <td>0.574066</td>\n",
       "      <td>0.054158</td>\n",
       "      <td>0.0</td>\n",
       "      <td>1.000000</td>\n",
       "      <td>0.666667</td>\n",
       "      <td>1.000000</td>\n",
       "      <td>0.449065</td>\n",
       "      <td>0.012884</td>\n",
       "      <td>0.535283</td>\n",
       "      <td>0.000000</td>\n",
       "    </tr>\n",
       "  </tbody>\n",
       "</table>\n",
       "<p>14340 rows × 24 columns</p>\n",
       "</div>"
      ],
      "text/plain": [
       "       has_gas  origin_up  price_change_energy  cons_12m  forecast_cons_12m  \\\n",
       "1        11728       4272                13702  0.000751           0.002291   \n",
       "2        11728       4272                13702  0.000087           0.000579   \n",
       "3        11728       4272                13702  0.000255           0.002895   \n",
       "4        11728       4272                13702  0.000713           0.005377   \n",
       "5        11728       7009                13702  0.001337           0.009613   \n",
       "...        ...        ...                  ...       ...                ...   \n",
       "14537     2612       7009                13702  0.005199           0.056066   \n",
       "14538    11728       7009                13702  0.001164           0.007620   \n",
       "14539    11728       7009                13702  0.000297           0.002297   \n",
       "14540    11728       7009                13702  0.000021           0.000233   \n",
       "14541    11728       3056                13702  0.001406           0.009196   \n",
       "\n",
       "       forecast_discount_energy  forecast_meter_rent_12m  imp_cons  \\\n",
       "1                           0.0                 0.027148  0.000000   \n",
       "2                           0.0                 0.064608  0.000000   \n",
       "3                           0.0                 0.033088  0.000000   \n",
       "4                           0.0                 0.219803  0.003478   \n",
       "5                           0.0                 0.050258  0.012046   \n",
       "...                         ...                      ...       ...   \n",
       "14537                       0.0                 0.030986  0.000000   \n",
       "14538                       0.0                 0.240326  0.001060   \n",
       "14539                       0.0                 0.216249  0.001200   \n",
       "14540                       0.0                 0.011980  0.000000   \n",
       "14541                       0.0                 0.001785  0.000000   \n",
       "\n",
       "       margin_gross_pow_ele  nb_prod_act  ...  previous_price  price_sens  \\\n",
       "1                  0.043722     0.000000  ...        0.351456    0.050352   \n",
       "2                  0.076340     0.000000  ...        0.580630    0.050598   \n",
       "3                  0.080664     0.000000  ...        0.339073    0.050468   \n",
       "4                  0.119875     0.000000  ...        0.510846    0.050393   \n",
       "5                  0.088405     0.000000  ...        0.575366    0.050565   \n",
       "...                     ...          ...  ...             ...         ...   \n",
       "14537              0.074418     0.032258  ...        0.323184    0.050411   \n",
       "14538              0.000000     0.000000  ...        0.453424    0.050388   \n",
       "14539              0.106342     0.000000  ...        0.511562    0.050388   \n",
       "14540              0.034914     0.000000  ...        0.351456    0.050341   \n",
       "14541              0.031604     0.000000  ...        0.574066    0.054158   \n",
       "\n",
       "       end_year  modif_prod_month  renewal_year  renewal_month  diff_act_end  \\\n",
       "1           0.0          0.636364      0.666667       0.636364      0.451526   \n",
       "2           0.0          0.272727      0.666667       0.272727      0.359498   \n",
       "3           0.0          0.181818      0.666667       0.181818      0.359498   \n",
       "4           0.0          0.000000      0.666667       0.181818      0.372539   \n",
       "5           0.0          0.909091      0.666667       1.000000      0.269685   \n",
       "...         ...               ...           ...            ...           ...   \n",
       "14537       0.0          0.363636      0.333333       0.363636      0.175689   \n",
       "14538       0.0          0.636364      0.666667       0.636364      0.179626   \n",
       "14539       0.0          0.090909      0.666667       0.090909      0.179380   \n",
       "14540       0.0          0.636364      0.666667       0.636364      0.179626   \n",
       "14541       0.0          1.000000      0.666667       1.000000      0.449065   \n",
       "\n",
       "       diff_act_modif  diff_end_modif  ratio_last_month_last12m_cons  \n",
       "1            0.012884        0.537402                       0.000000  \n",
       "2            0.012884        0.458148                       0.000000  \n",
       "3            0.012884        0.458148                       0.000000  \n",
       "4            0.012884        0.469379                       0.093135  \n",
       "5            0.334539        0.079254                       0.188562  \n",
       "...               ...             ...                            ...  \n",
       "14537        0.256781        0.071202                       0.000000  \n",
       "14538        0.012884        0.303242                       0.019634  \n",
       "14539        0.012884        0.303030                       0.076056  \n",
       "14540        0.012884        0.303242                       0.000000  \n",
       "14541        0.012884        0.535283                       0.000000  \n",
       "\n",
       "[14340 rows x 24 columns]"
      ]
     },
     "execution_count": 22,
     "metadata": {},
     "output_type": "execute_result"
    }
   ],
   "source": [
    "# Encoding categorical features \n",
    "enc = CountFrequencyEncoder()\n",
    "df_int = enc.fit_transform(df_int)\n",
    "df_int"
   ]
  },
  {
   "cell_type": "code",
   "execution_count": 23,
   "metadata": {},
   "outputs": [
    {
     "data": {
      "text/plain": [
       "RandomForestClassifier(max_depth=14, max_features=None, n_estimators=180)"
      ]
     },
     "execution_count": 23,
     "metadata": {},
     "output_type": "execute_result"
    }
   ],
   "source": [
    "# Importing the classifier\n",
    "model = pickle.load(open('best_model_PowerCo.sav', 'rb'))\n",
    "model"
   ]
  },
  {
   "cell_type": "code",
   "execution_count": 24,
   "metadata": {
    "scrolled": true
   },
   "outputs": [
    {
     "data": {
      "image/png": "[encoded data removed]",
      "text/plain": [
       "<Figure size 576x799.2 with 1 Axes>"
      ]
     },
     "metadata": {
      "needs_background": "light"
     },
     "output_type": "display_data"
    }
   ],
   "source": [
    "# The code to get shap values \n",
    "explainer = shap.TreeExplainer(model)\n",
    "shap_values = explainer.shap_values(df_int)\n",
    "\n",
    "# Plotting feature importance \n",
    "shap.summary_plot(shap_values[0], df_int, max_display=26, plot_type='bar')\n"
   ]
  },
  {
   "cell_type": "markdown",
   "metadata": {},
   "source": [
    "We can see from the visual above  that the three most important features for the model are \"pow_max\" which indicates the subscribed power, the net margin and \"end_year\" which indicates the registered year of the end of the contract.\n"
   ]
  },
  {
   "cell_type": "code",
   "execution_count": 26,
   "metadata": {},
   "outputs": [
    {
     "data": {
      "image/png": "[encoded data removed]",
      "text/plain": [
       "<Figure size 576x799.2 with 2 Axes>"
      ]
     },
     "metadata": {
      "needs_background": "light"
     },
     "output_type": "display_data"
    }
   ],
   "source": [
    "# Investigating the global effect of each feature on the model output(pushing it down or up).\n",
    "shap.summary_plot(shap_values[0], df_int, max_display=26)"
   ]
  },
  {
   "cell_type": "markdown",
   "metadata": {},
   "source": [
    "From this visual we can conclude that:\n",
    "\n",
    "- High subscribed power increases the chances of the clients to churn (impacts negatively the output of the model, pushing it towards zero) this may be a signal that large clients are not satisfied with  the prices that they are paying given the large quantities they are buying, which means that there are other companies giving them better prices. Another signal that the company is suffering from an exodus of it's big clients is that higher values of the feature forcast_cons_12m push the model to predict a churning client.\n",
    "\n",
    "- The churn is mainly driven by price related variables, since the decrease in the price energy during the previous year expressed using the feature \"price_change_energy\" decreases the chances of the clients leaving the company (this feature is categorical and was encoded using \"counting\" the category \"decrease\" has the highest value this why we see in the visual that large values of this feature impact the output of model negatively).\n",
    "\n",
    "- The clients that have a gas contract with the company are less likely to churn (according to the encoding of this feature \"f\" means high value and \"t\" means small value).\n",
    "\n",
    "\n"
   ]
  },
  {
   "cell_type": "code",
   "execution_count": 30,
   "metadata": {},
   "outputs": [
    {
     "data": {
      "text/plain": [
       "{'has_gas': {'f': 11728, 't': 2612},\n",
       " 'origin_up': {'lxidpiddsbxsbosboudacockeimpuepw': 7009,\n",
       "  'kamkkxfxxuwbdslkwifmmcsiusiuosws': 4272,\n",
       "  'ldkssxwpmemidmecebumciepifcamkci': 3056,\n",
       "  'Rare': 3},\n",
       " 'price_change_energy': {'decrease': 13702, 'increase': 625, 'stable': 13}}"
      ]
     },
     "execution_count": 30,
     "metadata": {},
     "output_type": "execute_result"
    }
   ],
   "source": [
    "# The encoding of categorical features that may help us interpret the model.\n",
    "enc.encoder_dict_"
   ]
  },
  {
   "cell_type": "code",
   "execution_count": null,
   "metadata": {},
   "outputs": [],
   "source": []
  }
 ],
 "metadata": {
  "colab": {
   "collapsed_sections": [],
   "provenance": []
  },
  "kernelspec": {
   "display_name": "Python 3",
   "language": "python",
   "name": "python3"
  },
  "language_info": {
   "codemirror_mode": {
    "name": "ipython",
    "version": 3
   },
   "file_extension": ".py",
   "mimetype": "text/x-python",
   "name": "python",
   "nbconvert_exporter": "python",
   "pygments_lexer": "ipython3",
   "version": "3.8.5"
  },
  "widgets": {
   "application/vnd.jupyter.widget-state+json": {
    "244cd423cd0f40bb92770babe179697e": {
     "model_module": "@jupyter-widgets/controls",
     "model_module_version": "1.5.0",
     "model_name": "HBoxModel",
     "state": {
      "_dom_classes": [],
      "_model_module": "@jupyter-widgets/controls",
      "_model_module_version": "1.5.0",
      "_model_name": "HBoxModel",
      "_view_count": null,
      "_view_module": "@jupyter-widgets/controls",
      "_view_module_version": "1.5.0",
      "_view_name": "HBoxView",
      "box_style": "",
      "children": [
       "IPY_MODEL_c81a547e43a544e8bda5bae91c61daf1",
       "IPY_MODEL_df66dba21afd459081b08beb99407ef9",
       "IPY_MODEL_5ba5ce67a44641b89b8571c4b9b78221"
      ],
      "layout": "IPY_MODEL_debf1f79445242f3b0c7626773ecaf2e"
     }
    },
    "364baa7d4dd84bb0a3180615b6f3eb45": {
     "model_module": "@jupyter-widgets/controls",
     "model_module_version": "1.5.0",
     "model_name": "DescriptionStyleModel",
     "state": {
      "_model_module": "@jupyter-widgets/controls",
      "_model_module_version": "1.5.0",
      "_model_name": "DescriptionStyleModel",
      "_view_count": null,
      "_view_module": "@jupyter-widgets/base",
      "_view_module_version": "1.2.0",
      "_view_name": "StyleView",
      "description_width": ""
     }
    },
    "57e0e384ee5946a783cf192e354c49e4": {
     "model_module": "@jupyter-widgets/base",
     "model_module_version": "1.2.0",
     "model_name": "LayoutModel",
     "state": {
      "_model_module": "@jupyter-widgets/base",
      "_model_module_version": "1.2.0",
      "_model_name": "LayoutModel",
      "_view_count": null,
      "_view_module": "@jupyter-widgets/base",
      "_view_module_version": "1.2.0",
      "_view_name": "LayoutView",
      "align_content": null,
      "align_items": null,
      "align_self": null,
      "border": null,
      "bottom": null,
      "display": null,
      "flex": null,
      "flex_flow": null,
      "grid_area": null,
      "grid_auto_columns": null,
      "grid_auto_flow": null,
      "grid_auto_rows": null,
      "grid_column": null,
      "grid_gap": null,
      "grid_row": null,
      "grid_template_areas": null,
      "grid_template_columns": null,
      "grid_template_rows": null,
      "height": null,
      "justify_content": null,
      "justify_items": null,
      "left": null,
      "margin": null,
      "max_height": null,
      "max_width": null,
      "min_height": null,
      "min_width": null,
      "object_fit": null,
      "object_position": null,
      "order": null,
      "overflow": null,
      "overflow_x": null,
      "overflow_y": null,
      "padding": null,
      "right": null,
      "top": null,
      "visibility": null,
      "width": null
     }
    },
    "5ba5ce67a44641b89b8571c4b9b78221": {
     "model_module": "@jupyter-widgets/controls",
     "model_module_version": "1.5.0",
     "model_name": "HTMLModel",
     "state": {
      "_dom_classes": [],
      "_model_module": "@jupyter-widgets/controls",
      "_model_module_version": "1.5.0",
      "_model_name": "HTMLModel",
      "_view_count": null,
      "_view_module": "@jupyter-widgets/controls",
      "_view_module_version": "1.5.0",
      "_view_name": "HTMLView",
      "description": "",
      "description_tooltip": null,
      "layout": "IPY_MODEL_57e0e384ee5946a783cf192e354c49e4",
      "placeholder": "​",
      "style": "IPY_MODEL_364baa7d4dd84bb0a3180615b6f3eb45",
      "value": " 200/200 [3:11:36&lt;00:00, 19.73s/it]"
     }
    },
    "5bccd4cdbd194d93aea5409df08e63a3": {
     "model_module": "@jupyter-widgets/base",
     "model_module_version": "1.2.0",
     "model_name": "LayoutModel",
     "state": {
      "_model_module": "@jupyter-widgets/base",
      "_model_module_version": "1.2.0",
      "_model_name": "LayoutModel",
      "_view_count": null,
      "_view_module": "@jupyter-widgets/base",
      "_view_module_version": "1.2.0",
      "_view_name": "LayoutView",
      "align_content": null,
      "align_items": null,
      "align_self": null,
      "border": null,
      "bottom": null,
      "display": null,
      "flex": null,
      "flex_flow": null,
      "grid_area": null,
      "grid_auto_columns": null,
      "grid_auto_flow": null,
      "grid_auto_rows": null,
      "grid_column": null,
      "grid_gap": null,
      "grid_row": null,
      "grid_template_areas": null,
      "grid_template_columns": null,
      "grid_template_rows": null,
      "height": null,
      "justify_content": null,
      "justify_items": null,
      "left": null,
      "margin": null,
      "max_height": null,
      "max_width": null,
      "min_height": null,
      "min_width": null,
      "object_fit": null,
      "object_position": null,
      "order": null,
      "overflow": null,
      "overflow_x": null,
      "overflow_y": null,
      "padding": null,
      "right": null,
      "top": null,
      "visibility": null,
      "width": null
     }
    },
    "6eebde42e11c4cfab2253176dc3f2bdf": {
     "model_module": "@jupyter-widgets/base",
     "model_module_version": "1.2.0",
     "model_name": "LayoutModel",
     "state": {
      "_model_module": "@jupyter-widgets/base",
      "_model_module_version": "1.2.0",
      "_model_name": "LayoutModel",
      "_view_count": null,
      "_view_module": "@jupyter-widgets/base",
      "_view_module_version": "1.2.0",
      "_view_name": "LayoutView",
      "align_content": null,
      "align_items": null,
      "align_self": null,
      "border": null,
      "bottom": null,
      "display": null,
      "flex": null,
      "flex_flow": null,
      "grid_area": null,
      "grid_auto_columns": null,
      "grid_auto_flow": null,
      "grid_auto_rows": null,
      "grid_column": null,
      "grid_gap": null,
      "grid_row": null,
      "grid_template_areas": null,
      "grid_template_columns": null,
      "grid_template_rows": null,
      "height": null,
      "justify_content": null,
      "justify_items": null,
      "left": null,
      "margin": null,
      "max_height": null,
      "max_width": null,
      "min_height": null,
      "min_width": null,
      "object_fit": null,
      "object_position": null,
      "order": null,
      "overflow": null,
      "overflow_x": null,
      "overflow_y": null,
      "padding": null,
      "right": null,
      "top": null,
      "visibility": null,
      "width": null
     }
    },
    "afa173865e49403b8a15294eb77f13e2": {
     "model_module": "@jupyter-widgets/controls",
     "model_module_version": "1.5.0",
     "model_name": "ProgressStyleModel",
     "state": {
      "_model_module": "@jupyter-widgets/controls",
      "_model_module_version": "1.5.0",
      "_model_name": "ProgressStyleModel",
      "_view_count": null,
      "_view_module": "@jupyter-widgets/base",
      "_view_module_version": "1.2.0",
      "_view_name": "StyleView",
      "bar_color": null,
      "description_width": ""
     }
    },
    "c81a547e43a544e8bda5bae91c61daf1": {
     "model_module": "@jupyter-widgets/controls",
     "model_module_version": "1.5.0",
     "model_name": "HTMLModel",
     "state": {
      "_dom_classes": [],
      "_model_module": "@jupyter-widgets/controls",
      "_model_module_version": "1.5.0",
      "_model_name": "HTMLModel",
      "_view_count": null,
      "_view_module": "@jupyter-widgets/controls",
      "_view_module_version": "1.5.0",
      "_view_name": "HTMLView",
      "description": "",
      "description_tooltip": null,
      "layout": "IPY_MODEL_5bccd4cdbd194d93aea5409df08e63a3",
      "placeholder": "​",
      "style": "IPY_MODEL_e935a2d8406741dbae1653f10a00c9c3",
      "value": "100%"
     }
    },
    "debf1f79445242f3b0c7626773ecaf2e": {
     "model_module": "@jupyter-widgets/base",
     "model_module_version": "1.2.0",
     "model_name": "LayoutModel",
     "state": {
      "_model_module": "@jupyter-widgets/base",
      "_model_module_version": "1.2.0",
      "_model_name": "LayoutModel",
      "_view_count": null,
      "_view_module": "@jupyter-widgets/base",
      "_view_module_version": "1.2.0",
      "_view_name": "LayoutView",
      "align_content": null,
      "align_items": null,
      "align_self": null,
      "border": null,
      "bottom": null,
      "display": null,
      "flex": null,
      "flex_flow": null,
      "grid_area": null,
      "grid_auto_columns": null,
      "grid_auto_flow": null,
      "grid_auto_rows": null,
      "grid_column": null,
      "grid_gap": null,
      "grid_row": null,
      "grid_template_areas": null,
      "grid_template_columns": null,
      "grid_template_rows": null,
      "height": null,
      "justify_content": null,
      "justify_items": null,
      "left": null,
      "margin": null,
      "max_height": null,
      "max_width": null,
      "min_height": null,
      "min_width": null,
      "object_fit": null,
      "object_position": null,
      "order": null,
      "overflow": null,
      "overflow_x": null,
      "overflow_y": null,
      "padding": null,
      "right": null,
      "top": null,
      "visibility": null,
      "width": null
     }
    },
    "df66dba21afd459081b08beb99407ef9": {
     "model_module": "@jupyter-widgets/controls",
     "model_module_version": "1.5.0",
     "model_name": "FloatProgressModel",
     "state": {
      "_dom_classes": [],
      "_model_module": "@jupyter-widgets/controls",
      "_model_module_version": "1.5.0",
      "_model_name": "FloatProgressModel",
      "_view_count": null,
      "_view_module": "@jupyter-widgets/controls",
      "_view_module_version": "1.5.0",
      "_view_name": "ProgressView",
      "bar_style": "success",
      "description": "",
      "description_tooltip": null,
      "layout": "IPY_MODEL_6eebde42e11c4cfab2253176dc3f2bdf",
      "max": 200,
      "min": 0,
      "orientation": "horizontal",
      "style": "IPY_MODEL_afa173865e49403b8a15294eb77f13e2",
      "value": 200
     }
    },
    "e935a2d8406741dbae1653f10a00c9c3": {
     "model_module": "@jupyter-widgets/controls",
     "model_module_version": "1.5.0",
     "model_name": "DescriptionStyleModel",
     "state": {
      "_model_module": "@jupyter-widgets/controls",
      "_model_module_version": "1.5.0",
      "_model_name": "DescriptionStyleModel",
      "_view_count": null,
      "_view_module": "@jupyter-widgets/base",
      "_view_module_version": "1.2.0",
      "_view_name": "StyleView",
      "description_width": ""
     }
    }
   }
  }
 },
 "nbformat": 4,
 "nbformat_minor": 1
}
